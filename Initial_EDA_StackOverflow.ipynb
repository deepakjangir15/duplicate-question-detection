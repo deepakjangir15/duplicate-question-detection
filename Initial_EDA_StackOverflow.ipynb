{
  "cells": [
    {
      "cell_type": "code",
      "execution_count": null,
      "metadata": {
        "id": "sYhsgZ1eA77-"
      },
      "outputs": [],
      "source": [
        "import pandas as pd\n",
        "import os\n",
        "\n",
        "\n",
        "stack_data_dup = pd.read_csv('/content/drive/MyDrive/unzipped/Stack Overflow/SO_duplicate.csv')"
      ]
    },
    {
      "cell_type": "code",
      "execution_count": null,
      "metadata": {
        "id": "1VgVZgoOBTLP"
      },
      "outputs": [],
      "source": [
        "stack_data_non_dup_p1 = pd.read_csv('/content/drive/MyDrive/unzipped/Stack Overflow/SO_Part1.csv')\n",
        "stack_data_non_dup_p2 = pd.read_csv('/content/drive/MyDrive/unzipped/Stack Overflow/SO_Part2.csv')"
      ]
    },
    {
      "cell_type": "code",
      "execution_count": null,
      "metadata": {
        "id": "8-3_KcNnBfXk"
      },
      "outputs": [],
      "source": [
        "stack_data_non_dup = pd.concat([stack_data_non_dup_p1,stack_data_non_dup_p2],axis=1)"
      ]
    },
    {
      "cell_type": "code",
      "execution_count": null,
      "metadata": {
        "id": "gioF5UHsBhA5"
      },
      "outputs": [],
      "source": [
        "# Missing values present in the columns\n",
        "def missing_values(df):\n",
        "  print(\"Missing Values\\n--------------\")\n",
        "  for col in df.columns:\n",
        "    print(\"Column \" + col + ' -- ' + str(sum(df[col].isna())))"
      ]
    },
    {
      "cell_type": "code",
      "execution_count": null,
      "metadata": {
        "colab": {
          "base_uri": "https://localhost:8080/"
        },
        "id": "noxRcPN8BjWX",
        "outputId": "f8e0982d-f6a0-4f27-e0d7-5f1418af4c63"
      },
      "outputs": [
        {
          "output_type": "stream",
          "name": "stdout",
          "text": [
            "Missing Values\n",
            "--------------\n",
            "Column OId -- 0\n",
            "Column OTitle -- 0\n",
            "Column OBody -- 0\n",
            "Column OTags -- 0\n",
            "Column DId -- 0\n",
            "Column DTitle -- 0\n",
            "Column DBody -- 0\n",
            "Column DTags -- 0\n",
            "Column isDuplicate -- 0\n"
          ]
        }
      ],
      "source": [
        "missing_values(stack_data_non_dup)"
      ]
    },
    {
      "cell_type": "code",
      "execution_count": null,
      "metadata": {
        "colab": {
          "base_uri": "https://localhost:8080/"
        },
        "id": "5pTYEgOvBlc0",
        "outputId": "c04972bf-6fc4-4dca-f83a-960843df5a1a"
      },
      "outputs": [
        {
          "output_type": "stream",
          "name": "stdout",
          "text": [
            "<class 'pandas.core.frame.DataFrame'>\n",
            "RangeIndex: 50000 entries, 0 to 49999\n",
            "Data columns (total 9 columns):\n",
            " #   Column       Non-Null Count  Dtype \n",
            "---  ------       --------------  ----- \n",
            " 0   OId          50000 non-null  int64 \n",
            " 1   OTitle       50000 non-null  object\n",
            " 2   OBody        50000 non-null  object\n",
            " 3   OTags        50000 non-null  object\n",
            " 4   DId          50000 non-null  int64 \n",
            " 5   DTitle       50000 non-null  object\n",
            " 6   DBody        50000 non-null  object\n",
            " 7   DTags        50000 non-null  object\n",
            " 8   isDuplicate  50000 non-null  int64 \n",
            "dtypes: int64(3), object(6)\n",
            "memory usage: 3.4+ MB\n"
          ]
        }
      ],
      "source": [
        "stack_data_non_dup.info()"
      ]
    },
    {
      "cell_type": "code",
      "execution_count": null,
      "metadata": {
        "colab": {
          "base_uri": "https://localhost:8080/"
        },
        "id": "kUJ26IR5Bpf-",
        "outputId": "45c18769-d85c-40d2-b40e-1072cfdc7fe4"
      },
      "outputs": [
        {
          "output_type": "stream",
          "name": "stdout",
          "text": [
            "<class 'pandas.core.frame.DataFrame'>\n",
            "RangeIndex: 50000 entries, 0 to 49999\n",
            "Data columns (total 9 columns):\n",
            " #   Column       Non-Null Count  Dtype \n",
            "---  ------       --------------  ----- \n",
            " 0   OId          50000 non-null  int64 \n",
            " 1   OTitle       50000 non-null  object\n",
            " 2   OBody        50000 non-null  object\n",
            " 3   OTags        50000 non-null  object\n",
            " 4   DId          50000 non-null  int64 \n",
            " 5   DTitle       50000 non-null  object\n",
            " 6   DBody        50000 non-null  object\n",
            " 7   DTags        50000 non-null  object\n",
            " 8   isDuplicate  50000 non-null  int64 \n",
            "dtypes: int64(3), object(6)\n",
            "memory usage: 3.4+ MB\n"
          ]
        }
      ],
      "source": [
        "stack_data_dup.info()"
      ]
    },
    {
      "cell_type": "code",
      "execution_count": null,
      "metadata": {
        "id": "KKAqyFkrBrEQ"
      },
      "outputs": [],
      "source": [
        "stack_data = pd.concat([stack_data_non_dup,stack_data_dup])"
      ]
    },
    {
      "cell_type": "code",
      "execution_count": null,
      "metadata": {
        "id": "eQHUINi5BwGx"
      },
      "outputs": [],
      "source": [
        "# Shuffling all the rows in the dataset\n",
        "import numpy as np\n",
        "\n",
        "\n",
        "stack_data = stack_data.sample(frac = 1,random_state=101)"
      ]
    },
    {
      "cell_type": "code",
      "execution_count": null,
      "metadata": {
        "colab": {
          "base_uri": "https://localhost:8080/"
        },
        "id": "xjy3R4iQBzS7",
        "outputId": "989b501a-f9f3-4e83-fbd0-0854bac00564"
      },
      "outputs": [
        {
          "output_type": "execute_result",
          "data": {
            "text/plain": [
              "1    50000\n",
              "0    50000\n",
              "Name: isDuplicate, dtype: int64"
            ]
          },
          "metadata": {},
          "execution_count": 11
        }
      ],
      "source": [
        "stack_data.isDuplicate.value_counts()"
      ]
    },
    {
      "cell_type": "code",
      "execution_count": null,
      "metadata": {
        "colab": {
          "base_uri": "https://localhost:8080/",
          "height": 511
        },
        "id": "_WW6VGUjB03B",
        "outputId": "c295a2c0-7a88-4dc6-f79b-87ce2bbd5d23"
      },
      "outputs": [
        {
          "output_type": "execute_result",
          "data": {
            "text/plain": [
              "           OId                                             OTitle  \\\n",
              "6324   4616202  Self-references in object literals / initializers   \n",
              "2881   3242937                            Ubuntu and Ruby version   \n",
              "10647  4945177                    Printing from a Windows Service   \n",
              "42046  2656606  Can a file be opened simultaneously under SIlv...   \n",
              "9912   2533249  Nested foreach in PHP produces different resul...   \n",
              "\n",
              "                                                   OBody  \\\n",
              "6324   <p>Is there any way to get something like the ...   \n",
              "2881   <p>I have Ruby versions 1.8.7 and 1.9.1 on Ubu...   \n",
              "10647  <p>How can I printing a document on a specific...   \n",
              "42046  <p>Silverlight uses an IsolatedStorageFileStre...   \n",
              "9912   <p>I'm having problems to iterate twice on the...   \n",
              "\n",
              "                                  OTags      DId  \\\n",
              "6324       <javascript><object-literal>  4858931   \n",
              "2881                     <ruby><ubuntu>  3243088   \n",
              "10647  <c#><printing><windows-services>     7990   \n",
              "42046                 <c#><silverlight>  7800144   \n",
              "9912                     <php><foreach>  7691790   \n",
              "\n",
              "                                      DTitle  \\\n",
              "6324   reference variable in object literal?   \n",
              "2881   Installing RVM (Ruby Version Manager)   \n",
              "10647           Printing from a .NET Service   \n",
              "42046                  issue reading in data   \n",
              "9912   Renaming project directory in VS 2010   \n",
              "\n",
              "                                                   DBody  \\\n",
              "6324   <p>say I have</p>\\n\\n<pre><code>myfunc({\\n  va...   \n",
              "2881   <p>Can someone please translate this into mana...   \n",
              "10647  <p>I am working on a project right now that in...   \n",
              "42046  <p>I am having trouble reading data from a fil...   \n",
              "9912   <p>What would be a sequence of operations to r...   \n",
              "\n",
              "                                        DTags  isDuplicate  \n",
              "6324             <javascript><object-literal>            1  \n",
              "2881                                   <ruby>            1  \n",
              "10647  <c#><.net><windows-services><printing>            1  \n",
              "42046                          <c++><fstream>            0  \n",
              "9912                     <visual-studio-2010>            0  "
            ],
            "text/html": [
              "\n",
              "  <div id=\"df-684b273d-5f31-46b1-8e97-914b88eaa3c2\">\n",
              "    <div class=\"colab-df-container\">\n",
              "      <div>\n",
              "<style scoped>\n",
              "    .dataframe tbody tr th:only-of-type {\n",
              "        vertical-align: middle;\n",
              "    }\n",
              "\n",
              "    .dataframe tbody tr th {\n",
              "        vertical-align: top;\n",
              "    }\n",
              "\n",
              "    .dataframe thead th {\n",
              "        text-align: right;\n",
              "    }\n",
              "</style>\n",
              "<table border=\"1\" class=\"dataframe\">\n",
              "  <thead>\n",
              "    <tr style=\"text-align: right;\">\n",
              "      <th></th>\n",
              "      <th>OId</th>\n",
              "      <th>OTitle</th>\n",
              "      <th>OBody</th>\n",
              "      <th>OTags</th>\n",
              "      <th>DId</th>\n",
              "      <th>DTitle</th>\n",
              "      <th>DBody</th>\n",
              "      <th>DTags</th>\n",
              "      <th>isDuplicate</th>\n",
              "    </tr>\n",
              "  </thead>\n",
              "  <tbody>\n",
              "    <tr>\n",
              "      <th>6324</th>\n",
              "      <td>4616202</td>\n",
              "      <td>Self-references in object literals / initializers</td>\n",
              "      <td>&lt;p&gt;Is there any way to get something like the ...</td>\n",
              "      <td>&lt;javascript&gt;&lt;object-literal&gt;</td>\n",
              "      <td>4858931</td>\n",
              "      <td>reference variable in object literal?</td>\n",
              "      <td>&lt;p&gt;say I have&lt;/p&gt;\\n\\n&lt;pre&gt;&lt;code&gt;myfunc({\\n  va...</td>\n",
              "      <td>&lt;javascript&gt;&lt;object-literal&gt;</td>\n",
              "      <td>1</td>\n",
              "    </tr>\n",
              "    <tr>\n",
              "      <th>2881</th>\n",
              "      <td>3242937</td>\n",
              "      <td>Ubuntu and Ruby version</td>\n",
              "      <td>&lt;p&gt;I have Ruby versions 1.8.7 and 1.9.1 on Ubu...</td>\n",
              "      <td>&lt;ruby&gt;&lt;ubuntu&gt;</td>\n",
              "      <td>3243088</td>\n",
              "      <td>Installing RVM (Ruby Version Manager)</td>\n",
              "      <td>&lt;p&gt;Can someone please translate this into mana...</td>\n",
              "      <td>&lt;ruby&gt;</td>\n",
              "      <td>1</td>\n",
              "    </tr>\n",
              "    <tr>\n",
              "      <th>10647</th>\n",
              "      <td>4945177</td>\n",
              "      <td>Printing from a Windows Service</td>\n",
              "      <td>&lt;p&gt;How can I printing a document on a specific...</td>\n",
              "      <td>&lt;c#&gt;&lt;printing&gt;&lt;windows-services&gt;</td>\n",
              "      <td>7990</td>\n",
              "      <td>Printing from a .NET Service</td>\n",
              "      <td>&lt;p&gt;I am working on a project right now that in...</td>\n",
              "      <td>&lt;c#&gt;&lt;.net&gt;&lt;windows-services&gt;&lt;printing&gt;</td>\n",
              "      <td>1</td>\n",
              "    </tr>\n",
              "    <tr>\n",
              "      <th>42046</th>\n",
              "      <td>2656606</td>\n",
              "      <td>Can a file be opened simultaneously under SIlv...</td>\n",
              "      <td>&lt;p&gt;Silverlight uses an IsolatedStorageFileStre...</td>\n",
              "      <td>&lt;c#&gt;&lt;silverlight&gt;</td>\n",
              "      <td>7800144</td>\n",
              "      <td>issue reading in data</td>\n",
              "      <td>&lt;p&gt;I am having trouble reading data from a fil...</td>\n",
              "      <td>&lt;c++&gt;&lt;fstream&gt;</td>\n",
              "      <td>0</td>\n",
              "    </tr>\n",
              "    <tr>\n",
              "      <th>9912</th>\n",
              "      <td>2533249</td>\n",
              "      <td>Nested foreach in PHP produces different resul...</td>\n",
              "      <td>&lt;p&gt;I'm having problems to iterate twice on the...</td>\n",
              "      <td>&lt;php&gt;&lt;foreach&gt;</td>\n",
              "      <td>7691790</td>\n",
              "      <td>Renaming project directory in VS 2010</td>\n",
              "      <td>&lt;p&gt;What would be a sequence of operations to r...</td>\n",
              "      <td>&lt;visual-studio-2010&gt;</td>\n",
              "      <td>0</td>\n",
              "    </tr>\n",
              "  </tbody>\n",
              "</table>\n",
              "</div>\n",
              "      <button class=\"colab-df-convert\" onclick=\"convertToInteractive('df-684b273d-5f31-46b1-8e97-914b88eaa3c2')\"\n",
              "              title=\"Convert this dataframe to an interactive table.\"\n",
              "              style=\"display:none;\">\n",
              "        \n",
              "  <svg xmlns=\"http://www.w3.org/2000/svg\" height=\"24px\"viewBox=\"0 0 24 24\"\n",
              "       width=\"24px\">\n",
              "    <path d=\"M0 0h24v24H0V0z\" fill=\"none\"/>\n",
              "    <path d=\"M18.56 5.44l.94 2.06.94-2.06 2.06-.94-2.06-.94-.94-2.06-.94 2.06-2.06.94zm-11 1L8.5 8.5l.94-2.06 2.06-.94-2.06-.94L8.5 2.5l-.94 2.06-2.06.94zm10 10l.94 2.06.94-2.06 2.06-.94-2.06-.94-.94-2.06-.94 2.06-2.06.94z\"/><path d=\"M17.41 7.96l-1.37-1.37c-.4-.4-.92-.59-1.43-.59-.52 0-1.04.2-1.43.59L10.3 9.45l-7.72 7.72c-.78.78-.78 2.05 0 2.83L4 21.41c.39.39.9.59 1.41.59.51 0 1.02-.2 1.41-.59l7.78-7.78 2.81-2.81c.8-.78.8-2.07 0-2.86zM5.41 20L4 18.59l7.72-7.72 1.47 1.35L5.41 20z\"/>\n",
              "  </svg>\n",
              "      </button>\n",
              "      \n",
              "  <style>\n",
              "    .colab-df-container {\n",
              "      display:flex;\n",
              "      flex-wrap:wrap;\n",
              "      gap: 12px;\n",
              "    }\n",
              "\n",
              "    .colab-df-convert {\n",
              "      background-color: #E8F0FE;\n",
              "      border: none;\n",
              "      border-radius: 50%;\n",
              "      cursor: pointer;\n",
              "      display: none;\n",
              "      fill: #1967D2;\n",
              "      height: 32px;\n",
              "      padding: 0 0 0 0;\n",
              "      width: 32px;\n",
              "    }\n",
              "\n",
              "    .colab-df-convert:hover {\n",
              "      background-color: #E2EBFA;\n",
              "      box-shadow: 0px 1px 2px rgba(60, 64, 67, 0.3), 0px 1px 3px 1px rgba(60, 64, 67, 0.15);\n",
              "      fill: #174EA6;\n",
              "    }\n",
              "\n",
              "    [theme=dark] .colab-df-convert {\n",
              "      background-color: #3B4455;\n",
              "      fill: #D2E3FC;\n",
              "    }\n",
              "\n",
              "    [theme=dark] .colab-df-convert:hover {\n",
              "      background-color: #434B5C;\n",
              "      box-shadow: 0px 1px 3px 1px rgba(0, 0, 0, 0.15);\n",
              "      filter: drop-shadow(0px 1px 2px rgba(0, 0, 0, 0.3));\n",
              "      fill: #FFFFFF;\n",
              "    }\n",
              "  </style>\n",
              "\n",
              "      <script>\n",
              "        const buttonEl =\n",
              "          document.querySelector('#df-684b273d-5f31-46b1-8e97-914b88eaa3c2 button.colab-df-convert');\n",
              "        buttonEl.style.display =\n",
              "          google.colab.kernel.accessAllowed ? 'block' : 'none';\n",
              "\n",
              "        async function convertToInteractive(key) {\n",
              "          const element = document.querySelector('#df-684b273d-5f31-46b1-8e97-914b88eaa3c2');\n",
              "          const dataTable =\n",
              "            await google.colab.kernel.invokeFunction('convertToInteractive',\n",
              "                                                     [key], {});\n",
              "          if (!dataTable) return;\n",
              "\n",
              "          const docLinkHtml = 'Like what you see? Visit the ' +\n",
              "            '<a target=\"_blank\" href=https://colab.research.google.com/notebooks/data_table.ipynb>data table notebook</a>'\n",
              "            + ' to learn more about interactive tables.';\n",
              "          element.innerHTML = '';\n",
              "          dataTable['output_type'] = 'display_data';\n",
              "          await google.colab.output.renderOutput(dataTable, element);\n",
              "          const docLink = document.createElement('div');\n",
              "          docLink.innerHTML = docLinkHtml;\n",
              "          element.appendChild(docLink);\n",
              "        }\n",
              "      </script>\n",
              "    </div>\n",
              "  </div>\n",
              "  "
            ]
          },
          "metadata": {},
          "execution_count": 12
        }
      ],
      "source": [
        "stack_data.head()"
      ]
    },
    {
      "cell_type": "code",
      "execution_count": null,
      "metadata": {
        "colab": {
          "base_uri": "https://localhost:8080/",
          "height": 402
        },
        "id": "oSnKuGsVB2wN",
        "outputId": "98e78f22-0039-48da-c470-8170941954ec"
      },
      "outputs": [
        {
          "output_type": "execute_result",
          "data": {
            "text/plain": [
              "Text(0, 0.5, 'No of Questions')"
            ]
          },
          "metadata": {},
          "execution_count": 13
        },
        {
          "output_type": "display_data",
          "data": {
            "text/plain": [
              "<Figure size 576x432 with 1 Axes>"
            ],
            "image/png": "[encoded data removed]"
          },
          "metadata": {
            "needs_background": "light"
          }
        }
      ],
      "source": [
        "ax = stack_data['isDuplicate'].value_counts().plot(kind='bar',figsize=(8, 6))\n",
        "x_labels = ['non-duplicate', 'duplicate']\n",
        "\n",
        "ax.set_xlabel('Duplicate question distribution for Stack OverFlow')\n",
        "ax.set_ylabel('No of Questions')\n",
        "# ax.bar_label(ax.containers[0], label_type='edge')"
      ]
    },
    {
      "cell_type": "code",
      "execution_count": null,
      "metadata": {
        "id": "c_c-isAHB5vn"
      },
      "outputs": [],
      "source": [
        "basic_data = stack_data.sample(20000,random_state=101)"
      ]
    },
    {
      "cell_type": "code",
      "execution_count": null,
      "metadata": {
        "id": "ktWRYs7CDjs4"
      },
      "outputs": [],
      "source": [
        "## There are two columns for tags, OTags and DTags. Both contain several tags and needs to be cleaned and converted to texts\n",
        "\n",
        "def remove_tags(text):\n",
        "  return text.replace(\"<\",\"\").replace(\">\",\" \")[:-1]"
      ]
    },
    {
      "cell_type": "code",
      "execution_count": null,
      "metadata": {
        "id": "UHOPMDqkDo1v"
      },
      "outputs": [],
      "source": [
        "## Calling the remove tags function and apply it on the two Tags columns\n",
        "\n",
        "basic_data['OTags'] = basic_data.OTags.apply(remove_tags)\n",
        "basic_data['DTags'] = basic_data.DTags.apply(remove_tags)"
      ]
    },
    {
      "cell_type": "code",
      "execution_count": null,
      "metadata": {
        "colab": {
          "base_uri": "https://localhost:8080/",
          "height": 565
        },
        "id": "RrOI-0RKDs57",
        "outputId": "a931d7bc-1b21-473e-b710-b1c22cb8e572"
      },
      "outputs": [
        {
          "output_type": "execute_result",
          "data": {
            "text/plain": [
              "            OId                                             OTitle  \\\n",
              "20955  14665601                     Regex too much or none at all.   \n",
              "22107  17953335  Browser Mode options missing from IE11's F12 D...   \n",
              "27053  18232254                                  NSData in base 10   \n",
              "22483  14812238  JSF View Scoped Bean Reconstructed Multiple Times   \n",
              "3808    2509229                        a \"+\" sign in email address   \n",
              "\n",
              "                                                   OBody  \\\n",
              "20955  <p>Here is an example of the string I'm matchi...   \n",
              "22107  <p>Just downloaded the new IE11 development ve...   \n",
              "27053  <p>Is it possible to NSLog NSData in base 10. ...   \n",
              "22483  <p>I thought <code>@ViewScoped</code> was supp...   \n",
              "3808   <p>I need to submit an email address with a \"<...   \n",
              "\n",
              "                                   OTags       DId  \\\n",
              "20955                              regex     22444   \n",
              "22107                  internet-explorer  17871124   \n",
              "27053                  ios objective-c c   6626038   \n",
              "22483      jsf jakarta-ee ejb view-scope   5541813   \n",
              "3808   iphone objective-c iphone-sdk-3.0   7671327   \n",
              "\n",
              "                                                  DTitle  \\\n",
              "20955  My regex is matching too much. How do I make i...   \n",
              "22107          How to bring back \"Browser mode\" in IE11?   \n",
              "27053                        Printing NSData using NSLog   \n",
              "22483  @ViewScoped calls @PostConstruct on every post...   \n",
              "3808   Team Foundation services are not available fro...   \n",
              "\n",
              "                                                   DBody  \\\n",
              "20955  <p>I have this gigantic ugly string:</p>\\n<pre...   \n",
              "22107  <p><strong>UPDATE</strong>: The old question a...   \n",
              "27053  <p>How can I print the contents of an NSData o...   \n",
              "22483  <p>This doesn't seem right. I was doing some c...   \n",
              "3808   <p>We are working with Visual Studio 2010 and ...   \n",
              "\n",
              "                                                   DTags  isDuplicate  \n",
              "20955                                              regex            1  \n",
              "22107  cross-browser ie-developer-tools internet-expl...            1  \n",
              "27053                                 iphone objective-c            1  \n",
              "22483     jsf jsf-2 constructor view-scope postconstruct            1  \n",
              "3808           visual-studio-2010 visual-studio-2012 tfs            0  "
            ],
            "text/html": [
              "\n",
              "  <div id=\"df-6346d052-ba4b-43dd-a16f-2fcea9d79e99\">\n",
              "    <div class=\"colab-df-container\">\n",
              "      <div>\n",
              "<style scoped>\n",
              "    .dataframe tbody tr th:only-of-type {\n",
              "        vertical-align: middle;\n",
              "    }\n",
              "\n",
              "    .dataframe tbody tr th {\n",
              "        vertical-align: top;\n",
              "    }\n",
              "\n",
              "    .dataframe thead th {\n",
              "        text-align: right;\n",
              "    }\n",
              "</style>\n",
              "<table border=\"1\" class=\"dataframe\">\n",
              "  <thead>\n",
              "    <tr style=\"text-align: right;\">\n",
              "      <th></th>\n",
              "      <th>OId</th>\n",
              "      <th>OTitle</th>\n",
              "      <th>OBody</th>\n",
              "      <th>OTags</th>\n",
              "      <th>DId</th>\n",
              "      <th>DTitle</th>\n",
              "      <th>DBody</th>\n",
              "      <th>DTags</th>\n",
              "      <th>isDuplicate</th>\n",
              "    </tr>\n",
              "  </thead>\n",
              "  <tbody>\n",
              "    <tr>\n",
              "      <th>20955</th>\n",
              "      <td>14665601</td>\n",
              "      <td>Regex too much or none at all.</td>\n",
              "      <td>&lt;p&gt;Here is an example of the string I'm matchi...</td>\n",
              "      <td>regex</td>\n",
              "      <td>22444</td>\n",
              "      <td>My regex is matching too much. How do I make i...</td>\n",
              "      <td>&lt;p&gt;I have this gigantic ugly string:&lt;/p&gt;\\n&lt;pre...</td>\n",
              "      <td>regex</td>\n",
              "      <td>1</td>\n",
              "    </tr>\n",
              "    <tr>\n",
              "      <th>22107</th>\n",
              "      <td>17953335</td>\n",
              "      <td>Browser Mode options missing from IE11's F12 D...</td>\n",
              "      <td>&lt;p&gt;Just downloaded the new IE11 development ve...</td>\n",
              "      <td>internet-explorer</td>\n",
              "      <td>17871124</td>\n",
              "      <td>How to bring back \"Browser mode\" in IE11?</td>\n",
              "      <td>&lt;p&gt;&lt;strong&gt;UPDATE&lt;/strong&gt;: The old question a...</td>\n",
              "      <td>cross-browser ie-developer-tools internet-expl...</td>\n",
              "      <td>1</td>\n",
              "    </tr>\n",
              "    <tr>\n",
              "      <th>27053</th>\n",
              "      <td>18232254</td>\n",
              "      <td>NSData in base 10</td>\n",
              "      <td>&lt;p&gt;Is it possible to NSLog NSData in base 10. ...</td>\n",
              "      <td>ios objective-c c</td>\n",
              "      <td>6626038</td>\n",
              "      <td>Printing NSData using NSLog</td>\n",
              "      <td>&lt;p&gt;How can I print the contents of an NSData o...</td>\n",
              "      <td>iphone objective-c</td>\n",
              "      <td>1</td>\n",
              "    </tr>\n",
              "    <tr>\n",
              "      <th>22483</th>\n",
              "      <td>14812238</td>\n",
              "      <td>JSF View Scoped Bean Reconstructed Multiple Times</td>\n",
              "      <td>&lt;p&gt;I thought &lt;code&gt;@ViewScoped&lt;/code&gt; was supp...</td>\n",
              "      <td>jsf jakarta-ee ejb view-scope</td>\n",
              "      <td>5541813</td>\n",
              "      <td>@ViewScoped calls @PostConstruct on every post...</td>\n",
              "      <td>&lt;p&gt;This doesn't seem right. I was doing some c...</td>\n",
              "      <td>jsf jsf-2 constructor view-scope postconstruct</td>\n",
              "      <td>1</td>\n",
              "    </tr>\n",
              "    <tr>\n",
              "      <th>3808</th>\n",
              "      <td>2509229</td>\n",
              "      <td>a \"+\" sign in email address</td>\n",
              "      <td>&lt;p&gt;I need to submit an email address with a \"&lt;...</td>\n",
              "      <td>iphone objective-c iphone-sdk-3.0</td>\n",
              "      <td>7671327</td>\n",
              "      <td>Team Foundation services are not available fro...</td>\n",
              "      <td>&lt;p&gt;We are working with Visual Studio 2010 and ...</td>\n",
              "      <td>visual-studio-2010 visual-studio-2012 tfs</td>\n",
              "      <td>0</td>\n",
              "    </tr>\n",
              "  </tbody>\n",
              "</table>\n",
              "</div>\n",
              "      <button class=\"colab-df-convert\" onclick=\"convertToInteractive('df-6346d052-ba4b-43dd-a16f-2fcea9d79e99')\"\n",
              "              title=\"Convert this dataframe to an interactive table.\"\n",
              "              style=\"display:none;\">\n",
              "        \n",
              "  <svg xmlns=\"http://www.w3.org/2000/svg\" height=\"24px\"viewBox=\"0 0 24 24\"\n",
              "       width=\"24px\">\n",
              "    <path d=\"M0 0h24v24H0V0z\" fill=\"none\"/>\n",
              "    <path d=\"M18.56 5.44l.94 2.06.94-2.06 2.06-.94-2.06-.94-.94-2.06-.94 2.06-2.06.94zm-11 1L8.5 8.5l.94-2.06 2.06-.94-2.06-.94L8.5 2.5l-.94 2.06-2.06.94zm10 10l.94 2.06.94-2.06 2.06-.94-2.06-.94-.94-2.06-.94 2.06-2.06.94z\"/><path d=\"M17.41 7.96l-1.37-1.37c-.4-.4-.92-.59-1.43-.59-.52 0-1.04.2-1.43.59L10.3 9.45l-7.72 7.72c-.78.78-.78 2.05 0 2.83L4 21.41c.39.39.9.59 1.41.59.51 0 1.02-.2 1.41-.59l7.78-7.78 2.81-2.81c.8-.78.8-2.07 0-2.86zM5.41 20L4 18.59l7.72-7.72 1.47 1.35L5.41 20z\"/>\n",
              "  </svg>\n",
              "      </button>\n",
              "      \n",
              "  <style>\n",
              "    .colab-df-container {\n",
              "      display:flex;\n",
              "      flex-wrap:wrap;\n",
              "      gap: 12px;\n",
              "    }\n",
              "\n",
              "    .colab-df-convert {\n",
              "      background-color: #E8F0FE;\n",
              "      border: none;\n",
              "      border-radius: 50%;\n",
              "      cursor: pointer;\n",
              "      display: none;\n",
              "      fill: #1967D2;\n",
              "      height: 32px;\n",
              "      padding: 0 0 0 0;\n",
              "      width: 32px;\n",
              "    }\n",
              "\n",
              "    .colab-df-convert:hover {\n",
              "      background-color: #E2EBFA;\n",
              "      box-shadow: 0px 1px 2px rgba(60, 64, 67, 0.3), 0px 1px 3px 1px rgba(60, 64, 67, 0.15);\n",
              "      fill: #174EA6;\n",
              "    }\n",
              "\n",
              "    [theme=dark] .colab-df-convert {\n",
              "      background-color: #3B4455;\n",
              "      fill: #D2E3FC;\n",
              "    }\n",
              "\n",
              "    [theme=dark] .colab-df-convert:hover {\n",
              "      background-color: #434B5C;\n",
              "      box-shadow: 0px 1px 3px 1px rgba(0, 0, 0, 0.15);\n",
              "      filter: drop-shadow(0px 1px 2px rgba(0, 0, 0, 0.3));\n",
              "      fill: #FFFFFF;\n",
              "    }\n",
              "  </style>\n",
              "\n",
              "      <script>\n",
              "        const buttonEl =\n",
              "          document.querySelector('#df-6346d052-ba4b-43dd-a16f-2fcea9d79e99 button.colab-df-convert');\n",
              "        buttonEl.style.display =\n",
              "          google.colab.kernel.accessAllowed ? 'block' : 'none';\n",
              "\n",
              "        async function convertToInteractive(key) {\n",
              "          const element = document.querySelector('#df-6346d052-ba4b-43dd-a16f-2fcea9d79e99');\n",
              "          const dataTable =\n",
              "            await google.colab.kernel.invokeFunction('convertToInteractive',\n",
              "                                                     [key], {});\n",
              "          if (!dataTable) return;\n",
              "\n",
              "          const docLinkHtml = 'Like what you see? Visit the ' +\n",
              "            '<a target=\"_blank\" href=https://colab.research.google.com/notebooks/data_table.ipynb>data table notebook</a>'\n",
              "            + ' to learn more about interactive tables.';\n",
              "          element.innerHTML = '';\n",
              "          dataTable['output_type'] = 'display_data';\n",
              "          await google.colab.output.renderOutput(dataTable, element);\n",
              "          const docLink = document.createElement('div');\n",
              "          docLink.innerHTML = docLinkHtml;\n",
              "          element.appendChild(docLink);\n",
              "        }\n",
              "      </script>\n",
              "    </div>\n",
              "  </div>\n",
              "  "
            ]
          },
          "metadata": {},
          "execution_count": 17
        }
      ],
      "source": [
        "basic_data.head()"
      ]
    },
    {
      "cell_type": "code",
      "execution_count": null,
      "metadata": {
        "id": "sCxLjfy1Duv0"
      },
      "outputs": [],
      "source": [
        "## Cleaning the questions from this step. Using the same data cleaning fucntion used for the Quora dataset, further spiking and implementation to be \n",
        "## done in case this isn't enough.\n",
        "\n",
        "from nltk.stem.wordnet import WordNetLemmatizer\n",
        "from nltk import pos_tag\n",
        "from nltk.corpus import wordnet\n",
        "from nltk.corpus import stopwords\n",
        "\n",
        "\n",
        "# Lemmatize words\n",
        "\n",
        "def get_pos_tag(tag):\n",
        "    if tag.startswith('J'):\n",
        "        return wordnet.ADJ\n",
        "    elif tag.startswith('V'):\n",
        "        return wordnet.VERB\n",
        "    elif tag.startswith('N'):\n",
        "        return wordnet.NOUN\n",
        "    elif tag.startswith('R'):\n",
        "        return wordnet.ADV\n",
        "    else:\n",
        "        # As default pos in lemmatization is Noun\n",
        "        return wordnet.NOUN"
      ]
    },
    {
      "cell_type": "code",
      "execution_count": null,
      "metadata": {
        "id": "WSoO96_hJhpw"
      },
      "outputs": [],
      "source": [
        "## Things to be replaced and removed\n",
        "import re \n",
        "\n",
        "\n",
        "regex = [\n",
        "    r'<[^>]+>', #HTML tags\n",
        "    r'@(\\w+)', # @-mentions\n",
        "    r\"#(\\w+)\", # hashtags\n",
        "    r'http[s]?://(?:[a-z]|[0-9]|[$-_@.&+]|[!*\\(\\),]|(?:%[0-9a-f][0-9a-f]))+', # URLs\n",
        "    r'[^0-9a-z #+_\\\\r\\\\n\\\\t]', #BAD SYMBOLS\n",
        "]\n",
        "\n",
        "REPLACE_URLS = re.compile(r'http[s]?://(?:[a-z]|[0-9]|[$-_@.&+]|[!*\\(\\),]|(?:%[0-9a-f][0-9a-f]))+')\n",
        "REPLACE_HASH = re.compile(r'#(\\w+)')\n",
        "REPLACE_AT = re.compile(r'@(\\w+)')\n",
        "REPLACE_HTML_TAGS = re.compile(r'<[^>]+>')\n",
        "REPLACE_BY = re.compile(r\"[^a-z0-9\\-]\")"
      ]
    },
    {
      "cell_type": "code",
      "execution_count": null,
      "metadata": {
        "colab": {
          "base_uri": "https://localhost:8080/"
        },
        "id": "QllGERZsJiil",
        "outputId": "acaef4f9-e3d4-44e1-bb35-7002e19e7253"
      },
      "outputs": [
        {
          "output_type": "stream",
          "name": "stderr",
          "text": [
            "[nltk_data] Downloading package stopwords to /root/nltk_data...\n",
            "[nltk_data]   Package stopwords is already up-to-date!\n",
            "[nltk_data] Downloading package averaged_perceptron_tagger to\n",
            "[nltk_data]     /root/nltk_data...\n",
            "[nltk_data]   Package averaged_perceptron_tagger is already up-to-\n",
            "[nltk_data]       date!\n",
            "[nltk_data] Downloading package wordnet to /root/nltk_data...\n",
            "[nltk_data]   Package wordnet is already up-to-date!\n",
            "[nltk_data] Downloading package omw-1.4 to /root/nltk_data...\n",
            "[nltk_data]   Package omw-1.4 is already up-to-date!\n"
          ]
        },
        {
          "output_type": "execute_result",
          "data": {
            "text/plain": [
              "True"
            ]
          },
          "metadata": {},
          "execution_count": 20
        }
      ],
      "source": [
        "import nltk\n",
        "nltk.download('stopwords')\n",
        "\n",
        "nltk.download('averaged_perceptron_tagger')\n",
        "\n",
        "nltk.download('wordnet')\n",
        "\n",
        "nltk.download('omw-1.4')"
      ]
    },
    {
      "cell_type": "code",
      "execution_count": null,
      "metadata": {
        "id": "w2JG366bJkVb"
      },
      "outputs": [],
      "source": [
        "STOP_WORDS = set(stopwords.words('english'))"
      ]
    },
    {
      "cell_type": "code",
      "execution_count": null,
      "metadata": {
        "id": "RtYBXJloJmpk"
      },
      "outputs": [],
      "source": [
        "lemmatizer = WordNetLemmatizer()\n",
        "\n",
        "# User defined fucntion to replace and eliminate redundant values\n",
        "def clean_data(text):\n",
        "  text = text.lower()\n",
        "  text = REPLACE_HTML_TAGS.sub(' ',text)\n",
        "  text = REPLACE_URLS.sub('', text)\n",
        "  text = REPLACE_HASH.sub('', text)\n",
        "  text = REPLACE_AT.sub('', text)\n",
        "  text = REPLACE_BY.sub(' ', text)\n",
        "\n",
        "  text = \" \".join(lemmatizer.lemmatize(word.strip(), get_pos_tag(pos_tag([word.strip()])[0][1])) \\\n",
        "                  for word in text.split() if word not in STOP_WORDS and len(word)>3)\n",
        "\n",
        "  return text"
      ]
    },
    {
      "cell_type": "code",
      "execution_count": null,
      "metadata": {
        "colab": {
          "base_uri": "https://localhost:8080/",
          "height": 565
        },
        "id": "9CO9s3RPJ0dc",
        "outputId": "2e92cc3e-121d-4405-d276-405888d04dcb"
      },
      "outputs": [
        {
          "output_type": "execute_result",
          "data": {
            "text/plain": [
              "            OId                                             OTitle  \\\n",
              "20955  14665601                     Regex too much or none at all.   \n",
              "22107  17953335  Browser Mode options missing from IE11's F12 D...   \n",
              "27053  18232254                                  NSData in base 10   \n",
              "22483  14812238  JSF View Scoped Bean Reconstructed Multiple Times   \n",
              "3808    2509229                        a \"+\" sign in email address   \n",
              "\n",
              "                                                   OBody  \\\n",
              "20955  <p>Here is an example of the string I'm matchi...   \n",
              "22107  <p>Just downloaded the new IE11 development ve...   \n",
              "27053  <p>Is it possible to NSLog NSData in base 10. ...   \n",
              "22483  <p>I thought <code>@ViewScoped</code> was supp...   \n",
              "3808   <p>I need to submit an email address with a \"<...   \n",
              "\n",
              "                                   OTags       DId  \\\n",
              "20955                              regex     22444   \n",
              "22107                  internet-explorer  17871124   \n",
              "27053                  ios objective-c c   6626038   \n",
              "22483      jsf jakarta-ee ejb view-scope   5541813   \n",
              "3808   iphone objective-c iphone-sdk-3.0   7671327   \n",
              "\n",
              "                                                  DTitle  \\\n",
              "20955  My regex is matching too much. How do I make i...   \n",
              "22107          How to bring back \"Browser mode\" in IE11?   \n",
              "27053                        Printing NSData using NSLog   \n",
              "22483  @ViewScoped calls @PostConstruct on every post...   \n",
              "3808   Team Foundation services are not available fro...   \n",
              "\n",
              "                                                   DBody  \\\n",
              "20955  <p>I have this gigantic ugly string:</p>\\n<pre...   \n",
              "22107  <p><strong>UPDATE</strong>: The old question a...   \n",
              "27053  <p>How can I print the contents of an NSData o...   \n",
              "22483  <p>This doesn't seem right. I was doing some c...   \n",
              "3808   <p>We are working with Visual Studio 2010 and ...   \n",
              "\n",
              "                                                   DTags  isDuplicate  \n",
              "20955                                              regex            1  \n",
              "22107  cross-browser ie-developer-tools internet-expl...            1  \n",
              "27053                                 iphone objective-c            1  \n",
              "22483     jsf jsf-2 constructor view-scope postconstruct            1  \n",
              "3808           visual-studio-2010 visual-studio-2012 tfs            0  "
            ],
            "text/html": [
              "\n",
              "  <div id=\"df-4f6ac256-dc86-41f2-be98-835f96aed466\">\n",
              "    <div class=\"colab-df-container\">\n",
              "      <div>\n",
              "<style scoped>\n",
              "    .dataframe tbody tr th:only-of-type {\n",
              "        vertical-align: middle;\n",
              "    }\n",
              "\n",
              "    .dataframe tbody tr th {\n",
              "        vertical-align: top;\n",
              "    }\n",
              "\n",
              "    .dataframe thead th {\n",
              "        text-align: right;\n",
              "    }\n",
              "</style>\n",
              "<table border=\"1\" class=\"dataframe\">\n",
              "  <thead>\n",
              "    <tr style=\"text-align: right;\">\n",
              "      <th></th>\n",
              "      <th>OId</th>\n",
              "      <th>OTitle</th>\n",
              "      <th>OBody</th>\n",
              "      <th>OTags</th>\n",
              "      <th>DId</th>\n",
              "      <th>DTitle</th>\n",
              "      <th>DBody</th>\n",
              "      <th>DTags</th>\n",
              "      <th>isDuplicate</th>\n",
              "    </tr>\n",
              "  </thead>\n",
              "  <tbody>\n",
              "    <tr>\n",
              "      <th>20955</th>\n",
              "      <td>14665601</td>\n",
              "      <td>Regex too much or none at all.</td>\n",
              "      <td>&lt;p&gt;Here is an example of the string I'm matchi...</td>\n",
              "      <td>regex</td>\n",
              "      <td>22444</td>\n",
              "      <td>My regex is matching too much. How do I make i...</td>\n",
              "      <td>&lt;p&gt;I have this gigantic ugly string:&lt;/p&gt;\\n&lt;pre...</td>\n",
              "      <td>regex</td>\n",
              "      <td>1</td>\n",
              "    </tr>\n",
              "    <tr>\n",
              "      <th>22107</th>\n",
              "      <td>17953335</td>\n",
              "      <td>Browser Mode options missing from IE11's F12 D...</td>\n",
              "      <td>&lt;p&gt;Just downloaded the new IE11 development ve...</td>\n",
              "      <td>internet-explorer</td>\n",
              "      <td>17871124</td>\n",
              "      <td>How to bring back \"Browser mode\" in IE11?</td>\n",
              "      <td>&lt;p&gt;&lt;strong&gt;UPDATE&lt;/strong&gt;: The old question a...</td>\n",
              "      <td>cross-browser ie-developer-tools internet-expl...</td>\n",
              "      <td>1</td>\n",
              "    </tr>\n",
              "    <tr>\n",
              "      <th>27053</th>\n",
              "      <td>18232254</td>\n",
              "      <td>NSData in base 10</td>\n",
              "      <td>&lt;p&gt;Is it possible to NSLog NSData in base 10. ...</td>\n",
              "      <td>ios objective-c c</td>\n",
              "      <td>6626038</td>\n",
              "      <td>Printing NSData using NSLog</td>\n",
              "      <td>&lt;p&gt;How can I print the contents of an NSData o...</td>\n",
              "      <td>iphone objective-c</td>\n",
              "      <td>1</td>\n",
              "    </tr>\n",
              "    <tr>\n",
              "      <th>22483</th>\n",
              "      <td>14812238</td>\n",
              "      <td>JSF View Scoped Bean Reconstructed Multiple Times</td>\n",
              "      <td>&lt;p&gt;I thought &lt;code&gt;@ViewScoped&lt;/code&gt; was supp...</td>\n",
              "      <td>jsf jakarta-ee ejb view-scope</td>\n",
              "      <td>5541813</td>\n",
              "      <td>@ViewScoped calls @PostConstruct on every post...</td>\n",
              "      <td>&lt;p&gt;This doesn't seem right. I was doing some c...</td>\n",
              "      <td>jsf jsf-2 constructor view-scope postconstruct</td>\n",
              "      <td>1</td>\n",
              "    </tr>\n",
              "    <tr>\n",
              "      <th>3808</th>\n",
              "      <td>2509229</td>\n",
              "      <td>a \"+\" sign in email address</td>\n",
              "      <td>&lt;p&gt;I need to submit an email address with a \"&lt;...</td>\n",
              "      <td>iphone objective-c iphone-sdk-3.0</td>\n",
              "      <td>7671327</td>\n",
              "      <td>Team Foundation services are not available fro...</td>\n",
              "      <td>&lt;p&gt;We are working with Visual Studio 2010 and ...</td>\n",
              "      <td>visual-studio-2010 visual-studio-2012 tfs</td>\n",
              "      <td>0</td>\n",
              "    </tr>\n",
              "  </tbody>\n",
              "</table>\n",
              "</div>\n",
              "      <button class=\"colab-df-convert\" onclick=\"convertToInteractive('df-4f6ac256-dc86-41f2-be98-835f96aed466')\"\n",
              "              title=\"Convert this dataframe to an interactive table.\"\n",
              "              style=\"display:none;\">\n",
              "        \n",
              "  <svg xmlns=\"http://www.w3.org/2000/svg\" height=\"24px\"viewBox=\"0 0 24 24\"\n",
              "       width=\"24px\">\n",
              "    <path d=\"M0 0h24v24H0V0z\" fill=\"none\"/>\n",
              "    <path d=\"M18.56 5.44l.94 2.06.94-2.06 2.06-.94-2.06-.94-.94-2.06-.94 2.06-2.06.94zm-11 1L8.5 8.5l.94-2.06 2.06-.94-2.06-.94L8.5 2.5l-.94 2.06-2.06.94zm10 10l.94 2.06.94-2.06 2.06-.94-2.06-.94-.94-2.06-.94 2.06-2.06.94z\"/><path d=\"M17.41 7.96l-1.37-1.37c-.4-.4-.92-.59-1.43-.59-.52 0-1.04.2-1.43.59L10.3 9.45l-7.72 7.72c-.78.78-.78 2.05 0 2.83L4 21.41c.39.39.9.59 1.41.59.51 0 1.02-.2 1.41-.59l7.78-7.78 2.81-2.81c.8-.78.8-2.07 0-2.86zM5.41 20L4 18.59l7.72-7.72 1.47 1.35L5.41 20z\"/>\n",
              "  </svg>\n",
              "      </button>\n",
              "      \n",
              "  <style>\n",
              "    .colab-df-container {\n",
              "      display:flex;\n",
              "      flex-wrap:wrap;\n",
              "      gap: 12px;\n",
              "    }\n",
              "\n",
              "    .colab-df-convert {\n",
              "      background-color: #E8F0FE;\n",
              "      border: none;\n",
              "      border-radius: 50%;\n",
              "      cursor: pointer;\n",
              "      display: none;\n",
              "      fill: #1967D2;\n",
              "      height: 32px;\n",
              "      padding: 0 0 0 0;\n",
              "      width: 32px;\n",
              "    }\n",
              "\n",
              "    .colab-df-convert:hover {\n",
              "      background-color: #E2EBFA;\n",
              "      box-shadow: 0px 1px 2px rgba(60, 64, 67, 0.3), 0px 1px 3px 1px rgba(60, 64, 67, 0.15);\n",
              "      fill: #174EA6;\n",
              "    }\n",
              "\n",
              "    [theme=dark] .colab-df-convert {\n",
              "      background-color: #3B4455;\n",
              "      fill: #D2E3FC;\n",
              "    }\n",
              "\n",
              "    [theme=dark] .colab-df-convert:hover {\n",
              "      background-color: #434B5C;\n",
              "      box-shadow: 0px 1px 3px 1px rgba(0, 0, 0, 0.15);\n",
              "      filter: drop-shadow(0px 1px 2px rgba(0, 0, 0, 0.3));\n",
              "      fill: #FFFFFF;\n",
              "    }\n",
              "  </style>\n",
              "\n",
              "      <script>\n",
              "        const buttonEl =\n",
              "          document.querySelector('#df-4f6ac256-dc86-41f2-be98-835f96aed466 button.colab-df-convert');\n",
              "        buttonEl.style.display =\n",
              "          google.colab.kernel.accessAllowed ? 'block' : 'none';\n",
              "\n",
              "        async function convertToInteractive(key) {\n",
              "          const element = document.querySelector('#df-4f6ac256-dc86-41f2-be98-835f96aed466');\n",
              "          const dataTable =\n",
              "            await google.colab.kernel.invokeFunction('convertToInteractive',\n",
              "                                                     [key], {});\n",
              "          if (!dataTable) return;\n",
              "\n",
              "          const docLinkHtml = 'Like what you see? Visit the ' +\n",
              "            '<a target=\"_blank\" href=https://colab.research.google.com/notebooks/data_table.ipynb>data table notebook</a>'\n",
              "            + ' to learn more about interactive tables.';\n",
              "          element.innerHTML = '';\n",
              "          dataTable['output_type'] = 'display_data';\n",
              "          await google.colab.output.renderOutput(dataTable, element);\n",
              "          const docLink = document.createElement('div');\n",
              "          docLink.innerHTML = docLinkHtml;\n",
              "          element.appendChild(docLink);\n",
              "        }\n",
              "      </script>\n",
              "    </div>\n",
              "  </div>\n",
              "  "
            ]
          },
          "metadata": {},
          "execution_count": 23
        }
      ],
      "source": [
        "basic_data.head()"
      ]
    },
    {
      "cell_type": "code",
      "execution_count": null,
      "metadata": {
        "id": "6zuhuQBeKMyc"
      },
      "outputs": [],
      "source": [
        "## Applying the function to all the questions present in the original body column in order to check well the cleaning processed \n",
        "temp_storage = stack_data['OBody'].sample(100).apply(clean_data)"
      ]
    },
    {
      "cell_type": "code",
      "execution_count": null,
      "metadata": {
        "colab": {
          "base_uri": "https://localhost:8080/"
        },
        "id": "yUezIduYKVBP",
        "outputId": "3bbe03f4-9fc1-4628-fc9f-17a317835ba7"
      },
      "outputs": [
        {
          "output_type": "stream",
          "name": "stdout",
          "text": [
            "menu text-align center margin auto pad height list-style none float left hover background-color border solid display block margin-right 18px margin-left 18px pad background-color color text-decoration none display none width 10em width help opera hover display block position absolute margin pad hover float none hover background-color border-bottom solid color hover background-color navbar href index start href index href index href ringsartikler href subitem href second subitem href numero tres href ringsfilmer href subitem href second subitem href numero tres navbar try text-align center margin auto still wont center whole menu change navbar float center instead float left make whole menu stupid\n",
            "strip tag catch tag begin string work cause issue need remove html tag\n",
            "little confuse cactus mock object jmock easy mock could anyone please answer follow question cactus test cactus test mock object test mock object test\n",
            "try initialize static class member luck test file test string class test public static void init char private static string file test test initialize class void test init char test string main argc char argv test init argv call class initializer linker fails undefined symbol architecture test reference test init char test-ok13ld symbol found architecture real world init go real work static member someone point error\n",
            "google chrome firefox hover active state property view element hover clicked however soon mouse leaf element release mouse cannot view property chrome extension firefox addon allow view element hover active state\n",
            "associative array string value date example fileid 2013 want able sort recent date idea would help appreciate thanks edit use usort function however output follow 2013 2013 2013 2013 2013 2013 2013 2013 2013 sort first number want sort full date wrong code usort fileswithdates sort foreach fileswithdates value echo value function sort return return\n",
            "give array string contains every element additional member example monkey monkey need write function find extra string use please help update know difference achieve use in-built function array diff\n",
            "create custom view require activity reference perform handler related operation idea getcontext context activity reference\n",
            "create sharepoint solution project install telerik file write appropriate line webconfig upon feature activation question product token version culture info programatically use system reflection assembly getexecutingassembly embed resource javascript file appropriate folder would file would assembly info embed assembly thanks direction\n",
            "use function collect data server function invoke-sqlcommand param string datasource myserver string dbname mydatabase string sqlcommand throw please specify query sqlconnection new-object system data sqlclient sqlconnection sqlconnection connectionstring server datasource database dbname integrate security true sqlcmd new-object system data sqlclient sqlcommand sqlcmd commandtext sqlcommand sqlcmd connection sqlconnection sqladapter new-object system data sqlclient sqldataadapter sqladapter selectcommand sqlcmd dataset new-object system data dataset sqladapter fill dataset sqlconnection close dataset table work great return table passing several select statement dataset contains multiple table replace dataset table dataset table count dataset table console show content first table blank line record second table result change code dataset table out-string want string want table object work assign return invoke-sqlcommand variable array datarow object first table happen second table help would greatly appreciate thanks\n",
            "problem output unicode character window console use window code block mingw32-g compiler proper output unicode character window console code iostream string use namespace main cout endl work string cout endl work return thanks advance\n",
            "go crazy forward reference within scope right right serious scope firefox true test function test alert success code fails test undefined code execute outside statement function definition move outside statement everything error occurs define inside scope like code work fine chrome update sure daft unreasonable expect able certainly make sense semantically sudo code god decide statement appear block mention link reference spidermonkey ecma stuff basilikum especially inconsistent browser handle strict mode thanks\n",
            "want functionality whenever press reset button suggestion list hide try hidesuggestionlist method show deprecate please help thanks advance\n",
            "tinymce toolbar tinymce toolbar default script libs manual render tiny tiny tinymce toolbar simple script libs manual render tiny tiny simple work find input name toolbar first renderhtmleditor tinymce tinymce toolbar work document find input name toolbar first renderhtmleditor tinymce tinymce toolbar default renderhtmleditor tinymce tinymce toolbar simple dynamic thanks\n",
            "quite xaml currently face problem solution project first project custom control library custom window form control inside second project application use custom window form work fine except form icon application project window icon property projecttwonamespace component resource image film custom control show image image grid column margin width height image source bitmapimage urisource binding path icon image source image work error runtime say property urisource streamsource must image anyone help think jsut newbie problem\n",
            "experience increase memory usage jquery-eventhandling chrome test firefox well suspicious rise memory-usage compare chrome use chrome version unfortunately force version simple example scroll mousewheel open chrome-taskmanager increase memory release anymore doctype html public quot html transitional quot quot html head script type quot text javascript quot quot libs jquery-1 quot script script type quot text javascript quot jquery function jquery quot quot bind quot mousewheel quot function event event preventdefault script head body quot div1 quot style quot width 100px height 100px background-color quot body html anyone experienced problem maybe solve different version chrome anyone\n",
            "table currency rate server 2005 curr rate date nbsp nbsp nbsp nbsp nbsp nbsp nbsp nbsp nbsp nbsp nbsp nbsp 2010 nbsp nbsp nbsp nbsp nbsp nbsp nbsp nbsp nbsp nbsp nbsp nbsp 2010 nbsp nbsp nbsp nbsp nbsp nbsp nbsp nbsp nbsp nbsp nbsp nbsp 2010 nbsp nbsp nbsp nbsp nbsp nbsp nbsp nbsp nbsp nbsp nbsp nbsp 2010 nbsp nbsp nbsp nbsp nbsp nbsp nbsp nbsp nbsp nbsp nbsp nbsp 2010 nbsp nbsp nbsp nbsp nbsp nbsp nbsp nbsp nbsp nbsp 2010 rate update real time billion row table need write sql-query wich provide late rate currency decision select curr rate date curr rate select curr date rate date curr rate group curr date rate date curr curr order curr possible write query without sub-queries join derive table\n",
            "anyone know tool support need nice support aspx-files also\n",
            "sorry do much research know basic authentication nevermind remove thanks edit sorry think httpd conf include\n",
            "try create small server client cod functionality reason objectdisposedexception data msgtosend data msgtosend cmdcommand command logout msgtosend strname strname msgtosend strmessage null byte msgtosend tobyte clientsocket sendto length socketflags none epserver clientsocket close server receives message suppose reach clientsocket close exception\n"
          ]
        }
      ],
      "source": [
        "## Selecting and printing random values, in order to see if any extra cleaning is required for the questions \n",
        "for row in temp_storage.sample(20):\n",
        "  print(row)"
      ]
    },
    {
      "cell_type": "code",
      "execution_count": null,
      "metadata": {
        "id": "1R5KuZQGJ78y"
      },
      "outputs": [],
      "source": [
        "## Applying the function to all the questions present in the original body column in order to check well the cleaning processed \n",
        "basic_data['OBody'] = basic_data['OBody'].apply(clean_data)"
      ]
    },
    {
      "cell_type": "code",
      "execution_count": null,
      "metadata": {
        "colab": {
          "base_uri": "https://localhost:8080/",
          "height": 615
        },
        "id": "Rf3pKLLTKClD",
        "outputId": "bf546a77-0b38-4e0a-c210-9ba5d773fa28"
      },
      "outputs": [
        {
          "output_type": "execute_result",
          "data": {
            "text/plain": [
              "            OId                                             OTitle  \\\n",
              "20955  14665601                     Regex too much or none at all.   \n",
              "22107  17953335  Browser Mode options missing from IE11's F12 D...   \n",
              "27053  18232254                                  NSData in base 10   \n",
              "22483  14812238  JSF View Scoped Bean Reconstructed Multiple Times   \n",
              "3808    2509229                        a \"+\" sign in email address   \n",
              "\n",
              "                                                   OBody  \\\n",
              "20955  example string match class unique href 2343242...   \n",
              "22107  download ie11 development version wonder capab...   \n",
              "27053  possible nslog nsdata base basically byte arra...   \n",
              "22483  thought suppose prevent bean reconstruct user ...   \n",
              "3808   need submit email address sign validate server...   \n",
              "\n",
              "                                   OTags       DId  \\\n",
              "20955                              regex     22444   \n",
              "22107                  internet-explorer  17871124   \n",
              "27053                  ios objective-c c   6626038   \n",
              "22483      jsf jakarta-ee ejb view-scope   5541813   \n",
              "3808   iphone objective-c iphone-sdk-3.0   7671327   \n",
              "\n",
              "                                                  DTitle  \\\n",
              "20955  My regex is matching too much. How do I make i...   \n",
              "22107          How to bring back \"Browser mode\" in IE11?   \n",
              "27053                        Printing NSData using NSLog   \n",
              "22483  @ViewScoped calls @PostConstruct on every post...   \n",
              "3808   Team Foundation services are not available fro...   \n",
              "\n",
              "                                                   DBody  \\\n",
              "20955  <p>I have this gigantic ugly string:</p>\\n<pre...   \n",
              "22107  <p><strong>UPDATE</strong>: The old question a...   \n",
              "27053  <p>How can I print the contents of an NSData o...   \n",
              "22483  <p>This doesn't seem right. I was doing some c...   \n",
              "3808   <p>We are working with Visual Studio 2010 and ...   \n",
              "\n",
              "                                                   DTags  isDuplicate  \n",
              "20955                                              regex            1  \n",
              "22107  cross-browser ie-developer-tools internet-expl...            1  \n",
              "27053                                 iphone objective-c            1  \n",
              "22483     jsf jsf-2 constructor view-scope postconstruct            1  \n",
              "3808           visual-studio-2010 visual-studio-2012 tfs            0  "
            ],
            "text/html": [
              "\n",
              "  <div id=\"df-c9be0f53-7d5b-4c98-9da1-6bb00a3a1c67\">\n",
              "    <div class=\"colab-df-container\">\n",
              "      <div>\n",
              "<style scoped>\n",
              "    .dataframe tbody tr th:only-of-type {\n",
              "        vertical-align: middle;\n",
              "    }\n",
              "\n",
              "    .dataframe tbody tr th {\n",
              "        vertical-align: top;\n",
              "    }\n",
              "\n",
              "    .dataframe thead th {\n",
              "        text-align: right;\n",
              "    }\n",
              "</style>\n",
              "<table border=\"1\" class=\"dataframe\">\n",
              "  <thead>\n",
              "    <tr style=\"text-align: right;\">\n",
              "      <th></th>\n",
              "      <th>OId</th>\n",
              "      <th>OTitle</th>\n",
              "      <th>OBody</th>\n",
              "      <th>OTags</th>\n",
              "      <th>DId</th>\n",
              "      <th>DTitle</th>\n",
              "      <th>DBody</th>\n",
              "      <th>DTags</th>\n",
              "      <th>isDuplicate</th>\n",
              "    </tr>\n",
              "  </thead>\n",
              "  <tbody>\n",
              "    <tr>\n",
              "      <th>20955</th>\n",
              "      <td>14665601</td>\n",
              "      <td>Regex too much or none at all.</td>\n",
              "      <td>example string match class unique href 2343242...</td>\n",
              "      <td>regex</td>\n",
              "      <td>22444</td>\n",
              "      <td>My regex is matching too much. How do I make i...</td>\n",
              "      <td>&lt;p&gt;I have this gigantic ugly string:&lt;/p&gt;\\n&lt;pre...</td>\n",
              "      <td>regex</td>\n",
              "      <td>1</td>\n",
              "    </tr>\n",
              "    <tr>\n",
              "      <th>22107</th>\n",
              "      <td>17953335</td>\n",
              "      <td>Browser Mode options missing from IE11's F12 D...</td>\n",
              "      <td>download ie11 development version wonder capab...</td>\n",
              "      <td>internet-explorer</td>\n",
              "      <td>17871124</td>\n",
              "      <td>How to bring back \"Browser mode\" in IE11?</td>\n",
              "      <td>&lt;p&gt;&lt;strong&gt;UPDATE&lt;/strong&gt;: The old question a...</td>\n",
              "      <td>cross-browser ie-developer-tools internet-expl...</td>\n",
              "      <td>1</td>\n",
              "    </tr>\n",
              "    <tr>\n",
              "      <th>27053</th>\n",
              "      <td>18232254</td>\n",
              "      <td>NSData in base 10</td>\n",
              "      <td>possible nslog nsdata base basically byte arra...</td>\n",
              "      <td>ios objective-c c</td>\n",
              "      <td>6626038</td>\n",
              "      <td>Printing NSData using NSLog</td>\n",
              "      <td>&lt;p&gt;How can I print the contents of an NSData o...</td>\n",
              "      <td>iphone objective-c</td>\n",
              "      <td>1</td>\n",
              "    </tr>\n",
              "    <tr>\n",
              "      <th>22483</th>\n",
              "      <td>14812238</td>\n",
              "      <td>JSF View Scoped Bean Reconstructed Multiple Times</td>\n",
              "      <td>thought suppose prevent bean reconstruct user ...</td>\n",
              "      <td>jsf jakarta-ee ejb view-scope</td>\n",
              "      <td>5541813</td>\n",
              "      <td>@ViewScoped calls @PostConstruct on every post...</td>\n",
              "      <td>&lt;p&gt;This doesn't seem right. I was doing some c...</td>\n",
              "      <td>jsf jsf-2 constructor view-scope postconstruct</td>\n",
              "      <td>1</td>\n",
              "    </tr>\n",
              "    <tr>\n",
              "      <th>3808</th>\n",
              "      <td>2509229</td>\n",
              "      <td>a \"+\" sign in email address</td>\n",
              "      <td>need submit email address sign validate server...</td>\n",
              "      <td>iphone objective-c iphone-sdk-3.0</td>\n",
              "      <td>7671327</td>\n",
              "      <td>Team Foundation services are not available fro...</td>\n",
              "      <td>&lt;p&gt;We are working with Visual Studio 2010 and ...</td>\n",
              "      <td>visual-studio-2010 visual-studio-2012 tfs</td>\n",
              "      <td>0</td>\n",
              "    </tr>\n",
              "  </tbody>\n",
              "</table>\n",
              "</div>\n",
              "      <button class=\"colab-df-convert\" onclick=\"convertToInteractive('df-c9be0f53-7d5b-4c98-9da1-6bb00a3a1c67')\"\n",
              "              title=\"Convert this dataframe to an interactive table.\"\n",
              "              style=\"display:none;\">\n",
              "        \n",
              "  <svg xmlns=\"http://www.w3.org/2000/svg\" height=\"24px\"viewBox=\"0 0 24 24\"\n",
              "       width=\"24px\">\n",
              "    <path d=\"M0 0h24v24H0V0z\" fill=\"none\"/>\n",
              "    <path d=\"M18.56 5.44l.94 2.06.94-2.06 2.06-.94-2.06-.94-.94-2.06-.94 2.06-2.06.94zm-11 1L8.5 8.5l.94-2.06 2.06-.94-2.06-.94L8.5 2.5l-.94 2.06-2.06.94zm10 10l.94 2.06.94-2.06 2.06-.94-2.06-.94-.94-2.06-.94 2.06-2.06.94z\"/><path d=\"M17.41 7.96l-1.37-1.37c-.4-.4-.92-.59-1.43-.59-.52 0-1.04.2-1.43.59L10.3 9.45l-7.72 7.72c-.78.78-.78 2.05 0 2.83L4 21.41c.39.39.9.59 1.41.59.51 0 1.02-.2 1.41-.59l7.78-7.78 2.81-2.81c.8-.78.8-2.07 0-2.86zM5.41 20L4 18.59l7.72-7.72 1.47 1.35L5.41 20z\"/>\n",
              "  </svg>\n",
              "      </button>\n",
              "      \n",
              "  <style>\n",
              "    .colab-df-container {\n",
              "      display:flex;\n",
              "      flex-wrap:wrap;\n",
              "      gap: 12px;\n",
              "    }\n",
              "\n",
              "    .colab-df-convert {\n",
              "      background-color: #E8F0FE;\n",
              "      border: none;\n",
              "      border-radius: 50%;\n",
              "      cursor: pointer;\n",
              "      display: none;\n",
              "      fill: #1967D2;\n",
              "      height: 32px;\n",
              "      padding: 0 0 0 0;\n",
              "      width: 32px;\n",
              "    }\n",
              "\n",
              "    .colab-df-convert:hover {\n",
              "      background-color: #E2EBFA;\n",
              "      box-shadow: 0px 1px 2px rgba(60, 64, 67, 0.3), 0px 1px 3px 1px rgba(60, 64, 67, 0.15);\n",
              "      fill: #174EA6;\n",
              "    }\n",
              "\n",
              "    [theme=dark] .colab-df-convert {\n",
              "      background-color: #3B4455;\n",
              "      fill: #D2E3FC;\n",
              "    }\n",
              "\n",
              "    [theme=dark] .colab-df-convert:hover {\n",
              "      background-color: #434B5C;\n",
              "      box-shadow: 0px 1px 3px 1px rgba(0, 0, 0, 0.15);\n",
              "      filter: drop-shadow(0px 1px 2px rgba(0, 0, 0, 0.3));\n",
              "      fill: #FFFFFF;\n",
              "    }\n",
              "  </style>\n",
              "\n",
              "      <script>\n",
              "        const buttonEl =\n",
              "          document.querySelector('#df-c9be0f53-7d5b-4c98-9da1-6bb00a3a1c67 button.colab-df-convert');\n",
              "        buttonEl.style.display =\n",
              "          google.colab.kernel.accessAllowed ? 'block' : 'none';\n",
              "\n",
              "        async function convertToInteractive(key) {\n",
              "          const element = document.querySelector('#df-c9be0f53-7d5b-4c98-9da1-6bb00a3a1c67');\n",
              "          const dataTable =\n",
              "            await google.colab.kernel.invokeFunction('convertToInteractive',\n",
              "                                                     [key], {});\n",
              "          if (!dataTable) return;\n",
              "\n",
              "          const docLinkHtml = 'Like what you see? Visit the ' +\n",
              "            '<a target=\"_blank\" href=https://colab.research.google.com/notebooks/data_table.ipynb>data table notebook</a>'\n",
              "            + ' to learn more about interactive tables.';\n",
              "          element.innerHTML = '';\n",
              "          dataTable['output_type'] = 'display_data';\n",
              "          await google.colab.output.renderOutput(dataTable, element);\n",
              "          const docLink = document.createElement('div');\n",
              "          docLink.innerHTML = docLinkHtml;\n",
              "          element.appendChild(docLink);\n",
              "        }\n",
              "      </script>\n",
              "    </div>\n",
              "  </div>\n",
              "  "
            ]
          },
          "metadata": {},
          "execution_count": 27
        }
      ],
      "source": [
        "basic_data.head()"
      ]
    },
    {
      "cell_type": "code",
      "execution_count": null,
      "metadata": {
        "id": "2lF8be_eKEdL"
      },
      "outputs": [],
      "source": [
        "basic_data['DBody'] = basic_data['DBody'].apply(clean_data)"
      ]
    },
    {
      "cell_type": "code",
      "execution_count": null,
      "metadata": {
        "id": "pLudmzKhKqhj"
      },
      "outputs": [],
      "source": [
        "## Add the following piece of code in the cleaning process, this steps first removes all the extra ---- presents in the data and also removes the\n",
        "## whitespaces present in the data.\n",
        "\n",
        "def rm_whitespace_hyphen(value):\n",
        "  return ' '.join(value.replace(\"-\",\"\").split())"
      ]
    },
    {
      "cell_type": "code",
      "execution_count": null,
      "metadata": {
        "id": "H0LG7F7-KuEl"
      },
      "outputs": [],
      "source": [
        "basic_data['OBody'] = basic_data['OBody'].apply(rm_whitespace_hyphen)\n",
        "basic_data['DBody'] = basic_data['DBody'].apply(rm_whitespace_hyphen)"
      ]
    },
    {
      "cell_type": "code",
      "execution_count": null,
      "metadata": {
        "colab": {
          "base_uri": "https://localhost:8080/",
          "height": 563
        },
        "id": "AqnE1yy6VXWW",
        "outputId": "946d7fb7-fea9-42ba-fada-4c179e6d0fe8"
      },
      "outputs": [
        {
          "output_type": "execute_result",
          "data": {
            "text/plain": [
              "            OId                                             OTitle  \\\n",
              "20955  14665601                     Regex too much or none at all.   \n",
              "22107  17953335  Browser Mode options missing from IE11's F12 D...   \n",
              "27053  18232254                                  NSData in base 10   \n",
              "22483  14812238  JSF View Scoped Bean Reconstructed Multiple Times   \n",
              "3808    2509229                        a \"+\" sign in email address   \n",
              "\n",
              "                                                   OBody  \\\n",
              "20955  example string match class unique href 2343242...   \n",
              "22107  download ie11 development version wonder capab...   \n",
              "27053  possible nslog nsdata base basically byte arra...   \n",
              "22483  thought suppose prevent bean reconstruct user ...   \n",
              "3808   need submit email address sign validate server...   \n",
              "\n",
              "                                   OTags       DId  \\\n",
              "20955                              regex     22444   \n",
              "22107                  internet-explorer  17871124   \n",
              "27053                  ios objective-c c   6626038   \n",
              "22483      jsf jakarta-ee ejb view-scope   5541813   \n",
              "3808   iphone objective-c iphone-sdk-3.0   7671327   \n",
              "\n",
              "                                                  DTitle  \\\n",
              "20955  My regex is matching too much. How do I make i...   \n",
              "22107          How to bring back \"Browser mode\" in IE11?   \n",
              "27053                        Printing NSData using NSLog   \n",
              "22483  @ViewScoped calls @PostConstruct on every post...   \n",
              "3808   Team Foundation services are not available fro...   \n",
              "\n",
              "                                                   DBody  \\\n",
              "20955  gigantic ugly string j0000000 transaction a000...   \n",
              "22107  update question applies ie11 preview browser m...   \n",
              "27053  print content nsdata object use nslog void pos...   \n",
              "22483  seem right cleanup code notice every ajax requ...   \n",
              "3808   work visual studio 2010 team foundation server...   \n",
              "\n",
              "                                                   DTags  isDuplicate  \n",
              "20955                                              regex            1  \n",
              "22107  cross-browser ie-developer-tools internet-expl...            1  \n",
              "27053                                 iphone objective-c            1  \n",
              "22483     jsf jsf-2 constructor view-scope postconstruct            1  \n",
              "3808           visual-studio-2010 visual-studio-2012 tfs            0  "
            ],
            "text/html": [
              "\n",
              "  <div id=\"df-1f24a684-2a84-4ab0-a088-b6fc7c07d4f1\">\n",
              "    <div class=\"colab-df-container\">\n",
              "      <div>\n",
              "<style scoped>\n",
              "    .dataframe tbody tr th:only-of-type {\n",
              "        vertical-align: middle;\n",
              "    }\n",
              "\n",
              "    .dataframe tbody tr th {\n",
              "        vertical-align: top;\n",
              "    }\n",
              "\n",
              "    .dataframe thead th {\n",
              "        text-align: right;\n",
              "    }\n",
              "</style>\n",
              "<table border=\"1\" class=\"dataframe\">\n",
              "  <thead>\n",
              "    <tr style=\"text-align: right;\">\n",
              "      <th></th>\n",
              "      <th>OId</th>\n",
              "      <th>OTitle</th>\n",
              "      <th>OBody</th>\n",
              "      <th>OTags</th>\n",
              "      <th>DId</th>\n",
              "      <th>DTitle</th>\n",
              "      <th>DBody</th>\n",
              "      <th>DTags</th>\n",
              "      <th>isDuplicate</th>\n",
              "    </tr>\n",
              "  </thead>\n",
              "  <tbody>\n",
              "    <tr>\n",
              "      <th>20955</th>\n",
              "      <td>14665601</td>\n",
              "      <td>Regex too much or none at all.</td>\n",
              "      <td>example string match class unique href 2343242...</td>\n",
              "      <td>regex</td>\n",
              "      <td>22444</td>\n",
              "      <td>My regex is matching too much. How do I make i...</td>\n",
              "      <td>gigantic ugly string j0000000 transaction a000...</td>\n",
              "      <td>regex</td>\n",
              "      <td>1</td>\n",
              "    </tr>\n",
              "    <tr>\n",
              "      <th>22107</th>\n",
              "      <td>17953335</td>\n",
              "      <td>Browser Mode options missing from IE11's F12 D...</td>\n",
              "      <td>download ie11 development version wonder capab...</td>\n",
              "      <td>internet-explorer</td>\n",
              "      <td>17871124</td>\n",
              "      <td>How to bring back \"Browser mode\" in IE11?</td>\n",
              "      <td>update question applies ie11 preview browser m...</td>\n",
              "      <td>cross-browser ie-developer-tools internet-expl...</td>\n",
              "      <td>1</td>\n",
              "    </tr>\n",
              "    <tr>\n",
              "      <th>27053</th>\n",
              "      <td>18232254</td>\n",
              "      <td>NSData in base 10</td>\n",
              "      <td>possible nslog nsdata base basically byte arra...</td>\n",
              "      <td>ios objective-c c</td>\n",
              "      <td>6626038</td>\n",
              "      <td>Printing NSData using NSLog</td>\n",
              "      <td>print content nsdata object use nslog void pos...</td>\n",
              "      <td>iphone objective-c</td>\n",
              "      <td>1</td>\n",
              "    </tr>\n",
              "    <tr>\n",
              "      <th>22483</th>\n",
              "      <td>14812238</td>\n",
              "      <td>JSF View Scoped Bean Reconstructed Multiple Times</td>\n",
              "      <td>thought suppose prevent bean reconstruct user ...</td>\n",
              "      <td>jsf jakarta-ee ejb view-scope</td>\n",
              "      <td>5541813</td>\n",
              "      <td>@ViewScoped calls @PostConstruct on every post...</td>\n",
              "      <td>seem right cleanup code notice every ajax requ...</td>\n",
              "      <td>jsf jsf-2 constructor view-scope postconstruct</td>\n",
              "      <td>1</td>\n",
              "    </tr>\n",
              "    <tr>\n",
              "      <th>3808</th>\n",
              "      <td>2509229</td>\n",
              "      <td>a \"+\" sign in email address</td>\n",
              "      <td>need submit email address sign validate server...</td>\n",
              "      <td>iphone objective-c iphone-sdk-3.0</td>\n",
              "      <td>7671327</td>\n",
              "      <td>Team Foundation services are not available fro...</td>\n",
              "      <td>work visual studio 2010 team foundation server...</td>\n",
              "      <td>visual-studio-2010 visual-studio-2012 tfs</td>\n",
              "      <td>0</td>\n",
              "    </tr>\n",
              "  </tbody>\n",
              "</table>\n",
              "</div>\n",
              "      <button class=\"colab-df-convert\" onclick=\"convertToInteractive('df-1f24a684-2a84-4ab0-a088-b6fc7c07d4f1')\"\n",
              "              title=\"Convert this dataframe to an interactive table.\"\n",
              "              style=\"display:none;\">\n",
              "        \n",
              "  <svg xmlns=\"http://www.w3.org/2000/svg\" height=\"24px\"viewBox=\"0 0 24 24\"\n",
              "       width=\"24px\">\n",
              "    <path d=\"M0 0h24v24H0V0z\" fill=\"none\"/>\n",
              "    <path d=\"M18.56 5.44l.94 2.06.94-2.06 2.06-.94-2.06-.94-.94-2.06-.94 2.06-2.06.94zm-11 1L8.5 8.5l.94-2.06 2.06-.94-2.06-.94L8.5 2.5l-.94 2.06-2.06.94zm10 10l.94 2.06.94-2.06 2.06-.94-2.06-.94-.94-2.06-.94 2.06-2.06.94z\"/><path d=\"M17.41 7.96l-1.37-1.37c-.4-.4-.92-.59-1.43-.59-.52 0-1.04.2-1.43.59L10.3 9.45l-7.72 7.72c-.78.78-.78 2.05 0 2.83L4 21.41c.39.39.9.59 1.41.59.51 0 1.02-.2 1.41-.59l7.78-7.78 2.81-2.81c.8-.78.8-2.07 0-2.86zM5.41 20L4 18.59l7.72-7.72 1.47 1.35L5.41 20z\"/>\n",
              "  </svg>\n",
              "      </button>\n",
              "      \n",
              "  <style>\n",
              "    .colab-df-container {\n",
              "      display:flex;\n",
              "      flex-wrap:wrap;\n",
              "      gap: 12px;\n",
              "    }\n",
              "\n",
              "    .colab-df-convert {\n",
              "      background-color: #E8F0FE;\n",
              "      border: none;\n",
              "      border-radius: 50%;\n",
              "      cursor: pointer;\n",
              "      display: none;\n",
              "      fill: #1967D2;\n",
              "      height: 32px;\n",
              "      padding: 0 0 0 0;\n",
              "      width: 32px;\n",
              "    }\n",
              "\n",
              "    .colab-df-convert:hover {\n",
              "      background-color: #E2EBFA;\n",
              "      box-shadow: 0px 1px 2px rgba(60, 64, 67, 0.3), 0px 1px 3px 1px rgba(60, 64, 67, 0.15);\n",
              "      fill: #174EA6;\n",
              "    }\n",
              "\n",
              "    [theme=dark] .colab-df-convert {\n",
              "      background-color: #3B4455;\n",
              "      fill: #D2E3FC;\n",
              "    }\n",
              "\n",
              "    [theme=dark] .colab-df-convert:hover {\n",
              "      background-color: #434B5C;\n",
              "      box-shadow: 0px 1px 3px 1px rgba(0, 0, 0, 0.15);\n",
              "      filter: drop-shadow(0px 1px 2px rgba(0, 0, 0, 0.3));\n",
              "      fill: #FFFFFF;\n",
              "    }\n",
              "  </style>\n",
              "\n",
              "      <script>\n",
              "        const buttonEl =\n",
              "          document.querySelector('#df-1f24a684-2a84-4ab0-a088-b6fc7c07d4f1 button.colab-df-convert');\n",
              "        buttonEl.style.display =\n",
              "          google.colab.kernel.accessAllowed ? 'block' : 'none';\n",
              "\n",
              "        async function convertToInteractive(key) {\n",
              "          const element = document.querySelector('#df-1f24a684-2a84-4ab0-a088-b6fc7c07d4f1');\n",
              "          const dataTable =\n",
              "            await google.colab.kernel.invokeFunction('convertToInteractive',\n",
              "                                                     [key], {});\n",
              "          if (!dataTable) return;\n",
              "\n",
              "          const docLinkHtml = 'Like what you see? Visit the ' +\n",
              "            '<a target=\"_blank\" href=https://colab.research.google.com/notebooks/data_table.ipynb>data table notebook</a>'\n",
              "            + ' to learn more about interactive tables.';\n",
              "          element.innerHTML = '';\n",
              "          dataTable['output_type'] = 'display_data';\n",
              "          await google.colab.output.renderOutput(dataTable, element);\n",
              "          const docLink = document.createElement('div');\n",
              "          docLink.innerHTML = docLinkHtml;\n",
              "          element.appendChild(docLink);\n",
              "        }\n",
              "      </script>\n",
              "    </div>\n",
              "  </div>\n",
              "  "
            ]
          },
          "metadata": {},
          "execution_count": 31
        }
      ],
      "source": [
        "basic_data.head()"
      ]
    },
    {
      "cell_type": "code",
      "execution_count": null,
      "metadata": {
        "id": "G1UD37HscavL"
      },
      "outputs": [],
      "source": [
        "from bs4 import BeautifulSoup\n",
        "\n",
        "def fix_html(html):\n",
        "    soup = BeautifulSoup(html)\n",
        "\n",
        "    for a in soup.findAll('code'):\n",
        "        a.replaceWith(\"CODE\")\n",
        "\n",
        "    return (soup.get_text()).replace(\"\\\\n\",'\\n')\n",
        "    \n"
      ]
    },
    {
      "cell_type": "code",
      "execution_count": null,
      "metadata": {
        "colab": {
          "base_uri": "https://localhost:8080/",
          "height": 563
        },
        "id": "Uf_Y0VL7LFdY",
        "outputId": "a2e19a00-8be5-4db4-9c95-402b9dd3d0c1"
      },
      "outputs": [
        {
          "output_type": "execute_result",
          "data": {
            "text/plain": [
              "            OId                                             OTitle  \\\n",
              "20955  14665601                     Regex too much or none at all.   \n",
              "22107  17953335  Browser Mode options missing from IE11's F12 D...   \n",
              "27053  18232254                                  NSData in base 10   \n",
              "22483  14812238  JSF View Scoped Bean Reconstructed Multiple Times   \n",
              "3808    2509229                        a \"+\" sign in email address   \n",
              "\n",
              "                                                   OBody  \\\n",
              "20955  example string match class unique href 2343242...   \n",
              "22107  download ie11 development version wonder capab...   \n",
              "27053  possible nslog nsdata base basically byte arra...   \n",
              "22483  thought suppose prevent bean reconstruct user ...   \n",
              "3808   need submit email address sign validate server...   \n",
              "\n",
              "                                   OTags       DId  \\\n",
              "20955                              regex     22444   \n",
              "22107                  internet-explorer  17871124   \n",
              "27053                  ios objective-c c   6626038   \n",
              "22483      jsf jakarta-ee ejb view-scope   5541813   \n",
              "3808   iphone objective-c iphone-sdk-3.0   7671327   \n",
              "\n",
              "                                                  DTitle  \\\n",
              "20955  My regex is matching too much. How do I make i...   \n",
              "22107          How to bring back \"Browser mode\" in IE11?   \n",
              "27053                        Printing NSData using NSLog   \n",
              "22483  @ViewScoped calls @PostConstruct on every post...   \n",
              "3808   Team Foundation services are not available fro...   \n",
              "\n",
              "                                                   DBody  \\\n",
              "20955  gigantic ugly string j0000000 transaction a000...   \n",
              "22107  update question applies ie11 preview browser m...   \n",
              "27053  print content nsdata object use nslog void pos...   \n",
              "22483  seem right cleanup code notice every ajax requ...   \n",
              "3808   work visual studio 2010 team foundation server...   \n",
              "\n",
              "                                                   DTags  isDuplicate  \n",
              "20955                                              regex            1  \n",
              "22107  cross-browser ie-developer-tools internet-expl...            1  \n",
              "27053                                 iphone objective-c            1  \n",
              "22483     jsf jsf-2 constructor view-scope postconstruct            1  \n",
              "3808           visual-studio-2010 visual-studio-2012 tfs            0  "
            ],
            "text/html": [
              "\n",
              "  <div id=\"df-3ea1b139-2400-4786-ac79-d80d24cf171f\">\n",
              "    <div class=\"colab-df-container\">\n",
              "      <div>\n",
              "<style scoped>\n",
              "    .dataframe tbody tr th:only-of-type {\n",
              "        vertical-align: middle;\n",
              "    }\n",
              "\n",
              "    .dataframe tbody tr th {\n",
              "        vertical-align: top;\n",
              "    }\n",
              "\n",
              "    .dataframe thead th {\n",
              "        text-align: right;\n",
              "    }\n",
              "</style>\n",
              "<table border=\"1\" class=\"dataframe\">\n",
              "  <thead>\n",
              "    <tr style=\"text-align: right;\">\n",
              "      <th></th>\n",
              "      <th>OId</th>\n",
              "      <th>OTitle</th>\n",
              "      <th>OBody</th>\n",
              "      <th>OTags</th>\n",
              "      <th>DId</th>\n",
              "      <th>DTitle</th>\n",
              "      <th>DBody</th>\n",
              "      <th>DTags</th>\n",
              "      <th>isDuplicate</th>\n",
              "    </tr>\n",
              "  </thead>\n",
              "  <tbody>\n",
              "    <tr>\n",
              "      <th>20955</th>\n",
              "      <td>14665601</td>\n",
              "      <td>Regex too much or none at all.</td>\n",
              "      <td>example string match class unique href 2343242...</td>\n",
              "      <td>regex</td>\n",
              "      <td>22444</td>\n",
              "      <td>My regex is matching too much. How do I make i...</td>\n",
              "      <td>gigantic ugly string j0000000 transaction a000...</td>\n",
              "      <td>regex</td>\n",
              "      <td>1</td>\n",
              "    </tr>\n",
              "    <tr>\n",
              "      <th>22107</th>\n",
              "      <td>17953335</td>\n",
              "      <td>Browser Mode options missing from IE11's F12 D...</td>\n",
              "      <td>download ie11 development version wonder capab...</td>\n",
              "      <td>internet-explorer</td>\n",
              "      <td>17871124</td>\n",
              "      <td>How to bring back \"Browser mode\" in IE11?</td>\n",
              "      <td>update question applies ie11 preview browser m...</td>\n",
              "      <td>cross-browser ie-developer-tools internet-expl...</td>\n",
              "      <td>1</td>\n",
              "    </tr>\n",
              "    <tr>\n",
              "      <th>27053</th>\n",
              "      <td>18232254</td>\n",
              "      <td>NSData in base 10</td>\n",
              "      <td>possible nslog nsdata base basically byte arra...</td>\n",
              "      <td>ios objective-c c</td>\n",
              "      <td>6626038</td>\n",
              "      <td>Printing NSData using NSLog</td>\n",
              "      <td>print content nsdata object use nslog void pos...</td>\n",
              "      <td>iphone objective-c</td>\n",
              "      <td>1</td>\n",
              "    </tr>\n",
              "    <tr>\n",
              "      <th>22483</th>\n",
              "      <td>14812238</td>\n",
              "      <td>JSF View Scoped Bean Reconstructed Multiple Times</td>\n",
              "      <td>thought suppose prevent bean reconstruct user ...</td>\n",
              "      <td>jsf jakarta-ee ejb view-scope</td>\n",
              "      <td>5541813</td>\n",
              "      <td>@ViewScoped calls @PostConstruct on every post...</td>\n",
              "      <td>seem right cleanup code notice every ajax requ...</td>\n",
              "      <td>jsf jsf-2 constructor view-scope postconstruct</td>\n",
              "      <td>1</td>\n",
              "    </tr>\n",
              "    <tr>\n",
              "      <th>3808</th>\n",
              "      <td>2509229</td>\n",
              "      <td>a \"+\" sign in email address</td>\n",
              "      <td>need submit email address sign validate server...</td>\n",
              "      <td>iphone objective-c iphone-sdk-3.0</td>\n",
              "      <td>7671327</td>\n",
              "      <td>Team Foundation services are not available fro...</td>\n",
              "      <td>work visual studio 2010 team foundation server...</td>\n",
              "      <td>visual-studio-2010 visual-studio-2012 tfs</td>\n",
              "      <td>0</td>\n",
              "    </tr>\n",
              "  </tbody>\n",
              "</table>\n",
              "</div>\n",
              "      <button class=\"colab-df-convert\" onclick=\"convertToInteractive('df-3ea1b139-2400-4786-ac79-d80d24cf171f')\"\n",
              "              title=\"Convert this dataframe to an interactive table.\"\n",
              "              style=\"display:none;\">\n",
              "        \n",
              "  <svg xmlns=\"http://www.w3.org/2000/svg\" height=\"24px\"viewBox=\"0 0 24 24\"\n",
              "       width=\"24px\">\n",
              "    <path d=\"M0 0h24v24H0V0z\" fill=\"none\"/>\n",
              "    <path d=\"M18.56 5.44l.94 2.06.94-2.06 2.06-.94-2.06-.94-.94-2.06-.94 2.06-2.06.94zm-11 1L8.5 8.5l.94-2.06 2.06-.94-2.06-.94L8.5 2.5l-.94 2.06-2.06.94zm10 10l.94 2.06.94-2.06 2.06-.94-2.06-.94-.94-2.06-.94 2.06-2.06.94z\"/><path d=\"M17.41 7.96l-1.37-1.37c-.4-.4-.92-.59-1.43-.59-.52 0-1.04.2-1.43.59L10.3 9.45l-7.72 7.72c-.78.78-.78 2.05 0 2.83L4 21.41c.39.39.9.59 1.41.59.51 0 1.02-.2 1.41-.59l7.78-7.78 2.81-2.81c.8-.78.8-2.07 0-2.86zM5.41 20L4 18.59l7.72-7.72 1.47 1.35L5.41 20z\"/>\n",
              "  </svg>\n",
              "      </button>\n",
              "      \n",
              "  <style>\n",
              "    .colab-df-container {\n",
              "      display:flex;\n",
              "      flex-wrap:wrap;\n",
              "      gap: 12px;\n",
              "    }\n",
              "\n",
              "    .colab-df-convert {\n",
              "      background-color: #E8F0FE;\n",
              "      border: none;\n",
              "      border-radius: 50%;\n",
              "      cursor: pointer;\n",
              "      display: none;\n",
              "      fill: #1967D2;\n",
              "      height: 32px;\n",
              "      padding: 0 0 0 0;\n",
              "      width: 32px;\n",
              "    }\n",
              "\n",
              "    .colab-df-convert:hover {\n",
              "      background-color: #E2EBFA;\n",
              "      box-shadow: 0px 1px 2px rgba(60, 64, 67, 0.3), 0px 1px 3px 1px rgba(60, 64, 67, 0.15);\n",
              "      fill: #174EA6;\n",
              "    }\n",
              "\n",
              "    [theme=dark] .colab-df-convert {\n",
              "      background-color: #3B4455;\n",
              "      fill: #D2E3FC;\n",
              "    }\n",
              "\n",
              "    [theme=dark] .colab-df-convert:hover {\n",
              "      background-color: #434B5C;\n",
              "      box-shadow: 0px 1px 3px 1px rgba(0, 0, 0, 0.15);\n",
              "      filter: drop-shadow(0px 1px 2px rgba(0, 0, 0, 0.3));\n",
              "      fill: #FFFFFF;\n",
              "    }\n",
              "  </style>\n",
              "\n",
              "      <script>\n",
              "        const buttonEl =\n",
              "          document.querySelector('#df-3ea1b139-2400-4786-ac79-d80d24cf171f button.colab-df-convert');\n",
              "        buttonEl.style.display =\n",
              "          google.colab.kernel.accessAllowed ? 'block' : 'none';\n",
              "\n",
              "        async function convertToInteractive(key) {\n",
              "          const element = document.querySelector('#df-3ea1b139-2400-4786-ac79-d80d24cf171f');\n",
              "          const dataTable =\n",
              "            await google.colab.kernel.invokeFunction('convertToInteractive',\n",
              "                                                     [key], {});\n",
              "          if (!dataTable) return;\n",
              "\n",
              "          const docLinkHtml = 'Like what you see? Visit the ' +\n",
              "            '<a target=\"_blank\" href=https://colab.research.google.com/notebooks/data_table.ipynb>data table notebook</a>'\n",
              "            + ' to learn more about interactive tables.';\n",
              "          element.innerHTML = '';\n",
              "          dataTable['output_type'] = 'display_data';\n",
              "          await google.colab.output.renderOutput(dataTable, element);\n",
              "          const docLink = document.createElement('div');\n",
              "          docLink.innerHTML = docLinkHtml;\n",
              "          element.appendChild(docLink);\n",
              "        }\n",
              "      </script>\n",
              "    </div>\n",
              "  </div>\n",
              "  "
            ]
          },
          "metadata": {},
          "execution_count": 33
        }
      ],
      "source": [
        "basic_data.head()"
      ]
    },
    {
      "cell_type": "code",
      "execution_count": null,
      "metadata": {
        "id": "1wylEftkcyg0"
      },
      "outputs": [],
      "source": [
        "basic_data['OBody'] = basic_data['OBody'].apply(lambda x: fix_html(x))"
      ]
    },
    {
      "cell_type": "code",
      "execution_count": null,
      "metadata": {
        "id": "3vGUTYQudDK8"
      },
      "outputs": [],
      "source": [
        "basic_data['DBody'] = basic_data['DBody'].apply(lambda x: fix_html(x))"
      ]
    },
    {
      "cell_type": "code",
      "execution_count": null,
      "metadata": {
        "id": "8BzODgEHK32U"
      },
      "outputs": [],
      "source": []
    },
    {
      "cell_type": "code",
      "execution_count": null,
      "metadata": {
        "id": "oo-OEX2sFtJH"
      },
      "outputs": [],
      "source": [
        "#################################################################"
      ]
    },
    {
      "cell_type": "code",
      "source": [
        "basic_data.head()"
      ],
      "metadata": {
        "colab": {
          "base_uri": "https://localhost:8080/",
          "height": 704
        },
        "id": "Zh-k4hS8ydU2",
        "outputId": "595a485d-5ae9-4fbd-ecba-f8a1db2d056f"
      },
      "execution_count": null,
      "outputs": [
        {
          "output_type": "execute_result",
          "data": {
            "text/plain": [
              "            OId                                             OTitle  \\\n",
              "20955  14665601                     Regex too much or none at all.   \n",
              "22107  17953335  Browser Mode options missing from IE11's F12 D...   \n",
              "27053  18232254                                  NSData in base 10   \n",
              "22483  14812238  JSF View Scoped Bean Reconstructed Multiple Times   \n",
              "3808    2509229                        a \"+\" sign in email address   \n",
              "\n",
              "                                                   OBody  \\\n",
              "20955  example string match class unique href 2343242...   \n",
              "22107  download ie11 development version wonder capab...   \n",
              "27053  possible nslog nsdata base basically byte arra...   \n",
              "22483  thought suppose prevent bean reconstruct user ...   \n",
              "3808   need submit email address sign validate server...   \n",
              "\n",
              "                                   OTags       DId  \\\n",
              "20955                              regex     22444   \n",
              "22107                  internet-explorer  17871124   \n",
              "27053                  ios objective-c c   6626038   \n",
              "22483      jsf jakarta-ee ejb view-scope   5541813   \n",
              "3808   iphone objective-c iphone-sdk-3.0   7671327   \n",
              "\n",
              "                                                  DTitle  \\\n",
              "20955  My regex is matching too much. How do I make i...   \n",
              "22107          How to bring back \"Browser mode\" in IE11?   \n",
              "27053                        Printing NSData using NSLog   \n",
              "22483  @ViewScoped calls @PostConstruct on every post...   \n",
              "3808   Team Foundation services are not available fro...   \n",
              "\n",
              "                                                   DBody  \\\n",
              "20955  gigantic ugly string j0000000 transaction a000...   \n",
              "22107  update question applies ie11 preview browser m...   \n",
              "27053  print content nsdata object use nslog void pos...   \n",
              "22483  seem right cleanup code notice every ajax requ...   \n",
              "3808   work visual studio 2010 team foundation server...   \n",
              "\n",
              "                                                   DTags  isDuplicate  \\\n",
              "20955                                              regex            1   \n",
              "22107  cross-browser ie-developer-tools internet-expl...            1   \n",
              "27053                                 iphone objective-c            1   \n",
              "22483     jsf jsf-2 constructor view-scope postconstruct            1   \n",
              "3808           visual-studio-2010 visual-studio-2012 tfs            0   \n",
              "\n",
              "       OBody_len  DBody_len  \n",
              "20955        271        359  \n",
              "22107        180        678  \n",
              "27053         91        606  \n",
              "22483       1203        173  \n",
              "3808        1122        414  "
            ],
            "text/html": [
              "\n",
              "  <div id=\"df-ce0f7353-1519-415f-920e-c62ceb0650b0\">\n",
              "    <div class=\"colab-df-container\">\n",
              "      <div>\n",
              "<style scoped>\n",
              "    .dataframe tbody tr th:only-of-type {\n",
              "        vertical-align: middle;\n",
              "    }\n",
              "\n",
              "    .dataframe tbody tr th {\n",
              "        vertical-align: top;\n",
              "    }\n",
              "\n",
              "    .dataframe thead th {\n",
              "        text-align: right;\n",
              "    }\n",
              "</style>\n",
              "<table border=\"1\" class=\"dataframe\">\n",
              "  <thead>\n",
              "    <tr style=\"text-align: right;\">\n",
              "      <th></th>\n",
              "      <th>OId</th>\n",
              "      <th>OTitle</th>\n",
              "      <th>OBody</th>\n",
              "      <th>OTags</th>\n",
              "      <th>DId</th>\n",
              "      <th>DTitle</th>\n",
              "      <th>DBody</th>\n",
              "      <th>DTags</th>\n",
              "      <th>isDuplicate</th>\n",
              "      <th>OBody_len</th>\n",
              "      <th>DBody_len</th>\n",
              "    </tr>\n",
              "  </thead>\n",
              "  <tbody>\n",
              "    <tr>\n",
              "      <th>20955</th>\n",
              "      <td>14665601</td>\n",
              "      <td>Regex too much or none at all.</td>\n",
              "      <td>example string match class unique href 2343242...</td>\n",
              "      <td>regex</td>\n",
              "      <td>22444</td>\n",
              "      <td>My regex is matching too much. How do I make i...</td>\n",
              "      <td>gigantic ugly string j0000000 transaction a000...</td>\n",
              "      <td>regex</td>\n",
              "      <td>1</td>\n",
              "      <td>271</td>\n",
              "      <td>359</td>\n",
              "    </tr>\n",
              "    <tr>\n",
              "      <th>22107</th>\n",
              "      <td>17953335</td>\n",
              "      <td>Browser Mode options missing from IE11's F12 D...</td>\n",
              "      <td>download ie11 development version wonder capab...</td>\n",
              "      <td>internet-explorer</td>\n",
              "      <td>17871124</td>\n",
              "      <td>How to bring back \"Browser mode\" in IE11?</td>\n",
              "      <td>update question applies ie11 preview browser m...</td>\n",
              "      <td>cross-browser ie-developer-tools internet-expl...</td>\n",
              "      <td>1</td>\n",
              "      <td>180</td>\n",
              "      <td>678</td>\n",
              "    </tr>\n",
              "    <tr>\n",
              "      <th>27053</th>\n",
              "      <td>18232254</td>\n",
              "      <td>NSData in base 10</td>\n",
              "      <td>possible nslog nsdata base basically byte arra...</td>\n",
              "      <td>ios objective-c c</td>\n",
              "      <td>6626038</td>\n",
              "      <td>Printing NSData using NSLog</td>\n",
              "      <td>print content nsdata object use nslog void pos...</td>\n",
              "      <td>iphone objective-c</td>\n",
              "      <td>1</td>\n",
              "      <td>91</td>\n",
              "      <td>606</td>\n",
              "    </tr>\n",
              "    <tr>\n",
              "      <th>22483</th>\n",
              "      <td>14812238</td>\n",
              "      <td>JSF View Scoped Bean Reconstructed Multiple Times</td>\n",
              "      <td>thought suppose prevent bean reconstruct user ...</td>\n",
              "      <td>jsf jakarta-ee ejb view-scope</td>\n",
              "      <td>5541813</td>\n",
              "      <td>@ViewScoped calls @PostConstruct on every post...</td>\n",
              "      <td>seem right cleanup code notice every ajax requ...</td>\n",
              "      <td>jsf jsf-2 constructor view-scope postconstruct</td>\n",
              "      <td>1</td>\n",
              "      <td>1203</td>\n",
              "      <td>173</td>\n",
              "    </tr>\n",
              "    <tr>\n",
              "      <th>3808</th>\n",
              "      <td>2509229</td>\n",
              "      <td>a \"+\" sign in email address</td>\n",
              "      <td>need submit email address sign validate server...</td>\n",
              "      <td>iphone objective-c iphone-sdk-3.0</td>\n",
              "      <td>7671327</td>\n",
              "      <td>Team Foundation services are not available fro...</td>\n",
              "      <td>work visual studio 2010 team foundation server...</td>\n",
              "      <td>visual-studio-2010 visual-studio-2012 tfs</td>\n",
              "      <td>0</td>\n",
              "      <td>1122</td>\n",
              "      <td>414</td>\n",
              "    </tr>\n",
              "  </tbody>\n",
              "</table>\n",
              "</div>\n",
              "      <button class=\"colab-df-convert\" onclick=\"convertToInteractive('df-ce0f7353-1519-415f-920e-c62ceb0650b0')\"\n",
              "              title=\"Convert this dataframe to an interactive table.\"\n",
              "              style=\"display:none;\">\n",
              "        \n",
              "  <svg xmlns=\"http://www.w3.org/2000/svg\" height=\"24px\"viewBox=\"0 0 24 24\"\n",
              "       width=\"24px\">\n",
              "    <path d=\"M0 0h24v24H0V0z\" fill=\"none\"/>\n",
              "    <path d=\"M18.56 5.44l.94 2.06.94-2.06 2.06-.94-2.06-.94-.94-2.06-.94 2.06-2.06.94zm-11 1L8.5 8.5l.94-2.06 2.06-.94-2.06-.94L8.5 2.5l-.94 2.06-2.06.94zm10 10l.94 2.06.94-2.06 2.06-.94-2.06-.94-.94-2.06-.94 2.06-2.06.94z\"/><path d=\"M17.41 7.96l-1.37-1.37c-.4-.4-.92-.59-1.43-.59-.52 0-1.04.2-1.43.59L10.3 9.45l-7.72 7.72c-.78.78-.78 2.05 0 2.83L4 21.41c.39.39.9.59 1.41.59.51 0 1.02-.2 1.41-.59l7.78-7.78 2.81-2.81c.8-.78.8-2.07 0-2.86zM5.41 20L4 18.59l7.72-7.72 1.47 1.35L5.41 20z\"/>\n",
              "  </svg>\n",
              "      </button>\n",
              "      \n",
              "  <style>\n",
              "    .colab-df-container {\n",
              "      display:flex;\n",
              "      flex-wrap:wrap;\n",
              "      gap: 12px;\n",
              "    }\n",
              "\n",
              "    .colab-df-convert {\n",
              "      background-color: #E8F0FE;\n",
              "      border: none;\n",
              "      border-radius: 50%;\n",
              "      cursor: pointer;\n",
              "      display: none;\n",
              "      fill: #1967D2;\n",
              "      height: 32px;\n",
              "      padding: 0 0 0 0;\n",
              "      width: 32px;\n",
              "    }\n",
              "\n",
              "    .colab-df-convert:hover {\n",
              "      background-color: #E2EBFA;\n",
              "      box-shadow: 0px 1px 2px rgba(60, 64, 67, 0.3), 0px 1px 3px 1px rgba(60, 64, 67, 0.15);\n",
              "      fill: #174EA6;\n",
              "    }\n",
              "\n",
              "    [theme=dark] .colab-df-convert {\n",
              "      background-color: #3B4455;\n",
              "      fill: #D2E3FC;\n",
              "    }\n",
              "\n",
              "    [theme=dark] .colab-df-convert:hover {\n",
              "      background-color: #434B5C;\n",
              "      box-shadow: 0px 1px 3px 1px rgba(0, 0, 0, 0.15);\n",
              "      filter: drop-shadow(0px 1px 2px rgba(0, 0, 0, 0.3));\n",
              "      fill: #FFFFFF;\n",
              "    }\n",
              "  </style>\n",
              "\n",
              "      <script>\n",
              "        const buttonEl =\n",
              "          document.querySelector('#df-ce0f7353-1519-415f-920e-c62ceb0650b0 button.colab-df-convert');\n",
              "        buttonEl.style.display =\n",
              "          google.colab.kernel.accessAllowed ? 'block' : 'none';\n",
              "\n",
              "        async function convertToInteractive(key) {\n",
              "          const element = document.querySelector('#df-ce0f7353-1519-415f-920e-c62ceb0650b0');\n",
              "          const dataTable =\n",
              "            await google.colab.kernel.invokeFunction('convertToInteractive',\n",
              "                                                     [key], {});\n",
              "          if (!dataTable) return;\n",
              "\n",
              "          const docLinkHtml = 'Like what you see? Visit the ' +\n",
              "            '<a target=\"_blank\" href=https://colab.research.google.com/notebooks/data_table.ipynb>data table notebook</a>'\n",
              "            + ' to learn more about interactive tables.';\n",
              "          element.innerHTML = '';\n",
              "          dataTable['output_type'] = 'display_data';\n",
              "          await google.colab.output.renderOutput(dataTable, element);\n",
              "          const docLink = document.createElement('div');\n",
              "          docLink.innerHTML = docLinkHtml;\n",
              "          element.appendChild(docLink);\n",
              "        }\n",
              "      </script>\n",
              "    </div>\n",
              "  </div>\n",
              "  "
            ]
          },
          "metadata": {},
          "execution_count": 42
        }
      ]
    },
    {
      "cell_type": "code",
      "execution_count": null,
      "metadata": {
        "id": "RCWdOn7jdrzL"
      },
      "outputs": [],
      "source": [
        "basic_data['OBody_len'] = basic_data['OBody'].str.len()\n",
        "basic_data['DBody_len'] = basic_data['DBody'].str.len()"
      ]
    },
    {
      "cell_type": "code",
      "execution_count": null,
      "metadata": {
        "colab": {
          "base_uri": "https://localhost:8080/"
        },
        "id": "Tg0i_sSndF0f",
        "outputId": "9a3a26ad-af96-4ab5-ab52-fefc01bf94d9"
      },
      "outputs": [
        {
          "output_type": "stream",
          "name": "stdout",
          "text": [
            "Minimum characters present in Question -  0\n",
            "Maximum characters present in Question -  23764\n",
            "Average num of characters in Question -  466.27725\n"
          ]
        }
      ],
      "source": [
        "def get_characters_agg(df,col_name):\n",
        "  print('Minimum characters present in Question - ',df[col_name].min())\n",
        "  print('Maximum characters present in Question - ',df[col_name].max())\n",
        "  print('Average num of characters in Question - ', df[col_name].mean())\n",
        "\n",
        "get_characters_agg(basic_data,'OBody_len')"
      ]
    },
    {
      "cell_type": "code",
      "execution_count": null,
      "metadata": {
        "id": "IoTj9Xtfd2IJ"
      },
      "outputs": [],
      "source": [
        "import seaborn as sns\n",
        "\n",
        "def plot_no_of_characters(df,col_name):\n",
        "  g = sns.displot(df[col_name]).set(title='Analysis of the no of characters')\n",
        "  g.set(xlim=(0, 2000))"
      ]
    },
    {
      "cell_type": "code",
      "execution_count": null,
      "metadata": {
        "colab": {
          "base_uri": "https://localhost:8080/"
        },
        "id": "2490vl5Vehkg",
        "outputId": "f15d3966-f249-4e4b-ad74-aca409727f2b"
      },
      "outputs": [
        {
          "output_type": "stream",
          "name": "stdout",
          "text": [
            "Missing Values\n",
            "--------------\n",
            "Column OId -- 0\n",
            "Column OTitle -- 0\n",
            "Column OBody -- 0\n",
            "Column OTags -- 0\n",
            "Column DId -- 0\n",
            "Column DTitle -- 0\n",
            "Column DBody -- 0\n",
            "Column DTags -- 0\n",
            "Column isDuplicate -- 0\n",
            "Column OBody_len -- 0\n",
            "Column DBody_len -- 0\n"
          ]
        }
      ],
      "source": [
        "# Missing values present in the columns\n",
        "def get_missing_values(df):\n",
        "  print(\"Missing Values\\n--------------\")\n",
        "  for col in df.columns:\n",
        "    print(\"Column \" + col + ' -- ' + str(sum(df[col].isna())))\n",
        "\n",
        "get_missing_values(basic_data)"
      ]
    },
    {
      "cell_type": "code",
      "execution_count": null,
      "metadata": {
        "colab": {
          "base_uri": "https://localhost:8080/"
        },
        "id": "Bf7x_8vwWb2q",
        "outputId": "8d3a7f71-c853-4c3a-ca49-347a80f1d50c"
      },
      "outputs": [
        {
          "output_type": "execute_result",
          "data": {
            "text/plain": [
              "20955     271\n",
              "22107     180\n",
              "27053      91\n",
              "22483    1203\n",
              "3808     1122\n",
              "Name: OBody_len, dtype: int64"
            ]
          },
          "metadata": {},
          "execution_count": 45
        }
      ],
      "source": [
        "basic_data['OBody_len'].head()"
      ]
    },
    {
      "cell_type": "code",
      "execution_count": null,
      "metadata": {
        "colab": {
          "base_uri": "https://localhost:8080/"
        },
        "id": "01cing08XZY3",
        "outputId": "dcb03705-3f0b-4bb3-b3e7-e2aad1fd2dce"
      },
      "outputs": [
        {
          "output_type": "execute_result",
          "data": {
            "text/plain": [
              "0"
            ]
          },
          "metadata": {},
          "execution_count": 46
        }
      ],
      "source": [
        "basic_data['OBody_len'].isna().sum()"
      ]
    },
    {
      "cell_type": "code",
      "execution_count": null,
      "metadata": {
        "colab": {
          "base_uri": "https://localhost:8080/",
          "height": 704
        },
        "id": "2iprVecAqHrQ",
        "outputId": "2730ee38-cdc3-42ed-c45e-df5e4ba16641"
      },
      "outputs": [
        {
          "output_type": "execute_result",
          "data": {
            "text/plain": [
              "            OId                                             OTitle  \\\n",
              "20955  14665601                     Regex too much or none at all.   \n",
              "22107  17953335  Browser Mode options missing from IE11's F12 D...   \n",
              "27053  18232254                                  NSData in base 10   \n",
              "22483  14812238  JSF View Scoped Bean Reconstructed Multiple Times   \n",
              "3808    2509229                        a \"+\" sign in email address   \n",
              "\n",
              "                                                   OBody  \\\n",
              "20955  example string match class unique href 2343242...   \n",
              "22107  download ie11 development version wonder capab...   \n",
              "27053  possible nslog nsdata base basically byte arra...   \n",
              "22483  thought suppose prevent bean reconstruct user ...   \n",
              "3808   need submit email address sign validate server...   \n",
              "\n",
              "                                   OTags       DId  \\\n",
              "20955                              regex     22444   \n",
              "22107                  internet-explorer  17871124   \n",
              "27053                  ios objective-c c   6626038   \n",
              "22483      jsf jakarta-ee ejb view-scope   5541813   \n",
              "3808   iphone objective-c iphone-sdk-3.0   7671327   \n",
              "\n",
              "                                                  DTitle  \\\n",
              "20955  My regex is matching too much. How do I make i...   \n",
              "22107          How to bring back \"Browser mode\" in IE11?   \n",
              "27053                        Printing NSData using NSLog   \n",
              "22483  @ViewScoped calls @PostConstruct on every post...   \n",
              "3808   Team Foundation services are not available fro...   \n",
              "\n",
              "                                                   DBody  \\\n",
              "20955  gigantic ugly string j0000000 transaction a000...   \n",
              "22107  update question applies ie11 preview browser m...   \n",
              "27053  print content nsdata object use nslog void pos...   \n",
              "22483  seem right cleanup code notice every ajax requ...   \n",
              "3808   work visual studio 2010 team foundation server...   \n",
              "\n",
              "                                                   DTags  isDuplicate  \\\n",
              "20955                                              regex            1   \n",
              "22107  cross-browser ie-developer-tools internet-expl...            1   \n",
              "27053                                 iphone objective-c            1   \n",
              "22483     jsf jsf-2 constructor view-scope postconstruct            1   \n",
              "3808           visual-studio-2010 visual-studio-2012 tfs            0   \n",
              "\n",
              "       OBody_len  DBody_len  \n",
              "20955        271        359  \n",
              "22107        180        678  \n",
              "27053         91        606  \n",
              "22483       1203        173  \n",
              "3808        1122        414  "
            ],
            "text/html": [
              "\n",
              "  <div id=\"df-3992f3eb-6d54-4680-8d04-d347c1606da0\">\n",
              "    <div class=\"colab-df-container\">\n",
              "      <div>\n",
              "<style scoped>\n",
              "    .dataframe tbody tr th:only-of-type {\n",
              "        vertical-align: middle;\n",
              "    }\n",
              "\n",
              "    .dataframe tbody tr th {\n",
              "        vertical-align: top;\n",
              "    }\n",
              "\n",
              "    .dataframe thead th {\n",
              "        text-align: right;\n",
              "    }\n",
              "</style>\n",
              "<table border=\"1\" class=\"dataframe\">\n",
              "  <thead>\n",
              "    <tr style=\"text-align: right;\">\n",
              "      <th></th>\n",
              "      <th>OId</th>\n",
              "      <th>OTitle</th>\n",
              "      <th>OBody</th>\n",
              "      <th>OTags</th>\n",
              "      <th>DId</th>\n",
              "      <th>DTitle</th>\n",
              "      <th>DBody</th>\n",
              "      <th>DTags</th>\n",
              "      <th>isDuplicate</th>\n",
              "      <th>OBody_len</th>\n",
              "      <th>DBody_len</th>\n",
              "    </tr>\n",
              "  </thead>\n",
              "  <tbody>\n",
              "    <tr>\n",
              "      <th>20955</th>\n",
              "      <td>14665601</td>\n",
              "      <td>Regex too much or none at all.</td>\n",
              "      <td>example string match class unique href 2343242...</td>\n",
              "      <td>regex</td>\n",
              "      <td>22444</td>\n",
              "      <td>My regex is matching too much. How do I make i...</td>\n",
              "      <td>gigantic ugly string j0000000 transaction a000...</td>\n",
              "      <td>regex</td>\n",
              "      <td>1</td>\n",
              "      <td>271</td>\n",
              "      <td>359</td>\n",
              "    </tr>\n",
              "    <tr>\n",
              "      <th>22107</th>\n",
              "      <td>17953335</td>\n",
              "      <td>Browser Mode options missing from IE11's F12 D...</td>\n",
              "      <td>download ie11 development version wonder capab...</td>\n",
              "      <td>internet-explorer</td>\n",
              "      <td>17871124</td>\n",
              "      <td>How to bring back \"Browser mode\" in IE11?</td>\n",
              "      <td>update question applies ie11 preview browser m...</td>\n",
              "      <td>cross-browser ie-developer-tools internet-expl...</td>\n",
              "      <td>1</td>\n",
              "      <td>180</td>\n",
              "      <td>678</td>\n",
              "    </tr>\n",
              "    <tr>\n",
              "      <th>27053</th>\n",
              "      <td>18232254</td>\n",
              "      <td>NSData in base 10</td>\n",
              "      <td>possible nslog nsdata base basically byte arra...</td>\n",
              "      <td>ios objective-c c</td>\n",
              "      <td>6626038</td>\n",
              "      <td>Printing NSData using NSLog</td>\n",
              "      <td>print content nsdata object use nslog void pos...</td>\n",
              "      <td>iphone objective-c</td>\n",
              "      <td>1</td>\n",
              "      <td>91</td>\n",
              "      <td>606</td>\n",
              "    </tr>\n",
              "    <tr>\n",
              "      <th>22483</th>\n",
              "      <td>14812238</td>\n",
              "      <td>JSF View Scoped Bean Reconstructed Multiple Times</td>\n",
              "      <td>thought suppose prevent bean reconstruct user ...</td>\n",
              "      <td>jsf jakarta-ee ejb view-scope</td>\n",
              "      <td>5541813</td>\n",
              "      <td>@ViewScoped calls @PostConstruct on every post...</td>\n",
              "      <td>seem right cleanup code notice every ajax requ...</td>\n",
              "      <td>jsf jsf-2 constructor view-scope postconstruct</td>\n",
              "      <td>1</td>\n",
              "      <td>1203</td>\n",
              "      <td>173</td>\n",
              "    </tr>\n",
              "    <tr>\n",
              "      <th>3808</th>\n",
              "      <td>2509229</td>\n",
              "      <td>a \"+\" sign in email address</td>\n",
              "      <td>need submit email address sign validate server...</td>\n",
              "      <td>iphone objective-c iphone-sdk-3.0</td>\n",
              "      <td>7671327</td>\n",
              "      <td>Team Foundation services are not available fro...</td>\n",
              "      <td>work visual studio 2010 team foundation server...</td>\n",
              "      <td>visual-studio-2010 visual-studio-2012 tfs</td>\n",
              "      <td>0</td>\n",
              "      <td>1122</td>\n",
              "      <td>414</td>\n",
              "    </tr>\n",
              "  </tbody>\n",
              "</table>\n",
              "</div>\n",
              "      <button class=\"colab-df-convert\" onclick=\"convertToInteractive('df-3992f3eb-6d54-4680-8d04-d347c1606da0')\"\n",
              "              title=\"Convert this dataframe to an interactive table.\"\n",
              "              style=\"display:none;\">\n",
              "        \n",
              "  <svg xmlns=\"http://www.w3.org/2000/svg\" height=\"24px\"viewBox=\"0 0 24 24\"\n",
              "       width=\"24px\">\n",
              "    <path d=\"M0 0h24v24H0V0z\" fill=\"none\"/>\n",
              "    <path d=\"M18.56 5.44l.94 2.06.94-2.06 2.06-.94-2.06-.94-.94-2.06-.94 2.06-2.06.94zm-11 1L8.5 8.5l.94-2.06 2.06-.94-2.06-.94L8.5 2.5l-.94 2.06-2.06.94zm10 10l.94 2.06.94-2.06 2.06-.94-2.06-.94-.94-2.06-.94 2.06-2.06.94z\"/><path d=\"M17.41 7.96l-1.37-1.37c-.4-.4-.92-.59-1.43-.59-.52 0-1.04.2-1.43.59L10.3 9.45l-7.72 7.72c-.78.78-.78 2.05 0 2.83L4 21.41c.39.39.9.59 1.41.59.51 0 1.02-.2 1.41-.59l7.78-7.78 2.81-2.81c.8-.78.8-2.07 0-2.86zM5.41 20L4 18.59l7.72-7.72 1.47 1.35L5.41 20z\"/>\n",
              "  </svg>\n",
              "      </button>\n",
              "      \n",
              "  <style>\n",
              "    .colab-df-container {\n",
              "      display:flex;\n",
              "      flex-wrap:wrap;\n",
              "      gap: 12px;\n",
              "    }\n",
              "\n",
              "    .colab-df-convert {\n",
              "      background-color: #E8F0FE;\n",
              "      border: none;\n",
              "      border-radius: 50%;\n",
              "      cursor: pointer;\n",
              "      display: none;\n",
              "      fill: #1967D2;\n",
              "      height: 32px;\n",
              "      padding: 0 0 0 0;\n",
              "      width: 32px;\n",
              "    }\n",
              "\n",
              "    .colab-df-convert:hover {\n",
              "      background-color: #E2EBFA;\n",
              "      box-shadow: 0px 1px 2px rgba(60, 64, 67, 0.3), 0px 1px 3px 1px rgba(60, 64, 67, 0.15);\n",
              "      fill: #174EA6;\n",
              "    }\n",
              "\n",
              "    [theme=dark] .colab-df-convert {\n",
              "      background-color: #3B4455;\n",
              "      fill: #D2E3FC;\n",
              "    }\n",
              "\n",
              "    [theme=dark] .colab-df-convert:hover {\n",
              "      background-color: #434B5C;\n",
              "      box-shadow: 0px 1px 3px 1px rgba(0, 0, 0, 0.15);\n",
              "      filter: drop-shadow(0px 1px 2px rgba(0, 0, 0, 0.3));\n",
              "      fill: #FFFFFF;\n",
              "    }\n",
              "  </style>\n",
              "\n",
              "      <script>\n",
              "        const buttonEl =\n",
              "          document.querySelector('#df-3992f3eb-6d54-4680-8d04-d347c1606da0 button.colab-df-convert');\n",
              "        buttonEl.style.display =\n",
              "          google.colab.kernel.accessAllowed ? 'block' : 'none';\n",
              "\n",
              "        async function convertToInteractive(key) {\n",
              "          const element = document.querySelector('#df-3992f3eb-6d54-4680-8d04-d347c1606da0');\n",
              "          const dataTable =\n",
              "            await google.colab.kernel.invokeFunction('convertToInteractive',\n",
              "                                                     [key], {});\n",
              "          if (!dataTable) return;\n",
              "\n",
              "          const docLinkHtml = 'Like what you see? Visit the ' +\n",
              "            '<a target=\"_blank\" href=https://colab.research.google.com/notebooks/data_table.ipynb>data table notebook</a>'\n",
              "            + ' to learn more about interactive tables.';\n",
              "          element.innerHTML = '';\n",
              "          dataTable['output_type'] = 'display_data';\n",
              "          await google.colab.output.renderOutput(dataTable, element);\n",
              "          const docLink = document.createElement('div');\n",
              "          docLink.innerHTML = docLinkHtml;\n",
              "          element.appendChild(docLink);\n",
              "        }\n",
              "      </script>\n",
              "    </div>\n",
              "  </div>\n",
              "  "
            ]
          },
          "metadata": {},
          "execution_count": 47
        }
      ],
      "source": [
        "basic_data.head()"
      ]
    },
    {
      "cell_type": "code",
      "execution_count": null,
      "metadata": {
        "colab": {
          "base_uri": "https://localhost:8080/",
          "height": 385
        },
        "id": "Ox_kczW_eLEC",
        "outputId": "c6252c1d-a010-4ed3-f5ab-ad6019735c41"
      },
      "outputs": [
        {
          "output_type": "display_data",
          "data": {
            "text/plain": [
              "<Figure size 360x360 with 1 Axes>"
            ],
            "image/png": "[encoded data removed]"
          },
          "metadata": {
            "needs_background": "light"
          }
        }
      ],
      "source": [
        "plot_no_of_characters(basic_data,'OBody_len')"
      ]
    },
    {
      "cell_type": "code",
      "execution_count": null,
      "metadata": {
        "id": "GBNCLzayeRjO"
      },
      "outputs": [],
      "source": [
        "# It is seen from the above graph and stats that most of the questions contains around 250 characters of questions.\n",
        "# For our analyis we will consider first 300 characters from the questions"
      ]
    },
    {
      "cell_type": "code",
      "execution_count": null,
      "metadata": {
        "id": "mwtL7VuCtPkt"
      },
      "outputs": [],
      "source": [
        "## There are two columns for tags, OTags and DTags. Both contain several tags and needs to be cleaned and converted to texts\n",
        "\n",
        "def remove_tags(text):\n",
        "  return text.replace(\"<\",\"\").replace(\">\",\" \")[:-1]"
      ]
    },
    {
      "cell_type": "code",
      "execution_count": null,
      "metadata": {
        "id": "7HEurBM-t08B"
      },
      "outputs": [],
      "source": [
        "## Calling the remove tags function and apply it on the two Tags columns\n",
        "\n",
        "basic_data['OTags'] = basic_data.OTags.apply(remove_tags)\n",
        "basic_data['DTags'] = basic_data.DTags.apply(remove_tags)"
      ]
    },
    {
      "cell_type": "code",
      "execution_count": null,
      "metadata": {
        "colab": {
          "base_uri": "https://localhost:8080/",
          "height": 704
        },
        "id": "2F2Vom1Zt5Sd",
        "outputId": "e56a5821-28ea-4eef-933f-456fd720db73"
      },
      "outputs": [
        {
          "output_type": "execute_result",
          "data": {
            "text/plain": [
              "            OId                                             OTitle  \\\n",
              "20955  14665601                     Regex too much or none at all.   \n",
              "22107  17953335  Browser Mode options missing from IE11's F12 D...   \n",
              "27053  18232254                                  NSData in base 10   \n",
              "22483  14812238  JSF View Scoped Bean Reconstructed Multiple Times   \n",
              "3808    2509229                        a \"+\" sign in email address   \n",
              "\n",
              "                                                   OBody  \\\n",
              "20955  example string match class unique href 2343242...   \n",
              "22107  download ie11 development version wonder capab...   \n",
              "27053  possible nslog nsdata base basically byte arra...   \n",
              "22483  thought suppose prevent bean reconstruct user ...   \n",
              "3808   need submit email address sign validate server...   \n",
              "\n",
              "                                  OTags       DId  \\\n",
              "20955                              rege     22444   \n",
              "22107                  internet-explore  17871124   \n",
              "27053                  ios objective-c    6626038   \n",
              "22483      jsf jakarta-ee ejb view-scop   5541813   \n",
              "3808   iphone objective-c iphone-sdk-3.   7671327   \n",
              "\n",
              "                                                  DTitle  \\\n",
              "20955  My regex is matching too much. How do I make i...   \n",
              "22107          How to bring back \"Browser mode\" in IE11?   \n",
              "27053                        Printing NSData using NSLog   \n",
              "22483  @ViewScoped calls @PostConstruct on every post...   \n",
              "3808   Team Foundation services are not available fro...   \n",
              "\n",
              "                                                   DBody  \\\n",
              "20955  gigantic ugly string j0000000 transaction a000...   \n",
              "22107  update question applies ie11 preview browser m...   \n",
              "27053  print content nsdata object use nslog void pos...   \n",
              "22483  seem right cleanup code notice every ajax requ...   \n",
              "3808   work visual studio 2010 team foundation server...   \n",
              "\n",
              "                                                   DTags  isDuplicate  \\\n",
              "20955                                               rege            1   \n",
              "22107  cross-browser ie-developer-tools internet-expl...            1   \n",
              "27053                                  iphone objective-            1   \n",
              "22483      jsf jsf-2 constructor view-scope postconstruc            1   \n",
              "3808            visual-studio-2010 visual-studio-2012 tf            0   \n",
              "\n",
              "       OBody_len  DBody_len  \n",
              "20955        271        359  \n",
              "22107        180        678  \n",
              "27053         91        606  \n",
              "22483       1203        173  \n",
              "3808        1122        414  "
            ],
            "text/html": [
              "\n",
              "  <div id=\"df-90982bec-b5b0-4fc6-84a6-315d68eda783\">\n",
              "    <div class=\"colab-df-container\">\n",
              "      <div>\n",
              "<style scoped>\n",
              "    .dataframe tbody tr th:only-of-type {\n",
              "        vertical-align: middle;\n",
              "    }\n",
              "\n",
              "    .dataframe tbody tr th {\n",
              "        vertical-align: top;\n",
              "    }\n",
              "\n",
              "    .dataframe thead th {\n",
              "        text-align: right;\n",
              "    }\n",
              "</style>\n",
              "<table border=\"1\" class=\"dataframe\">\n",
              "  <thead>\n",
              "    <tr style=\"text-align: right;\">\n",
              "      <th></th>\n",
              "      <th>OId</th>\n",
              "      <th>OTitle</th>\n",
              "      <th>OBody</th>\n",
              "      <th>OTags</th>\n",
              "      <th>DId</th>\n",
              "      <th>DTitle</th>\n",
              "      <th>DBody</th>\n",
              "      <th>DTags</th>\n",
              "      <th>isDuplicate</th>\n",
              "      <th>OBody_len</th>\n",
              "      <th>DBody_len</th>\n",
              "    </tr>\n",
              "  </thead>\n",
              "  <tbody>\n",
              "    <tr>\n",
              "      <th>20955</th>\n",
              "      <td>14665601</td>\n",
              "      <td>Regex too much or none at all.</td>\n",
              "      <td>example string match class unique href 2343242...</td>\n",
              "      <td>rege</td>\n",
              "      <td>22444</td>\n",
              "      <td>My regex is matching too much. How do I make i...</td>\n",
              "      <td>gigantic ugly string j0000000 transaction a000...</td>\n",
              "      <td>rege</td>\n",
              "      <td>1</td>\n",
              "      <td>271</td>\n",
              "      <td>359</td>\n",
              "    </tr>\n",
              "    <tr>\n",
              "      <th>22107</th>\n",
              "      <td>17953335</td>\n",
              "      <td>Browser Mode options missing from IE11's F12 D...</td>\n",
              "      <td>download ie11 development version wonder capab...</td>\n",
              "      <td>internet-explore</td>\n",
              "      <td>17871124</td>\n",
              "      <td>How to bring back \"Browser mode\" in IE11?</td>\n",
              "      <td>update question applies ie11 preview browser m...</td>\n",
              "      <td>cross-browser ie-developer-tools internet-expl...</td>\n",
              "      <td>1</td>\n",
              "      <td>180</td>\n",
              "      <td>678</td>\n",
              "    </tr>\n",
              "    <tr>\n",
              "      <th>27053</th>\n",
              "      <td>18232254</td>\n",
              "      <td>NSData in base 10</td>\n",
              "      <td>possible nslog nsdata base basically byte arra...</td>\n",
              "      <td>ios objective-c</td>\n",
              "      <td>6626038</td>\n",
              "      <td>Printing NSData using NSLog</td>\n",
              "      <td>print content nsdata object use nslog void pos...</td>\n",
              "      <td>iphone objective-</td>\n",
              "      <td>1</td>\n",
              "      <td>91</td>\n",
              "      <td>606</td>\n",
              "    </tr>\n",
              "    <tr>\n",
              "      <th>22483</th>\n",
              "      <td>14812238</td>\n",
              "      <td>JSF View Scoped Bean Reconstructed Multiple Times</td>\n",
              "      <td>thought suppose prevent bean reconstruct user ...</td>\n",
              "      <td>jsf jakarta-ee ejb view-scop</td>\n",
              "      <td>5541813</td>\n",
              "      <td>@ViewScoped calls @PostConstruct on every post...</td>\n",
              "      <td>seem right cleanup code notice every ajax requ...</td>\n",
              "      <td>jsf jsf-2 constructor view-scope postconstruc</td>\n",
              "      <td>1</td>\n",
              "      <td>1203</td>\n",
              "      <td>173</td>\n",
              "    </tr>\n",
              "    <tr>\n",
              "      <th>3808</th>\n",
              "      <td>2509229</td>\n",
              "      <td>a \"+\" sign in email address</td>\n",
              "      <td>need submit email address sign validate server...</td>\n",
              "      <td>iphone objective-c iphone-sdk-3.</td>\n",
              "      <td>7671327</td>\n",
              "      <td>Team Foundation services are not available fro...</td>\n",
              "      <td>work visual studio 2010 team foundation server...</td>\n",
              "      <td>visual-studio-2010 visual-studio-2012 tf</td>\n",
              "      <td>0</td>\n",
              "      <td>1122</td>\n",
              "      <td>414</td>\n",
              "    </tr>\n",
              "  </tbody>\n",
              "</table>\n",
              "</div>\n",
              "      <button class=\"colab-df-convert\" onclick=\"convertToInteractive('df-90982bec-b5b0-4fc6-84a6-315d68eda783')\"\n",
              "              title=\"Convert this dataframe to an interactive table.\"\n",
              "              style=\"display:none;\">\n",
              "        \n",
              "  <svg xmlns=\"http://www.w3.org/2000/svg\" height=\"24px\"viewBox=\"0 0 24 24\"\n",
              "       width=\"24px\">\n",
              "    <path d=\"M0 0h24v24H0V0z\" fill=\"none\"/>\n",
              "    <path d=\"M18.56 5.44l.94 2.06.94-2.06 2.06-.94-2.06-.94-.94-2.06-.94 2.06-2.06.94zm-11 1L8.5 8.5l.94-2.06 2.06-.94-2.06-.94L8.5 2.5l-.94 2.06-2.06.94zm10 10l.94 2.06.94-2.06 2.06-.94-2.06-.94-.94-2.06-.94 2.06-2.06.94z\"/><path d=\"M17.41 7.96l-1.37-1.37c-.4-.4-.92-.59-1.43-.59-.52 0-1.04.2-1.43.59L10.3 9.45l-7.72 7.72c-.78.78-.78 2.05 0 2.83L4 21.41c.39.39.9.59 1.41.59.51 0 1.02-.2 1.41-.59l7.78-7.78 2.81-2.81c.8-.78.8-2.07 0-2.86zM5.41 20L4 18.59l7.72-7.72 1.47 1.35L5.41 20z\"/>\n",
              "  </svg>\n",
              "      </button>\n",
              "      \n",
              "  <style>\n",
              "    .colab-df-container {\n",
              "      display:flex;\n",
              "      flex-wrap:wrap;\n",
              "      gap: 12px;\n",
              "    }\n",
              "\n",
              "    .colab-df-convert {\n",
              "      background-color: #E8F0FE;\n",
              "      border: none;\n",
              "      border-radius: 50%;\n",
              "      cursor: pointer;\n",
              "      display: none;\n",
              "      fill: #1967D2;\n",
              "      height: 32px;\n",
              "      padding: 0 0 0 0;\n",
              "      width: 32px;\n",
              "    }\n",
              "\n",
              "    .colab-df-convert:hover {\n",
              "      background-color: #E2EBFA;\n",
              "      box-shadow: 0px 1px 2px rgba(60, 64, 67, 0.3), 0px 1px 3px 1px rgba(60, 64, 67, 0.15);\n",
              "      fill: #174EA6;\n",
              "    }\n",
              "\n",
              "    [theme=dark] .colab-df-convert {\n",
              "      background-color: #3B4455;\n",
              "      fill: #D2E3FC;\n",
              "    }\n",
              "\n",
              "    [theme=dark] .colab-df-convert:hover {\n",
              "      background-color: #434B5C;\n",
              "      box-shadow: 0px 1px 3px 1px rgba(0, 0, 0, 0.15);\n",
              "      filter: drop-shadow(0px 1px 2px rgba(0, 0, 0, 0.3));\n",
              "      fill: #FFFFFF;\n",
              "    }\n",
              "  </style>\n",
              "\n",
              "      <script>\n",
              "        const buttonEl =\n",
              "          document.querySelector('#df-90982bec-b5b0-4fc6-84a6-315d68eda783 button.colab-df-convert');\n",
              "        buttonEl.style.display =\n",
              "          google.colab.kernel.accessAllowed ? 'block' : 'none';\n",
              "\n",
              "        async function convertToInteractive(key) {\n",
              "          const element = document.querySelector('#df-90982bec-b5b0-4fc6-84a6-315d68eda783');\n",
              "          const dataTable =\n",
              "            await google.colab.kernel.invokeFunction('convertToInteractive',\n",
              "                                                     [key], {});\n",
              "          if (!dataTable) return;\n",
              "\n",
              "          const docLinkHtml = 'Like what you see? Visit the ' +\n",
              "            '<a target=\"_blank\" href=https://colab.research.google.com/notebooks/data_table.ipynb>data table notebook</a>'\n",
              "            + ' to learn more about interactive tables.';\n",
              "          element.innerHTML = '';\n",
              "          dataTable['output_type'] = 'display_data';\n",
              "          await google.colab.output.renderOutput(dataTable, element);\n",
              "          const docLink = document.createElement('div');\n",
              "          docLink.innerHTML = docLinkHtml;\n",
              "          element.appendChild(docLink);\n",
              "        }\n",
              "      </script>\n",
              "    </div>\n",
              "  </div>\n",
              "  "
            ]
          },
          "metadata": {},
          "execution_count": 52
        }
      ],
      "source": [
        "basic_data.head()"
      ]
    },
    {
      "cell_type": "code",
      "execution_count": null,
      "metadata": {
        "id": "IR3O5Bfw5BPm"
      },
      "outputs": [],
      "source": [
        "fixed_len_for_body = 300\n",
        "\n",
        "def appending_original_data(row):\n",
        "  if int(row['OBody_len']) > fixed_len_for_body:\n",
        "    final_len = fixed_len_for_body\n",
        "  else:\n",
        "    final_len = int(row['OBody_len'])\n",
        "\n",
        "\n",
        "  data = row['OTitle'] + ' ' + row['OTags'] + ' ' + row['OBody'][:fixed_len_for_body]\n",
        "  return data\n",
        "\n",
        "\n",
        "def appending_duplicate_data(row):\n",
        "  if int(row['DBody_len']) > fixed_len_for_body:\n",
        "    final_len = fixed_len_for_body\n",
        "  else:\n",
        "    final_len = int(row['DBody_len'])\n",
        "\n",
        "\n",
        "  data = row['DTitle'] + ' ' + row['DTags'] + ' ' + row['DBody'][:fixed_len_for_body]\n",
        "  return data"
      ]
    },
    {
      "cell_type": "code",
      "source": [
        "basic_data.columns"
      ],
      "metadata": {
        "colab": {
          "base_uri": "https://localhost:8080/"
        },
        "id": "RBL1M19VVS7q",
        "outputId": "be599c02-f4d6-4440-f78e-351e773aec3a"
      },
      "execution_count": null,
      "outputs": [
        {
          "output_type": "execute_result",
          "data": {
            "text/plain": [
              "Index(['OId', 'OTitle', 'OBody', 'OTags', 'DId', 'DTitle', 'DBody', 'DTags',\n",
              "       'isDuplicate', 'OBody_len', 'DBody_len'],\n",
              "      dtype='object')"
            ]
          },
          "metadata": {},
          "execution_count": 54
        }
      ]
    },
    {
      "cell_type": "code",
      "source": [
        "# Merging the OTitle, OBody and OTags into a single column inorder to grab all the features\n",
        "\n",
        "basic_data['question1'] = basic_data.apply(lambda x: appending_original_data(x),axis=1)\n",
        "basic_data['question2'] = basic_data.apply(lambda x: appending_duplicate_data(x),axis=1)"
      ],
      "metadata": {
        "id": "RWBoQuFFV9T_"
      },
      "execution_count": null,
      "outputs": []
    },
    {
      "cell_type": "code",
      "source": [
        "basic_data['q1len'] = basic_data['question1'].str.len()\n",
        "basic_data['q2len'] = basic_data['question2'].str.len()"
      ],
      "metadata": {
        "id": "K8RmC3zXWTZr"
      },
      "execution_count": null,
      "outputs": []
    },
    {
      "cell_type": "code",
      "source": [
        "get_characters_agg(basic_data,'q1len')"
      ],
      "metadata": {
        "colab": {
          "base_uri": "https://localhost:8080/"
        },
        "id": "KWMzmGqzXImc",
        "outputId": "84e76741-7757-42c5-8dd1-7f8a9ec822ee"
      },
      "execution_count": null,
      "outputs": [
        {
          "output_type": "stream",
          "name": "stdout",
          "text": [
            "Minimum characters present in Question -  37\n",
            "Maximum characters present in Question -  505\n",
            "Average num of characters in Question -  303.0369\n"
          ]
        }
      ]
    },
    {
      "cell_type": "code",
      "source": [
        "get_characters_agg(basic_data,'q2len')"
      ],
      "metadata": {
        "colab": {
          "base_uri": "https://localhost:8080/"
        },
        "id": "uIQk62aCXcNy",
        "outputId": "1d4652e4-df7f-4721-a761-c84ea48a2a54"
      },
      "execution_count": null,
      "outputs": [
        {
          "output_type": "stream",
          "name": "stdout",
          "text": [
            "Minimum characters present in Question -  38\n",
            "Maximum characters present in Question -  501\n",
            "Average num of characters in Question -  311.7378\n"
          ]
        }
      ]
    },
    {
      "cell_type": "code",
      "source": [],
      "metadata": {
        "id": "qGqoiBJzXgdD"
      },
      "execution_count": null,
      "outputs": []
    },
    {
      "cell_type": "code",
      "source": [
        "# Peform count vectorizer on the dataset by collecting the questions into one list \n",
        "\n",
        "import numpy as np\n",
        "from sklearn.feature_extraction.text import CountVectorizer\n",
        "\n",
        "\n",
        "# Merge all the question into one list\n",
        "questions = list(basic_data['question1']) + list(basic_data['question2'])\n",
        "\n",
        "cv = CountVectorizer(max_features=5000)\n",
        "q1_arr, q2_arr = np.vsplit(cv.fit_transform(questions).toarray(),2)"
      ],
      "metadata": {
        "id": "6DBA8Lp7ON2J"
      },
      "execution_count": null,
      "outputs": []
    },
    {
      "cell_type": "code",
      "source": [
        "# np.save('q1_arr.npy', q1_arr)    # .npy extension is added if not given\n",
        "# np.save('q2_arr.npy', q2_arr)\n",
        "# d = np.load('test3.npy')"
      ],
      "metadata": {
        "id": "6s46R4uQ0G6T"
      },
      "execution_count": null,
      "outputs": []
    },
    {
      "cell_type": "code",
      "execution_count": null,
      "metadata": {
        "id": "if-eAQkO6eO6"
      },
      "outputs": [],
      "source": [
        "## Take a backup of the complete dataframe before dropping the fields\n",
        "\n",
        "backup_stack = basic_data.copy()"
      ]
    },
    {
      "cell_type": "code",
      "source": [
        "basic_data.columns"
      ],
      "metadata": {
        "colab": {
          "base_uri": "https://localhost:8080/"
        },
        "id": "1k4lTRk-X2DN",
        "outputId": "de350d42-2703-4300-c11f-14e652036b96"
      },
      "execution_count": null,
      "outputs": [
        {
          "output_type": "execute_result",
          "data": {
            "text/plain": [
              "Index(['OId', 'OTitle', 'OBody', 'OTags', 'DId', 'DTitle', 'DBody', 'DTags',\n",
              "       'isDuplicate', 'OBody_len', 'DBody_len', 'question1', 'question2',\n",
              "       'q1len', 'q2len'],\n",
              "      dtype='object')"
            ]
          },
          "metadata": {},
          "execution_count": 62
        }
      ]
    },
    {
      "cell_type": "code",
      "source": [
        "# Drop the useless fields from the dataset\n",
        "\n",
        "basic_data.drop(['OId', 'OTitle', 'OBody', 'OTags', 'DId', 'DTitle', 'DBody', 'DTags',\n",
        "       'OBody_len', 'question1', 'DBody_len', 'question2',\n",
        "       'q1len', 'q2len'], axis=1,inplace=True)"
      ],
      "metadata": {
        "id": "cLUkqAGQOAeK"
      },
      "execution_count": null,
      "outputs": []
    },
    {
      "cell_type": "code",
      "source": [
        "temp_df1 = pd.DataFrame(q1_arr, index= basic_data.index)\n",
        "temp_df2 = pd.DataFrame(q2_arr, index= basic_data.index)\n",
        "temp_df = pd.concat([temp_df1, temp_df2], axis=1)\n",
        "temp_df.shape\n",
        "\n",
        "#temp_df will have 6000 numerical features now, 3000 for question1 and another 3000 for question2"
      ],
      "metadata": {
        "colab": {
          "base_uri": "https://localhost:8080/"
        },
        "id": "xeGHA2_bOXIF",
        "outputId": "fd8a1fc8-e38a-4bea-ae6c-3c4843caff6e"
      },
      "execution_count": null,
      "outputs": [
        {
          "output_type": "execute_result",
          "data": {
            "text/plain": [
              "(20000, 10000)"
            ]
          },
          "metadata": {},
          "execution_count": 64
        }
      ]
    },
    {
      "cell_type": "code",
      "source": [
        "# get_missing_values(stack_data)\n",
        "# stack_data.dropna(inplace=True)\n"
      ],
      "metadata": {
        "id": "KsqRhnbE9tYA"
      },
      "execution_count": null,
      "outputs": []
    },
    {
      "cell_type": "code",
      "source": [
        "temp_df['isDuplicate'] = basic_data['isDuplicate']"
      ],
      "metadata": {
        "id": "mOur7isROvfX"
      },
      "execution_count": null,
      "outputs": []
    },
    {
      "cell_type": "code",
      "source": [
        "from sklearn.model_selection import train_test_split\n",
        "\n",
        "X_train,X_test,y_train,y_test = train_test_split(temp_df.iloc[:,:-1].values,temp_df.iloc[:,-1].values,test_size=0.2,random_state=101)"
      ],
      "metadata": {
        "id": "tyF2iQHdO4JT"
      },
      "execution_count": null,
      "outputs": []
    },
    {
      "cell_type": "code",
      "source": [
        "# Creating a basic Random Forest Classifier and verifying how it performs without much feature engineering and just on Numberical Features\n",
        "from sklearn.ensemble import RandomForestClassifier\n",
        "from sklearn.metrics import accuracy_score\n",
        "\n",
        "random_model = RandomForestClassifier()\n",
        "random_model.fit(X_train,y_train)\n",
        "\n",
        "y_pred = random_model.predict(X_test)\n",
        "print(\"The accuracy using Random Forest Classifier is %f\" %accuracy_score(y_test,y_pred))"
      ],
      "metadata": {
        "colab": {
          "base_uri": "https://localhost:8080/"
        },
        "id": "yx_PGxhmO9jF",
        "outputId": "7bc5b8b5-2c06-4452-d6ea-6f494024bec1"
      },
      "execution_count": null,
      "outputs": [
        {
          "output_type": "stream",
          "name": "stdout",
          "text": [
            "The accuracy using Random Forest Classifier is 0.831250\n"
          ]
        }
      ]
    },
    {
      "cell_type": "code",
      "source": [
        "from xgboost import XGBClassifier\n",
        "\n",
        "xgb_model = XGBClassifier()\n",
        "xgb_model.fit(X_train,y_train)\n",
        "\n",
        "y_pred = xgb_model.predict(X_test)\n",
        "\n",
        "print(\"The accuracy using Random XGB Classifier is %f\" %accuracy_score(y_test,y_pred))"
      ],
      "metadata": {
        "colab": {
          "base_uri": "https://localhost:8080/"
        },
        "id": "exqDxQNzO9E8",
        "outputId": "b7e2a75e-ce35-4c00-ac7e-5047f0cec376"
      },
      "execution_count": null,
      "outputs": [
        {
          "output_type": "stream",
          "name": "stdout",
          "text": [
            "The accuracy using Random XGB Classifier is 0.839750\n"
          ]
        }
      ]
    },
    {
      "cell_type": "code",
      "source": [],
      "metadata": {
        "id": "riZJ06_UO8zm"
      },
      "execution_count": null,
      "outputs": []
    },
    {
      "cell_type": "code",
      "source": [],
      "metadata": {
        "id": "44OUnbTwO8Yh"
      },
      "execution_count": null,
      "outputs": []
    }
  ],
  "metadata": {
    "colab": {
      "provenance": []
    },
    "kernelspec": {
      "display_name": "Python 3",
      "name": "python3"
    },
    "language_info": {
      "name": "python"
    },
    "gpuClass": "standard"
  },
  "nbformat": 4,
  "nbformat_minor": 0
}