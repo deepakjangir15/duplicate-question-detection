{
  "nbformat": 4,
  "nbformat_minor": 0,
  "metadata": {
    "colab": {
      "provenance": []
    },
    "kernelspec": {
      "name": "python3",
      "display_name": "Python 3"
    },
    "language_info": {
      "name": "python"
    },
    "gpuClass": "standard",
    "accelerator": "GPU"
  },
  "cells": [
    {
      "cell_type": "code",
      "execution_count": null,
      "metadata": {
        "id": "yKWlkTirzijK"
      },
      "outputs": [],
      "source": [
        "import os\n",
        "import re\n",
        "import csv\n",
        "import numpy as np\n",
        "import pandas as pd\n",
        "import zipfile\n",
        "from tqdm import tqdm\n",
        "import matplotlib.pyplot as plt\n",
        "import seaborn as sns\n",
        "\n",
        "from tensorflow.keras.preprocessing.text import Tokenizer\n",
        "from tensorflow.keras.preprocessing.sequence import pad_sequences\n",
        "import tensorflow as tf\n",
        "\n",
        "from tensorflow.keras.models import Sequential\n",
        "from tensorflow.keras.layers import Embedding,LSTM, Dense, Dropout, multiply, Flatten"
      ]
    },
    {
      "cell_type": "code",
      "source": [
        "# Loading the pre-processed data from \n",
        "combined_data = pd.read_pickle(\"/content/drive/MyDrive/Colab Notebooks/Deepak Dissertation/pickles/combined_data_CP1_Big.pkl\")"
      ],
      "metadata": {
        "id": "tWNZiSBRztaM"
      },
      "execution_count": null,
      "outputs": []
    },
    {
      "cell_type": "code",
      "source": [
        "combined_data.head()"
      ],
      "metadata": {
        "colab": {
          "base_uri": "https://localhost:8080/",
          "height": 206
        },
        "id": "kZf2W6IH0pM8",
        "outputId": "6f22f785-cfee-40b7-db2c-48e708c0a654"
      },
      "execution_count": null,
      "outputs": [
        {
          "output_type": "execute_result",
          "data": {
            "text/plain": [
              "                                               question1  \\\n",
              "20955  Regex too much or none at all. regex example s...   \n",
              "22107  Browser Mode options missing from IE11's F12 D...   \n",
              "27053  NSData in base 10 ios objective-c c possible n...   \n",
              "22483  JSF View Scoped Bean Reconstructed Multiple Ti...   \n",
              "3808   a \"+\" sign in email address iphone objective-c...   \n",
              "\n",
              "                                               question2  isDuplicate  q1len  \\\n",
              "20955  My regex is matching too much. How do I make i...            1    308   \n",
              "22107  How to bring back \"Browser mode\" in IE11? cros...            1    260   \n",
              "27053  Printing NSData using NSLog iphone objective-c...            1    127   \n",
              "22483  @ViewScoped calls @PostConstruct on every post...            1    380   \n",
              "3808   Team Foundation services are not available fro...            0    362   \n",
              "\n",
              "       q2len  \n",
              "20955    360  \n",
              "22107    396  \n",
              "27053    347  \n",
              "22483    279  \n",
              "3808     437  "
            ],
            "text/html": [
              "\n",
              "  <div id=\"df-e571f032-828e-4443-b70a-c8f9b3087c5c\">\n",
              "    <div class=\"colab-df-container\">\n",
              "      <div>\n",
              "<style scoped>\n",
              "    .dataframe tbody tr th:only-of-type {\n",
              "        vertical-align: middle;\n",
              "    }\n",
              "\n",
              "    .dataframe tbody tr th {\n",
              "        vertical-align: top;\n",
              "    }\n",
              "\n",
              "    .dataframe thead th {\n",
              "        text-align: right;\n",
              "    }\n",
              "</style>\n",
              "<table border=\"1\" class=\"dataframe\">\n",
              "  <thead>\n",
              "    <tr style=\"text-align: right;\">\n",
              "      <th></th>\n",
              "      <th>question1</th>\n",
              "      <th>question2</th>\n",
              "      <th>isDuplicate</th>\n",
              "      <th>q1len</th>\n",
              "      <th>q2len</th>\n",
              "    </tr>\n",
              "  </thead>\n",
              "  <tbody>\n",
              "    <tr>\n",
              "      <th>20955</th>\n",
              "      <td>Regex too much or none at all. regex example s...</td>\n",
              "      <td>My regex is matching too much. How do I make i...</td>\n",
              "      <td>1</td>\n",
              "      <td>308</td>\n",
              "      <td>360</td>\n",
              "    </tr>\n",
              "    <tr>\n",
              "      <th>22107</th>\n",
              "      <td>Browser Mode options missing from IE11's F12 D...</td>\n",
              "      <td>How to bring back \"Browser mode\" in IE11? cros...</td>\n",
              "      <td>1</td>\n",
              "      <td>260</td>\n",
              "      <td>396</td>\n",
              "    </tr>\n",
              "    <tr>\n",
              "      <th>27053</th>\n",
              "      <td>NSData in base 10 ios objective-c c possible n...</td>\n",
              "      <td>Printing NSData using NSLog iphone objective-c...</td>\n",
              "      <td>1</td>\n",
              "      <td>127</td>\n",
              "      <td>347</td>\n",
              "    </tr>\n",
              "    <tr>\n",
              "      <th>22483</th>\n",
              "      <td>JSF View Scoped Bean Reconstructed Multiple Ti...</td>\n",
              "      <td>@ViewScoped calls @PostConstruct on every post...</td>\n",
              "      <td>1</td>\n",
              "      <td>380</td>\n",
              "      <td>279</td>\n",
              "    </tr>\n",
              "    <tr>\n",
              "      <th>3808</th>\n",
              "      <td>a \"+\" sign in email address iphone objective-c...</td>\n",
              "      <td>Team Foundation services are not available fro...</td>\n",
              "      <td>0</td>\n",
              "      <td>362</td>\n",
              "      <td>437</td>\n",
              "    </tr>\n",
              "  </tbody>\n",
              "</table>\n",
              "</div>\n",
              "      <button class=\"colab-df-convert\" onclick=\"convertToInteractive('df-e571f032-828e-4443-b70a-c8f9b3087c5c')\"\n",
              "              title=\"Convert this dataframe to an interactive table.\"\n",
              "              style=\"display:none;\">\n",
              "        \n",
              "  <svg xmlns=\"http://www.w3.org/2000/svg\" height=\"24px\"viewBox=\"0 0 24 24\"\n",
              "       width=\"24px\">\n",
              "    <path d=\"M0 0h24v24H0V0z\" fill=\"none\"/>\n",
              "    <path d=\"M18.56 5.44l.94 2.06.94-2.06 2.06-.94-2.06-.94-.94-2.06-.94 2.06-2.06.94zm-11 1L8.5 8.5l.94-2.06 2.06-.94-2.06-.94L8.5 2.5l-.94 2.06-2.06.94zm10 10l.94 2.06.94-2.06 2.06-.94-2.06-.94-.94-2.06-.94 2.06-2.06.94z\"/><path d=\"M17.41 7.96l-1.37-1.37c-.4-.4-.92-.59-1.43-.59-.52 0-1.04.2-1.43.59L10.3 9.45l-7.72 7.72c-.78.78-.78 2.05 0 2.83L4 21.41c.39.39.9.59 1.41.59.51 0 1.02-.2 1.41-.59l7.78-7.78 2.81-2.81c.8-.78.8-2.07 0-2.86zM5.41 20L4 18.59l7.72-7.72 1.47 1.35L5.41 20z\"/>\n",
              "  </svg>\n",
              "      </button>\n",
              "      \n",
              "  <style>\n",
              "    .colab-df-container {\n",
              "      display:flex;\n",
              "      flex-wrap:wrap;\n",
              "      gap: 12px;\n",
              "    }\n",
              "\n",
              "    .colab-df-convert {\n",
              "      background-color: #E8F0FE;\n",
              "      border: none;\n",
              "      border-radius: 50%;\n",
              "      cursor: pointer;\n",
              "      display: none;\n",
              "      fill: #1967D2;\n",
              "      height: 32px;\n",
              "      padding: 0 0 0 0;\n",
              "      width: 32px;\n",
              "    }\n",
              "\n",
              "    .colab-df-convert:hover {\n",
              "      background-color: #E2EBFA;\n",
              "      box-shadow: 0px 1px 2px rgba(60, 64, 67, 0.3), 0px 1px 3px 1px rgba(60, 64, 67, 0.15);\n",
              "      fill: #174EA6;\n",
              "    }\n",
              "\n",
              "    [theme=dark] .colab-df-convert {\n",
              "      background-color: #3B4455;\n",
              "      fill: #D2E3FC;\n",
              "    }\n",
              "\n",
              "    [theme=dark] .colab-df-convert:hover {\n",
              "      background-color: #434B5C;\n",
              "      box-shadow: 0px 1px 3px 1px rgba(0, 0, 0, 0.15);\n",
              "      filter: drop-shadow(0px 1px 2px rgba(0, 0, 0, 0.3));\n",
              "      fill: #FFFFFF;\n",
              "    }\n",
              "  </style>\n",
              "\n",
              "      <script>\n",
              "        const buttonEl =\n",
              "          document.querySelector('#df-e571f032-828e-4443-b70a-c8f9b3087c5c button.colab-df-convert');\n",
              "        buttonEl.style.display =\n",
              "          google.colab.kernel.accessAllowed ? 'block' : 'none';\n",
              "\n",
              "        async function convertToInteractive(key) {\n",
              "          const element = document.querySelector('#df-e571f032-828e-4443-b70a-c8f9b3087c5c');\n",
              "          const dataTable =\n",
              "            await google.colab.kernel.invokeFunction('convertToInteractive',\n",
              "                                                     [key], {});\n",
              "          if (!dataTable) return;\n",
              "\n",
              "          const docLinkHtml = 'Like what you see? Visit the ' +\n",
              "            '<a target=\"_blank\" href=https://colab.research.google.com/notebooks/data_table.ipynb>data table notebook</a>'\n",
              "            + ' to learn more about interactive tables.';\n",
              "          element.innerHTML = '';\n",
              "          dataTable['output_type'] = 'display_data';\n",
              "          await google.colab.output.renderOutput(dataTable, element);\n",
              "          const docLink = document.createElement('div');\n",
              "          docLink.innerHTML = docLinkHtml;\n",
              "          element.appendChild(docLink);\n",
              "        }\n",
              "      </script>\n",
              "    </div>\n",
              "  </div>\n",
              "  "
            ]
          },
          "metadata": {},
          "execution_count": 4
        }
      ]
    },
    {
      "cell_type": "code",
      "source": [
        "combined_data.info()"
      ],
      "metadata": {
        "colab": {
          "base_uri": "https://localhost:8080/"
        },
        "id": "7Q6lIOwn0qQX",
        "outputId": "7dcea5fe-4faf-44d5-b129-d98e7770908a"
      },
      "execution_count": null,
      "outputs": [
        {
          "output_type": "stream",
          "name": "stdout",
          "text": [
            "<class 'pandas.core.frame.DataFrame'>\n",
            "Int64Index: 40000 entries, 20955 to 215115\n",
            "Data columns (total 5 columns):\n",
            " #   Column       Non-Null Count  Dtype \n",
            "---  ------       --------------  ----- \n",
            " 0   question1    40000 non-null  object\n",
            " 1   question2    40000 non-null  object\n",
            " 2   isDuplicate  40000 non-null  int64 \n",
            " 3   q1len        40000 non-null  int64 \n",
            " 4   q2len        40000 non-null  int64 \n",
            "dtypes: int64(3), object(2)\n",
            "memory usage: 1.8+ MB\n"
          ]
        }
      ]
    },
    {
      "cell_type": "code",
      "source": [
        "MAX_WORDS = 200000\n",
        "\n",
        "tokenizer = Tokenizer(num_words = MAX_WORDS)\n",
        "tokenizer.fit_on_texts(list(combined_data['question1'].values.astype(str)) + list(combined_data['question2'].values.astype(str)))"
      ],
      "metadata": {
        "id": "JfZBkKUK0zrs"
      },
      "execution_count": null,
      "outputs": []
    },
    {
      "cell_type": "code",
      "source": [
        "X_train_q1 = tokenizer.texts_to_sequences(combined_data['question1'].values.astype(str))\n",
        "X_train_q1 = pad_sequences(X_train_q1, maxlen=30, padding='post')\n",
        "\n",
        "\n",
        "X_train_q2 = tokenizer.texts_to_sequences(combined_data['question2'].values.astype(str))\n",
        "X_train_q2 = pad_sequences(X_train_q2, maxlen=30, padding='post')"
      ],
      "metadata": {
        "id": "MNHwWGlo1A5e"
      },
      "execution_count": null,
      "outputs": []
    },
    {
      "cell_type": "code",
      "source": [
        "X_train_q1"
      ],
      "metadata": {
        "colab": {
          "base_uri": "https://localhost:8080/"
        },
        "id": "SLAsEtVMf_a_",
        "outputId": "4ce6412c-762d-495f-ca3f-71fe3c33a274"
      },
      "execution_count": null,
      "outputs": [
        {
          "output_type": "execute_result",
          "data": {
            "text/plain": [
              "array([[  271,  1793,   371, ...,   710, 15395,   657],\n",
              "       [28331,   722,  2365, ...,   585,  1263,   116],\n",
              "       [ 2949,     3,   218, ...,     0,     0,     0],\n",
              "       ...,\n",
              "       [  130,    33,   372, ...,     0,     0,     0],\n",
              "       [    5,    86,   200, ...,     0,     0,     0],\n",
              "       [    7,     6,  5757, ...,     0,     0,     0]], dtype=int32)"
            ]
          },
          "metadata": {},
          "execution_count": 35
        }
      ]
    },
    {
      "cell_type": "code",
      "source": [
        "y = combined_data['isDuplicate']"
      ],
      "metadata": {
        "id": "_FcwIgQe1NLQ"
      },
      "execution_count": null,
      "outputs": []
    },
    {
      "cell_type": "code",
      "source": [
        "with zipfile.ZipFile('/content/drive/MyDrive/unzipped/glove.6B.200d.txt.zip','r') as zip_ref:\n",
        "  zip_ref.extractall('/content/drive/MyDrive/unzipped/')"
      ],
      "metadata": {
        "id": "C-SEFJmF1RCX"
      },
      "execution_count": null,
      "outputs": []
    },
    {
      "cell_type": "code",
      "source": [
        "#Loading Glove word embedding\n",
        "\n",
        "glove_file = open('/content/drive/MyDrive/unzipped/glove.6B.200d.txt','r',encoding='utf-8')"
      ],
      "metadata": {
        "id": "345O9CrR1a6H"
      },
      "execution_count": null,
      "outputs": []
    },
    {
      "cell_type": "code",
      "source": [
        "embeddings_index = {}\n",
        "\n",
        "for line in tqdm(glove_file):\n",
        "  values = line.split(\" \")\n",
        "  word = values[0]\n",
        "  coefs = np.asarray(values[1:], dtype='float32')\n",
        "\n",
        "  embeddings_index[word] = coefs\n",
        "\n",
        "glove_file.close()"
      ],
      "metadata": {
        "colab": {
          "base_uri": "https://localhost:8080/"
        },
        "id": "HvD00AvX1fS7",
        "outputId": "bd2a6ee3-ed0b-42dc-9b44-a97260ce1cfd"
      },
      "execution_count": null,
      "outputs": [
        {
          "output_type": "stream",
          "name": "stderr",
          "text": [
            "400000it [00:14, 28096.39it/s]\n"
          ]
        }
      ]
    },
    {
      "cell_type": "code",
      "source": [
        "list(embeddings_index.items())[0]"
      ],
      "metadata": {
        "colab": {
          "base_uri": "https://localhost:8080/"
        },
        "id": "okNaMmMx1kfU",
        "outputId": "35943cec-b920-4c48-91c2-6be99dc72858"
      },
      "execution_count": null,
      "outputs": [
        {
          "output_type": "execute_result",
          "data": {
            "text/plain": [
              "('the', array([-7.1549e-02,  9.3459e-02,  2.3738e-02, -9.0339e-02,  5.6123e-02,\n",
              "         3.2547e-01, -3.9796e-01, -9.2139e-02,  6.1181e-02, -1.8950e-01,\n",
              "         1.3061e-01,  1.4349e-01,  1.1479e-02,  3.8158e-01,  5.4030e-01,\n",
              "        -1.4088e-01,  2.4315e-01,  2.3036e-01, -5.5339e-01,  4.8154e-02,\n",
              "         4.5662e-01,  3.2338e+00,  2.0199e-02,  4.9019e-02, -1.4132e-02,\n",
              "         7.6017e-02, -1.1527e-01,  2.0060e-01, -7.7657e-02,  2.4328e-01,\n",
              "         1.6368e-01, -3.4118e-01, -6.6070e-02,  1.0152e-01,  3.8232e-02,\n",
              "        -1.7668e-01, -8.8153e-01, -3.3895e-01, -3.5481e-02, -5.5095e-01,\n",
              "        -1.6899e-02, -4.3982e-01,  3.9004e-02,  4.0447e-01, -2.5880e-01,\n",
              "         6.4594e-01,  2.6641e-01,  2.8009e-01, -2.4625e-02,  6.3302e-01,\n",
              "        -3.1700e-01,  1.0271e-01,  3.0886e-01,  9.7792e-02, -3.8227e-01,\n",
              "         8.6552e-02,  4.7075e-02,  2.3511e-01, -3.2127e-01, -2.8538e-01,\n",
              "         1.6670e-01, -4.9707e-03, -6.2714e-01, -2.4904e-01,  2.9713e-01,\n",
              "         1.4379e-01, -1.2325e-01, -5.8178e-02, -1.0290e-03, -8.2126e-02,\n",
              "         3.6935e-01, -5.8442e-04,  3.4286e-01,  2.8426e-01, -6.8599e-02,\n",
              "         6.5747e-01, -2.9087e-02,  1.6184e-01,  7.3672e-02, -3.0343e-01,\n",
              "         9.5733e-02, -5.2860e-01, -2.2898e-01,  6.4079e-02,  1.5218e-02,\n",
              "         3.4921e-01, -4.3960e-01, -4.3983e-01,  7.7515e-01, -8.7767e-01,\n",
              "        -8.7504e-02,  3.9598e-01,  6.2362e-01, -2.6211e-01, -3.0539e-01,\n",
              "        -2.2964e-02,  3.0567e-01,  6.7660e-02,  1.5383e-01, -1.1211e-01,\n",
              "        -9.1540e-02,  8.2562e-02,  1.6897e-01, -3.2952e-02, -2.8775e-01,\n",
              "        -2.2320e-01, -9.0426e-02,  1.2407e+00, -1.8244e-01, -7.5219e-03,\n",
              "        -4.1388e-02, -1.1083e-02,  7.8186e-02,  3.8511e-01,  2.3334e-01,\n",
              "         1.4414e-01, -9.1070e-04, -2.6388e-01, -2.0481e-01,  1.0099e-01,\n",
              "         1.4076e-01,  2.8834e-01, -4.5429e-02,  3.7247e-01,  1.3645e-01,\n",
              "        -6.7457e-01,  2.2786e-01,  1.2599e-01,  2.9091e-02,  3.0428e-02,\n",
              "        -1.3028e-01,  1.9408e-01,  4.9014e-01, -3.9121e-01, -7.5952e-02,\n",
              "         7.4731e-02,  1.8902e-01, -1.6922e-01, -2.6019e-01, -3.9771e-02,\n",
              "        -2.4153e-01,  1.0875e-01,  3.0434e-01,  3.6009e-02,  1.4264e+00,\n",
              "         1.2759e-01, -7.3811e-02, -2.0418e-01,  8.0016e-03,  1.5381e-01,\n",
              "         2.0223e-01,  2.8274e-01,  9.6206e-02, -3.3634e-01,  5.0983e-01,\n",
              "         3.2625e-01, -2.6535e-01,  3.7400e-01, -3.0388e-01, -4.0033e-01,\n",
              "        -4.2910e-02, -6.7897e-02, -2.9332e-01,  1.0978e-01, -4.5365e-02,\n",
              "         2.3222e-01, -3.1134e-01, -2.8983e-01, -6.6687e-01,  5.3097e-01,\n",
              "         1.9461e-01,  3.6670e-01,  2.6185e-01, -6.5187e-01,  1.0266e-01,\n",
              "         1.1363e-01, -1.2953e-01, -6.8246e-01, -1.8751e-01,  1.4760e-01,\n",
              "         1.0765e+00, -2.2908e-01, -9.3435e-03, -2.0651e-01, -3.5225e-01,\n",
              "        -2.6720e-01, -3.4307e-03,  2.5906e-01,  2.1759e-01,  6.6158e-01,\n",
              "         1.2180e-01,  1.9957e-01, -2.0303e-01,  3.4474e-01, -2.4328e-01,\n",
              "         1.3139e-01, -8.8767e-03,  3.3617e-01,  3.0591e-02,  2.5577e-01],\n",
              "       dtype=float32))"
            ]
          },
          "metadata": {},
          "execution_count": 12
        }
      ]
    },
    {
      "cell_type": "code",
      "source": [
        "len(tokenizer.word_index)"
      ],
      "metadata": {
        "colab": {
          "base_uri": "https://localhost:8080/"
        },
        "id": "Bp_BuvOI1msT",
        "outputId": "68fe4d2f-753b-475b-85f5-c5abf9390fc2"
      },
      "execution_count": null,
      "outputs": [
        {
          "output_type": "execute_result",
          "data": {
            "text/plain": [
              "139939"
            ]
          },
          "metadata": {},
          "execution_count": 13
        }
      ]
    },
    {
      "cell_type": "code",
      "source": [
        "#Creating embdding matrix for the words that we have in our training dataset \n",
        "\n",
        "embedding_matrix = np.zeros((len(tokenizer.word_index)+1, 200))\n",
        "\n",
        "for word, index in tqdm(tokenizer.word_index.items()):\n",
        "  embedding_vector = embeddings_index.get(word)\n",
        "\n",
        "  # if the word is present in the embedding_index of the glove later\n",
        "  if embedding_vector is not None:\n",
        "    embedding_matrix[index] = embedding_vector"
      ],
      "metadata": {
        "colab": {
          "base_uri": "https://localhost:8080/"
        },
        "id": "AT2UdZ9g1pLQ",
        "outputId": "b6e81e25-ef8b-4f41-b3e2-138df1207eed"
      },
      "execution_count": null,
      "outputs": [
        {
          "output_type": "stream",
          "name": "stderr",
          "text": [
            "100%|██████████| 139939/139939 [00:00<00:00, 528757.95it/s]\n"
          ]
        }
      ]
    },
    {
      "cell_type": "code",
      "source": [],
      "metadata": {
        "id": "L0RJ3gE12JMf"
      },
      "execution_count": null,
      "outputs": []
    },
    {
      "cell_type": "code",
      "source": [
        "from sklearn.model_selection import train_test_split\n",
        "\n",
        "X_train_q1,X_valid_q1,X_train_q2, X_valid_q2, y_train, y_valid = train_test_split(X_train_q1, X_train_q2, y, test_size=0.20, random_state=12)"
      ],
      "metadata": {
        "id": "4MNOphFY1rBD"
      },
      "execution_count": null,
      "outputs": []
    },
    {
      "cell_type": "code",
      "source": [
        "print(X_train_q1.shape, X_train_q2.shape, y_train.shape)\n",
        "print(X_valid_q1.shape, X_valid_q2.shape, y_valid.shape)"
      ],
      "metadata": {
        "colab": {
          "base_uri": "https://localhost:8080/"
        },
        "id": "knyrqKxS2Iqt",
        "outputId": "2c5c7591-509f-406e-ed81-e3ed4b9204ab"
      },
      "execution_count": null,
      "outputs": [
        {
          "output_type": "stream",
          "name": "stdout",
          "text": [
            "(254820, 30) (254820, 30) (254820,)\n",
            "(63706, 30) (63706, 30) (63706,)\n"
          ]
        }
      ]
    },
    {
      "cell_type": "code",
      "source": [
        "vocab_size = len(tokenizer.word_index) + 1"
      ],
      "metadata": {
        "id": "lI7VBV4W2SZD"
      },
      "execution_count": null,
      "outputs": []
    },
    {
      "cell_type": "code",
      "source": [
        "# Model for the Q1\n",
        "\n",
        "model_q1 = Sequential([Embedding(input_dim = vocab_size, output_dim = 200, weights = [embedding_matrix],input_length=30),\n",
        "                       LSTM(128,activation='tanh',return_sequences=True),\n",
        "                       Dropout(0.2),\n",
        "                       LSTM(128,return_sequences=True),\n",
        "                       LSTM(128),\n",
        "                       Dense(60, activation='tanh'),\n",
        "                       Dense(2, activation='sigmoid')\n",
        "                       ])"
      ],
      "metadata": {
        "id": "IqsAKFNG2UTx"
      },
      "execution_count": null,
      "outputs": []
    },
    {
      "cell_type": "code",
      "source": [
        "# Model for Q2\n",
        "\n",
        "model_q2 = Sequential([Embedding(input_dim = vocab_size,output_dim = 200,weights = [embedding_matrix],input_length = 30),\n",
        "                      LSTM(128, activation = 'tanh', return_sequences = True),\n",
        "                      Dropout(0.2),\n",
        "                      LSTM(128, return_sequences = True),\n",
        "                      LSTM(128),\n",
        "                      Dense(60, activation = 'tanh'),\n",
        "                      Dense(2, activation = 'sigmoid')])"
      ],
      "metadata": {
        "id": "lNmndegC2d-J"
      },
      "execution_count": null,
      "outputs": []
    },
    {
      "cell_type": "code",
      "source": [
        "#Merging the output of the two models\n",
        "\n",
        "mergedOut = multiply([model_q1.output, model_q2.output])"
      ],
      "metadata": {
        "id": "jbnpNoNU2jsH"
      },
      "execution_count": null,
      "outputs": []
    },
    {
      "cell_type": "code",
      "source": [
        "mergedOut = Flatten()(mergedOut)\n",
        "mergedOut = Dense(100, activation = 'relu')(mergedOut)\n",
        "mergedOut = Dropout(0.2)(mergedOut)\n",
        "mergedOut = Dense(50, activation = 'relu')(mergedOut)\n",
        "mergedOut = Dropout(0.2)(mergedOut)\n",
        "mergedOut = Dense(1, activation = 'sigmoid')(mergedOut)\n"
      ],
      "metadata": {
        "id": "UQbnjLJI2lCw"
      },
      "execution_count": null,
      "outputs": []
    },
    {
      "cell_type": "code",
      "source": [
        "new_model_glove = tf.keras.Model([model_q1.input, model_q2.input], mergedOut)\n",
        "\n",
        "new_model_glove.compile(optimizer='adam', loss='binary_crossentropy',metrics=['accuracy'])"
      ],
      "metadata": {
        "id": "U_wjgQo92mLD"
      },
      "execution_count": null,
      "outputs": []
    },
    {
      "cell_type": "code",
      "source": [
        "history_glove = new_model_glove.fit([X_train_q1,X_train_q2],y_train, \n",
        "                        batch_size = 2000, epochs = 15)"
      ],
      "metadata": {
        "colab": {
          "base_uri": "https://localhost:8080/"
        },
        "id": "VXdQ9nfJ2r2K",
        "outputId": "798c1414-4e26-4b59-8028-14fe451b3b0b"
      },
      "execution_count": null,
      "outputs": [
        {
          "output_type": "stream",
          "name": "stdout",
          "text": [
            "Epoch 1/15\n",
            "128/128 [==============================] - 637s 5s/step - loss: 0.6177 - accuracy: 0.6544\n",
            "Epoch 2/15\n",
            "128/128 [==============================] - 635s 5s/step - loss: 0.5294 - accuracy: 0.7374\n",
            "Epoch 3/15\n",
            "128/128 [==============================] - 648s 5s/step - loss: 0.4750 - accuracy: 0.7758\n",
            "Epoch 4/15\n",
            "128/128 [==============================] - 658s 5s/step - loss: 0.4190 - accuracy: 0.8096\n",
            "Epoch 5/15\n",
            "128/128 [==============================] - 645s 5s/step - loss: 0.3666 - accuracy: 0.8367\n",
            "Epoch 6/15\n",
            "128/128 [==============================] - 636s 5s/step - loss: 0.3232 - accuracy: 0.8575\n",
            "Epoch 7/15\n",
            "128/128 [==============================] - 653s 5s/step - loss: 0.2869 - accuracy: 0.8749\n",
            "Epoch 8/15\n",
            "128/128 [==============================] - 649s 5s/step - loss: 0.2565 - accuracy: 0.8898\n",
            "Epoch 9/15\n",
            "128/128 [==============================] - 646s 5s/step - loss: 0.2327 - accuracy: 0.9012\n",
            "Epoch 10/15\n",
            "128/128 [==============================] - 645s 5s/step - loss: 0.2113 - accuracy: 0.9113\n",
            "Epoch 11/15\n",
            "128/128 [==============================] - 645s 5s/step - loss: 0.1923 - accuracy: 0.9204\n",
            "Epoch 12/15\n",
            "128/128 [==============================] - 647s 5s/step - loss: 0.1768 - accuracy: 0.9270\n",
            "Epoch 13/15\n",
            "128/128 [==============================] - 650s 5s/step - loss: 0.1600 - accuracy: 0.9348\n",
            "Epoch 14/15\n",
            "128/128 [==============================] - 650s 5s/step - loss: 0.1456 - accuracy: 0.9416\n",
            "Epoch 15/15\n",
            "128/128 [==============================] - 644s 5s/step - loss: 0.1347 - accuracy: 0.9468\n"
          ]
        }
      ]
    },
    {
      "cell_type": "code",
      "source": [
        "y_pred = new_model_glove.predict([X_valid_q1, X_valid_q2], batch_size=2000, verbose=1)\n",
        "y_pred += new_model_glove.predict([X_valid_q1, X_valid_q2], batch_size=2000, verbose=1)"
      ],
      "metadata": {
        "id": "43FhR7DPmKln",
        "colab": {
          "base_uri": "https://localhost:8080/"
        },
        "outputId": "579a7f51-b1fb-4794-a1ef-f3b9c60f2ce5"
      },
      "execution_count": null,
      "outputs": [
        {
          "output_type": "stream",
          "name": "stdout",
          "text": [
            "32/32 [==============================] - 56s 2s/step\n",
            "32/32 [==============================] - 53s 2s/step\n"
          ]
        }
      ]
    },
    {
      "cell_type": "code",
      "source": [
        "y_pred /= 2"
      ],
      "metadata": {
        "id": "-jhqVMhKmiCX"
      },
      "execution_count": null,
      "outputs": []
    },
    {
      "cell_type": "code",
      "source": [
        "y_pred[0]"
      ],
      "metadata": {
        "id": "tG4VZqBkmvue",
        "colab": {
          "base_uri": "https://localhost:8080/"
        },
        "outputId": "40a0eed7-411a-4f3e-fb33-a31312f944cd"
      },
      "execution_count": null,
      "outputs": [
        {
          "output_type": "execute_result",
          "data": {
            "text/plain": [
              "array([0.9996623], dtype=float32)"
            ]
          },
          "metadata": {},
          "execution_count": 20
        }
      ]
    },
    {
      "cell_type": "code",
      "source": [
        "y_pred = (y_pred > 0.5).astype(np.float32)"
      ],
      "metadata": {
        "id": "-ItKuF5GnHOe"
      },
      "execution_count": null,
      "outputs": []
    },
    {
      "cell_type": "code",
      "source": [
        "from sklearn.metrics import accuracy_score,precision_score,recall_score,f1_score,confusion_matrix\n",
        "\n",
        "\n",
        "def print_metrics(y_test,y_pred,modeltype='Model'):\n",
        "  print(\"The accuracy score for duplicate question detection using \"+modeltype+\" is %f\\n\" %accuracy_score(y_test,y_pred))\n",
        "  print(\"The precision score for duplicate question detection using \"+modeltype+\" is %f\\n\" %precision_score(y_test,y_pred))\n",
        "  print(\"The recall score for duplicate question detection using \"+modeltype+\" is %f\\n\" %recall_score(y_test,y_pred))\n",
        "  print(\"The f1 score for duplicate question detection using \"+modeltype+\" is %f\\n\" %f1_score(y_test,y_pred))\n",
        "  cf_matrix = confusion_matrix(y_test,y_pred)\n",
        "  print(cf_matrix)\n",
        "  sns.heatmap(cf_matrix/np.sum(cf_matrix), annot=True,fmt='.2%', cmap='Blues')"
      ],
      "metadata": {
        "id": "emWrMThfnm2Z"
      },
      "execution_count": null,
      "outputs": []
    },
    {
      "cell_type": "code",
      "source": [
        "print_metrics(y_valid.to_numpy(),y_pred,'LSTM with Glove')"
      ],
      "metadata": {
        "id": "uabm_8vBn0wQ",
        "colab": {
          "base_uri": "https://localhost:8080/",
          "height": 444
        },
        "outputId": "ad3a5b6d-c402-49bb-eb11-ec1a74e0f784"
      },
      "execution_count": null,
      "outputs": [
        {
          "output_type": "stream",
          "name": "stdout",
          "text": [
            "The accuracy score for duplicate question detection using LSTM with Glove is 0.735849\n",
            "\n",
            "The precision score for duplicate question detection using LSTM with Glove is 0.711245\n",
            "\n",
            "The recall score for duplicate question detection using LSTM with Glove is 0.796368\n",
            "\n",
            "The f1 score for duplicate question detection using LSTM with Glove is 0.751403\n",
            "\n",
            "[[21446 10325]\n",
            " [ 6503 25432]]\n"
          ]
        },
        {
          "output_type": "display_data",
          "data": {
            "text/plain": [
              "<Figure size 432x288 with 2 Axes>"
            ],
            "image/png": "[encoded data removed]"
          },
          "metadata": {
            "needs_background": "light"
          }
        }
      ]
    },
    {
      "cell_type": "code",
      "source": [
        "from keras.utils.vis_utils import plot_model\n",
        "\n",
        "\n",
        "plot_model(new_model_glove,show_layer_names=True,show_shapes=True)"
      ],
      "metadata": {
        "id": "o1ZTEjaa20xl",
        "colab": {
          "base_uri": "https://localhost:8080/",
          "height": 1000
        },
        "outputId": "ff09f732-8718-4d1a-c92e-b29161ffd453"
      },
      "execution_count": null,
      "outputs": [
        {
          "output_type": "execute_result",
          "data": {
            "image/png": "[encoded data removed]",
            "text/plain": [
              "<IPython.core.display.Image object>"
            ]
          },
          "metadata": {},
          "execution_count": 24
        }
      ]
    },
    {
      "cell_type": "code",
      "source": [
        "history_glove.history.keys()"
      ],
      "metadata": {
        "id": "p1t9ML7iHKqj"
      },
      "execution_count": null,
      "outputs": []
    },
    {
      "cell_type": "code",
      "source": [
        "def plot_acc_loss_curves(history):\n",
        "  acc = history.history['accuracy']\n",
        "  loss = history.history['loss']\n",
        "\n",
        "  epochs = range(1, len(acc) + 1)\n",
        "\n",
        "  plt.plot(epochs, acc, 'bo', label='Training acc')\n",
        "  plt.plot(epochs, loss, 'r', label='Training loss')\n",
        "  plt.title('Training accuracy and loss')\n",
        "  plt.legend()\n",
        "\n",
        "  plt.show()"
      ],
      "metadata": {
        "id": "7Hq7yPvIGKH1"
      },
      "execution_count": null,
      "outputs": []
    },
    {
      "cell_type": "code",
      "source": [
        "plot_acc_loss_curves(history=history_glove)"
      ],
      "metadata": {
        "id": "cEcXNAV6JwBd",
        "colab": {
          "base_uri": "https://localhost:8080/",
          "height": 281
        },
        "outputId": "c2d2a883-9f6a-4f83-bca9-9a7faf492ccc"
      },
      "execution_count": null,
      "outputs": [
        {
          "output_type": "display_data",
          "data": {
            "text/plain": [
              "<Figure size 432x288 with 1 Axes>"
            ],
            "image/png": "[encoded data removed]"
          },
          "metadata": {
            "needs_background": "light"
          }
        }
      ]
    },
    {
      "cell_type": "code",
      "source": [
        "# Modification starts from here in order to change it to word2vec embedding\n",
        "\n",
        "def build_corpus(data):\n",
        "    \"Creates a list of lists containing words from each sentence - as word2vec only supports the input to be list of lists\"\n",
        "    corpus = []\n",
        "    for col in ['question1', 'question2']:\n",
        "        for sentence in data[col].iteritems():\n",
        "            word_list = sentence[1].split(\" \")\n",
        "            corpus.append(word_list)\n",
        "            \n",
        "    return corpus"
      ],
      "metadata": {
        "id": "lKh2MP9N2xUa"
      },
      "execution_count": null,
      "outputs": []
    },
    {
      "cell_type": "code",
      "source": [
        "corpus = build_corpus(combined_data)"
      ],
      "metadata": {
        "id": "gw3uPuWj7PEL"
      },
      "execution_count": null,
      "outputs": []
    },
    {
      "cell_type": "code",
      "source": [
        "## Creating the word2Vec model\n",
        "from gensim.models import word2vec\n",
        "\n",
        "word2vec_model = word2vec.Word2Vec(corpus, size=200, window=20, min_count=200, workers=4)"
      ],
      "metadata": {
        "id": "QEvEpN4Y7U_C"
      },
      "execution_count": null,
      "outputs": []
    },
    {
      "cell_type": "code",
      "source": [
        "word2vec_model.train(corpus,epochs=10,total_examples=len(corpus))"
      ],
      "metadata": {
        "id": "_dHlMoJN7YuE",
        "colab": {
          "base_uri": "https://localhost:8080/"
        },
        "outputId": "b5f48966-1f9c-45f5-baf9-7a6d86f4d522"
      },
      "execution_count": null,
      "outputs": [
        {
          "output_type": "stream",
          "name": "stderr",
          "text": [
            "WARNING:gensim.models.base_any2vec:Effective 'alpha' higher than previous training cycles\n"
          ]
        },
        {
          "output_type": "execute_result",
          "data": {
            "text/plain": [
              "(48727300, 82161320)"
            ]
          },
          "metadata": {},
          "execution_count": 9
        }
      ]
    },
    {
      "cell_type": "code",
      "source": [
        "# embedding of a particular word.\n",
        "word2vec_model.wv.get_vector('play')"
      ],
      "metadata": {
        "id": "mcySqpnJ8FOR",
        "colab": {
          "base_uri": "https://localhost:8080/"
        },
        "outputId": "ce61c509-ae1d-4ea4-f538-c20c2a02d151"
      },
      "execution_count": null,
      "outputs": [
        {
          "output_type": "execute_result",
          "data": {
            "text/plain": [
              "array([-1.6661412 , -1.4736875 ,  1.041721  , -1.7642025 ,  1.5849365 ,\n",
              "       -0.8638434 , -0.03218809,  1.0636398 ,  0.2541314 ,  1.0483611 ,\n",
              "        0.13396741,  2.4767303 ,  0.9363006 , -1.3045919 ,  1.2646425 ,\n",
              "        3.647457  ,  3.427061  ,  0.6142606 ,  0.00800931,  0.18736953,\n",
              "       -0.08342563, -0.1801598 ,  1.660177  , -1.6430933 ,  0.31246504,\n",
              "       -0.5502294 , -1.1904477 , -0.4214448 ,  1.1281136 , -1.4035602 ,\n",
              "        2.926488  , -0.09762037,  1.187703  ,  0.62127125, -2.0857317 ,\n",
              "        1.9493186 ,  1.0594959 , -0.19473018, -0.9199101 , -0.7957995 ,\n",
              "        0.66303426, -2.2675552 ,  0.05339527,  2.1865575 ,  0.39711735,\n",
              "       -1.8482145 ,  1.1829628 ,  0.07839173,  1.0033203 ,  2.2598195 ,\n",
              "        2.252415  ,  2.2404208 , -1.3418697 , -0.17897564,  2.920449  ,\n",
              "       -1.7692946 , -0.22041446, -0.7801243 ,  1.0352584 ,  0.66589415,\n",
              "       -1.3541274 , -2.5947027 ,  0.9546444 ,  2.1662862 , -1.3617665 ,\n",
              "        2.1650841 , -2.5397077 ,  1.9801517 ,  0.39964673,  0.034488  ,\n",
              "       -0.38144153, -1.6562886 ,  2.0941198 ,  0.08404345,  0.60004216,\n",
              "       -0.51832134,  1.5020907 , -0.2667463 , -0.6947552 ,  1.4342206 ,\n",
              "       -0.6217657 , -1.7796254 , -2.7150018 ,  0.3687854 ,  0.743953  ,\n",
              "       -0.45436132,  0.3262174 ,  0.82939875, -2.9648955 ,  3.0401578 ,\n",
              "        0.47774738, -1.3872474 ,  0.09564957,  1.7370366 ,  1.5888726 ,\n",
              "        2.124447  ,  0.20683616,  1.1055702 ,  0.3914279 , -0.6575088 ,\n",
              "       -0.04672216, -0.5952611 ,  1.9004676 ,  0.6511275 , -0.6061378 ,\n",
              "       -0.3943329 ,  2.7759743 ,  0.7672644 ,  0.80012476, -1.7500014 ,\n",
              "       -0.16980432,  1.000076  , -1.3294793 , -0.06905569, -1.4752992 ,\n",
              "        1.5824524 ,  0.8044687 , -0.9713135 ,  0.03386474,  1.1040639 ,\n",
              "       -1.474416  ,  1.5939531 ,  1.5029259 , -0.00875345,  0.3270169 ,\n",
              "       -0.48567027,  0.71336526,  1.2099165 ,  0.48693246, -1.426803  ,\n",
              "        0.17801142, -0.2400414 , -2.664054  , -1.2822673 , -0.6868114 ,\n",
              "        0.3980545 ,  0.9222036 ,  1.7332928 ,  1.3744962 , -2.383024  ,\n",
              "        1.2736579 , -2.0829906 , -3.0592835 , -1.8832883 , -0.06701463,\n",
              "        0.8277375 ,  0.06022881, -3.5282    ,  1.9903258 ,  0.86562824,\n",
              "       -1.1621643 ,  2.7381287 ,  0.8888765 , -0.4928523 ,  1.7501761 ,\n",
              "       -1.4161074 , -1.4798034 , -0.5494892 , -0.63636696, -0.26706576,\n",
              "       -0.8264493 ,  1.2214848 ,  2.4009836 ,  0.2945248 ,  1.3289219 ,\n",
              "        1.0859172 , -0.36022323, -1.1567309 ,  1.0117913 , -0.17303966,\n",
              "        0.27795693,  0.17375775, -2.0267725 , -0.10465814, -0.06549989,\n",
              "       -2.3218277 , -1.5976028 ,  0.23558691, -2.3330312 , -0.7194903 ,\n",
              "        0.25871664, -0.2672568 , -3.0278225 , -0.93012685,  2.7650154 ,\n",
              "        0.8381739 , -0.95447177,  0.66568166,  0.75615263,  0.13111912,\n",
              "       -1.2857343 ,  2.1035576 ,  1.694829  , -0.30818647, -0.91008306,\n",
              "        2.2923656 ,  1.1352905 , -1.8059295 ,  0.97840685, -4.379883  ],\n",
              "      dtype=float32)"
            ]
          },
          "metadata": {},
          "execution_count": 10
        }
      ]
    },
    {
      "cell_type": "code",
      "source": [
        "# total numberof extracted words.\n",
        "vocab=word2vec_model.wv.vocab\n",
        "print(\"The total number of words are : \",len(vocab))"
      ],
      "metadata": {
        "id": "uGw40SsG-RV1",
        "colab": {
          "base_uri": "https://localhost:8080/"
        },
        "outputId": "3a87f50b-4514-4bf8-d1fc-2c93cf965321"
      },
      "execution_count": null,
      "outputs": [
        {
          "output_type": "stream",
          "name": "stdout",
          "text": [
            "The total number of words are :  3550\n"
          ]
        }
      ]
    },
    {
      "cell_type": "code",
      "source": [
        "# words most similar to a given word.\n",
        "word2vec_model.wv.most_similar('play')"
      ],
      "metadata": {
        "id": "S1EdzVfs-X7N",
        "colab": {
          "base_uri": "https://localhost:8080/"
        },
        "outputId": "4761f185-b635-4328-e24e-b1fc053e21ed"
      },
      "execution_count": null,
      "outputs": [
        {
          "output_type": "execute_result",
          "data": {
            "text/plain": [
              "[('sound', 0.4382355809211731),\n",
              " ('playing', 0.4304750859737396),\n",
              " ('player', 0.4174354672431946),\n",
              " ('music', 0.41359883546829224),\n",
              " ('audio', 0.4130435585975647),\n",
              " ('played', 0.39681705832481384),\n",
              " ('guitar', 0.37220513820648193),\n",
              " ('video', 0.3701932430267334),\n",
              " ('start', 0.36623334884643555),\n",
              " ('listen', 0.354325532913208)]"
            ]
          },
          "metadata": {},
          "execution_count": 12
        }
      ]
    },
    {
      "cell_type": "code",
      "source": [
        "# similaraity b/w two words\n",
        "word2vec_model.wv.similarity('good','like')"
      ],
      "metadata": {
        "id": "iuXlsGad-qBl",
        "colab": {
          "base_uri": "https://localhost:8080/"
        },
        "outputId": "6523bcc3-1252-40bf-955b-a014691b40a3"
      },
      "execution_count": null,
      "outputs": [
        {
          "output_type": "execute_result",
          "data": {
            "text/plain": [
              "0.24015914"
            ]
          },
          "metadata": {},
          "execution_count": 13
        }
      ]
    },
    {
      "cell_type": "code",
      "source": [
        "print(\"The no of words :\",len(vocab))\n",
        "# print(vocab)"
      ],
      "metadata": {
        "id": "mbPVwfjd-tRK",
        "colab": {
          "base_uri": "https://localhost:8080/"
        },
        "outputId": "6c25c42d-d9c7-4604-eed5-b19fc3ec4c6b"
      },
      "execution_count": null,
      "outputs": [
        {
          "output_type": "stream",
          "name": "stdout",
          "text": [
            "The no of words : 3550\n"
          ]
        }
      ]
    },
    {
      "cell_type": "code",
      "source": [
        "word_vec_dict={}\n",
        "\n",
        "for word in vocab:\n",
        "  word_vec_dict[word]=word2vec_model.wv.get_vector(word)"
      ],
      "metadata": {
        "id": "EIoBrFqk-vmr"
      },
      "execution_count": null,
      "outputs": []
    },
    {
      "cell_type": "code",
      "source": [
        "# now creating the embedding matrix\n",
        "embed_matrix=np.zeros((len(tokenizer.word_index)+1, 200))\n",
        "for word,i in tqdm(tokenizer.word_index.items()):\n",
        "  embed_vector = word_vec_dict.get(word)\n",
        "\n",
        "  if embed_vector is not None:  # word is in the vocabulary learned by the w2v model\n",
        "    embed_matrix[i]=embed_vector\n",
        "  # if word is not found then embed_vector corressponding to that vector will stay zero."
      ],
      "metadata": {
        "id": "ERm0pVuTAIOo",
        "colab": {
          "base_uri": "https://localhost:8080/"
        },
        "outputId": "d81910aa-1e0e-43be-c07c-07fe47152304"
      },
      "execution_count": null,
      "outputs": [
        {
          "output_type": "stream",
          "name": "stderr",
          "text": [
            "100%|██████████| 139939/139939 [00:00<00:00, 1254226.63it/s]\n"
          ]
        }
      ]
    },
    {
      "cell_type": "code",
      "source": [
        "# checking.\n",
        "print(embed_matrix[14])"
      ],
      "metadata": {
        "id": "wG7cgz_qA21i",
        "colab": {
          "base_uri": "https://localhost:8080/"
        },
        "outputId": "ecf1dc2f-d192-4ece-82af-9a9dbc3ac632"
      },
      "execution_count": null,
      "outputs": [
        {
          "output_type": "stream",
          "name": "stdout",
          "text": [
            "[ 1.24578345  0.11594974 -0.09019105  0.16318893 -0.94260812  0.37687671\n",
            " -0.02378231  0.56035423 -0.33055642 -1.2840873   0.29892734  0.20919423\n",
            "  0.14376801  1.64699447  2.10312009 -0.94365668 -1.0470891   0.59723818\n",
            "  1.73147452  1.44384742 -0.24695659 -0.03811959  0.3045437   0.21856719\n",
            " -0.20002024  1.60999489 -0.70332062 -0.36361194 -1.56010652  0.13519238\n",
            "  0.49697763  1.27125728  0.95948339 -0.67942971 -1.79215837  0.46474802\n",
            " -0.54387367  0.04004367  0.18052498  1.23572659  1.51795816 -0.76962411\n",
            " -0.90063572 -0.91287512 -1.2217859   0.61339206 -1.39309812  0.76815999\n",
            " -0.75145364 -0.0505941  -0.76508534  0.40422514  0.62515986 -0.86846435\n",
            "  0.48406476  0.71234328  0.05905409 -0.20806672 -1.53122783  0.05780181\n",
            " -1.52571738  0.52016318 -4.31319571 -1.29350829  0.33205307  0.50199002\n",
            " -0.06961012 -0.80711091  0.88651687  0.89342827  1.93407035 -1.03229535\n",
            " -0.92978191 -0.08856789 -0.2331453  -1.21733153  0.50302094  0.22577955\n",
            " -1.70775247 -0.65074456  0.85838407  0.8312844   0.23872381  0.48280218\n",
            "  0.79258257 -0.31768921  0.86920708 -0.87745821  0.0571439  -0.4158676\n",
            "  0.13555801 -0.7239024  -0.00915626  0.3295303  -1.23534739  0.10581028\n",
            " -0.24281329 -0.5124889  -0.65527773 -0.61177903 -0.81986576 -0.53156596\n",
            "  0.893969    0.98055732  0.85061628  0.27502668 -0.23294173 -0.07331597\n",
            "  1.457618    0.38237646  0.01810701 -1.13019776  0.40271893  0.52413666\n",
            "  0.00747092 -0.5165962  -1.30698144  1.18780982 -1.7451551   0.72705072\n",
            " -0.0356027  -0.90296572  1.1085459  -0.13435848  2.24564052 -1.0713402\n",
            "  1.50538611 -0.86388993 -0.74337709  1.44006205 -0.32724628  0.36147663\n",
            " -0.9423157   1.08755302  0.84727234  2.23529196  2.52215123  0.8772096\n",
            " -1.0978359   0.16762464  0.03701998  0.74129349  0.91435343 -1.23564661\n",
            " -1.51560748  0.08205024  1.97630847  0.21959569  1.01851916  0.19338043\n",
            "  0.13075793  0.07370485 -0.73143733 -1.32420957  0.89078093  0.12901734\n",
            "  0.39352617 -1.15517807 -0.3245717   0.6703912   0.90675557  0.9069531\n",
            "  0.34451455 -1.56746387  1.57342517 -0.6329627   0.38973156  1.92451537\n",
            " -0.69586414  1.51001537 -0.04144001  0.10530563 -0.13194022  1.03928041\n",
            " -1.28878582 -0.3059023  -1.04583681 -0.9843508   2.07696176 -0.52964675\n",
            "  0.28441334  1.06786203  0.59017009 -0.44855934 -1.37598193 -1.08680832\n",
            "  1.51606882  0.50464439  0.61684614  0.95319659 -0.75623083  0.06856358\n",
            "  0.09279781  0.6819545   0.77010524 -0.49579048 -0.24355909  0.92435586\n",
            "  0.09467871  0.85841531]\n"
          ]
        }
      ]
    },
    {
      "cell_type": "code",
      "source": [
        "# Model for the Q1 - Using Word2Vec\n",
        "\n",
        "model_q1 = Sequential([Embedding(input_dim = vocab_size, output_dim = 200, weights = [embed_matrix],input_length=30),\n",
        "                       LSTM(128,activation='tanh',return_sequences=True),\n",
        "                       Dropout(0.2),\n",
        "                       LSTM(128,return_sequences=True),\n",
        "                       LSTM(128),\n",
        "                       Dense(60, activation='tanh'),\n",
        "                       Dense(2, activation='sigmoid')\n",
        "                       ])"
      ],
      "metadata": {
        "id": "LBMCSuq3BDdm"
      },
      "execution_count": null,
      "outputs": []
    },
    {
      "cell_type": "code",
      "source": [
        "# Model for Q2 - Using Word2Vec\n",
        "\n",
        "model_q2 = Sequential([Embedding(input_dim = vocab_size,output_dim = 200,weights = [embed_matrix],input_length = 30),\n",
        "                      LSTM(128, activation = 'tanh', return_sequences = True),\n",
        "                      Dropout(0.2),\n",
        "                      LSTM(128, return_sequences = True),\n",
        "                      LSTM(128),\n",
        "                      Dense(60, activation = 'tanh'),\n",
        "                      Dense(2, activation = 'sigmoid')])"
      ],
      "metadata": {
        "id": "Y_NxbhyVBWso"
      },
      "execution_count": null,
      "outputs": []
    },
    {
      "cell_type": "code",
      "source": [
        "#Merging the output of the two models\n",
        "\n",
        "mergedOut = multiply([model_q1.output, model_q2.output])"
      ],
      "metadata": {
        "id": "KgdaQrerBlGa"
      },
      "execution_count": null,
      "outputs": []
    },
    {
      "cell_type": "code",
      "source": [
        "mergedOut = Flatten()(mergedOut)\n",
        "mergedOut = Dense(100, activation = 'relu')(mergedOut)\n",
        "mergedOut = Dropout(0.2)(mergedOut)\n",
        "mergedOut = Dense(50, activation = 'relu')(mergedOut)\n",
        "mergedOut = Dropout(0.2)(mergedOut)\n",
        "mergedOut = Dense(1, activation = 'sigmoid')(mergedOut)"
      ],
      "metadata": {
        "id": "9S3V0zY4rRED"
      },
      "execution_count": null,
      "outputs": []
    },
    {
      "cell_type": "code",
      "source": [
        "new_model_word2vec = tf.keras.Model([model_q1.input, model_q2.input], mergedOut)\n",
        "\n",
        "new_model_word2vec.compile(optimizer='adam', loss='binary_crossentropy',metrics=['accuracy'])"
      ],
      "metadata": {
        "id": "RyblknQZBoID"
      },
      "execution_count": null,
      "outputs": []
    },
    {
      "cell_type": "code",
      "source": [
        "history_word2vec = new_model_word2vec.fit([X_train_q1,X_train_q2],y_train,  \n",
        "                        batch_size = 2000, epochs = 15)"
      ],
      "metadata": {
        "id": "ywji8T5hBs15",
        "colab": {
          "base_uri": "https://localhost:8080/"
        },
        "outputId": "425b1b81-87a9-4a27-e139-f72ed6ef6f0a"
      },
      "execution_count": null,
      "outputs": [
        {
          "output_type": "stream",
          "name": "stdout",
          "text": [
            "Epoch 1/15\n",
            "128/128 [==============================] - 35s 150ms/step - loss: 0.6163 - accuracy: 0.6665\n",
            "Epoch 2/15\n",
            "128/128 [==============================] - 20s 153ms/step - loss: 0.5423 - accuracy: 0.7278\n",
            "Epoch 3/15\n",
            "128/128 [==============================] - 20s 155ms/step - loss: 0.4926 - accuracy: 0.7637\n",
            "Epoch 4/15\n",
            "128/128 [==============================] - 20s 157ms/step - loss: 0.4420 - accuracy: 0.7953\n",
            "Epoch 5/15\n",
            "128/128 [==============================] - 20s 159ms/step - loss: 0.3897 - accuracy: 0.8259\n",
            "Epoch 6/15\n",
            "128/128 [==============================] - 20s 159ms/step - loss: 0.3408 - accuracy: 0.8519\n",
            "Epoch 7/15\n",
            "128/128 [==============================] - 20s 157ms/step - loss: 0.2970 - accuracy: 0.8739\n",
            "Epoch 8/15\n",
            "128/128 [==============================] - 20s 157ms/step - loss: 0.2564 - accuracy: 0.8939\n",
            "Epoch 9/15\n",
            "128/128 [==============================] - 20s 158ms/step - loss: 0.2236 - accuracy: 0.9086\n",
            "Epoch 10/15\n",
            "128/128 [==============================] - 20s 158ms/step - loss: 0.1909 - accuracy: 0.9248\n",
            "Epoch 11/15\n",
            "128/128 [==============================] - 20s 158ms/step - loss: 0.1643 - accuracy: 0.9360\n",
            "Epoch 12/15\n",
            "128/128 [==============================] - 20s 158ms/step - loss: 0.1434 - accuracy: 0.9453\n",
            "Epoch 13/15\n",
            "128/128 [==============================] - 20s 159ms/step - loss: 0.1242 - accuracy: 0.9534\n",
            "Epoch 14/15\n",
            "128/128 [==============================] - 20s 158ms/step - loss: 0.1085 - accuracy: 0.9602\n",
            "Epoch 15/15\n",
            "128/128 [==============================] - 20s 158ms/step - loss: 0.0950 - accuracy: 0.9658\n"
          ]
        }
      ]
    },
    {
      "cell_type": "code",
      "source": [
        "y_pred = new_model_word2vec.predict([X_valid_q1, X_valid_q2], batch_size=2000, verbose=1)\n",
        "y_pred += new_model_word2vec.predict([X_valid_q1, X_valid_q2], batch_size=2000, verbose=1)\n",
        "y_pred /= 2"
      ],
      "metadata": {
        "id": "BqxHmKk4NgL5",
        "colab": {
          "base_uri": "https://localhost:8080/"
        },
        "outputId": "249ebffa-1f77-4b45-8f03-8a37680d6e95"
      },
      "execution_count": null,
      "outputs": [
        {
          "output_type": "stream",
          "name": "stdout",
          "text": [
            "32/32 [==============================] - 3s 45ms/step\n",
            "32/32 [==============================] - 1s 44ms/step\n"
          ]
        }
      ]
    },
    {
      "cell_type": "code",
      "source": [
        "y_pred = (y_pred > 0.5).astype(np.float32)"
      ],
      "metadata": {
        "id": "IauSIxoPEYcd"
      },
      "execution_count": null,
      "outputs": []
    },
    {
      "cell_type": "code",
      "source": [
        "plot_acc_loss_curves(history_word2vec)"
      ],
      "metadata": {
        "id": "mavqsTADKkXa",
        "colab": {
          "base_uri": "https://localhost:8080/",
          "height": 281
        },
        "outputId": "f2723e0c-147a-4fd4-afc1-63f65556d7b9"
      },
      "execution_count": null,
      "outputs": [
        {
          "output_type": "display_data",
          "data": {
            "text/plain": [
              "<Figure size 432x288 with 1 Axes>"
            ],
            "image/png": "[encoded data removed]"
          },
          "metadata": {
            "needs_background": "light"
          }
        }
      ]
    },
    {
      "cell_type": "code",
      "source": [
        "print_metrics(y_valid.to_numpy(),y_pred,'LSTM with word2vec')"
      ],
      "metadata": {
        "id": "aKj_xNBSES_l",
        "colab": {
          "base_uri": "https://localhost:8080/",
          "height": 444
        },
        "outputId": "f737320f-180c-4033-a3a4-10eb68cf2cb1"
      },
      "execution_count": null,
      "outputs": [
        {
          "output_type": "stream",
          "name": "stdout",
          "text": [
            "The accuracy score for duplicate question detection using LSTM with word2vec is 0.734892\n",
            "\n",
            "The precision score for duplicate question detection using LSTM with word2vec is 0.713201\n",
            "\n",
            "The recall score for duplicate question detection using LSTM with word2vec is 0.788038\n",
            "\n",
            "The f1 score for duplicate question detection using LSTM with word2vec is 0.748754\n",
            "\n",
            "[[21651 10120]\n",
            " [ 6769 25166]]\n"
          ]
        },
        {
          "output_type": "display_data",
          "data": {
            "text/plain": [
              "<Figure size 432x288 with 2 Axes>"
            ],
            "image/png": "[encoded data removed]"
          },
          "metadata": {
            "needs_background": "light"
          }
        }
      ]
    },
    {
      "cell_type": "code",
      "source": [
        "from keras.utils.vis_utils import plot_model\n",
        "\n",
        "\n",
        "plot_model(new_model_glove,show_layer_names=True,show_shapes=True)"
      ],
      "metadata": {
        "id": "GSkOhvf-BveI"
      },
      "execution_count": null,
      "outputs": []
    },
    {
      "cell_type": "code",
      "source": [
        "from keras.models import load_model\n",
        "    \n",
        "# new_model_glove.save('my_model_Glove.h5')  # creates a HDF5 file 'my_model.h5'"
      ],
      "metadata": {
        "id": "Ddx8hddcB-_c"
      },
      "execution_count": null,
      "outputs": []
    },
    {
      "cell_type": "code",
      "source": [
        "# new_model_word2vec.save('my_model_Word2Vec.h5') "
      ],
      "metadata": {
        "id": "eoKURunrCif4"
      },
      "execution_count": null,
      "outputs": []
    },
    {
      "cell_type": "code",
      "source": [
        "#  model = load_model('my_model.h5')"
      ],
      "metadata": {
        "id": "KUsBUO2vCpSk"
      },
      "execution_count": null,
      "outputs": []
    }
  ]
}